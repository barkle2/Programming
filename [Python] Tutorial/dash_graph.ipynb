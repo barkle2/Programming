{
  "nbformat": 4,
  "nbformat_minor": 0,
  "metadata": {
    "colab": {
      "name": "dash_graph.ipynb",
      "provenance": [],
      "authorship_tag": "ABX9TyPi3i7BHWLbHaE6MAyuQtpH",
      "include_colab_link": true
    },
    "kernelspec": {
      "name": "python3",
      "display_name": "Python 3"
    }
  },
  "cells": [
    {
      "cell_type": "markdown",
      "metadata": {
        "id": "view-in-github",
        "colab_type": "text"
      },
      "source": [
        "<a href=\"https://colab.research.google.com/github/barkle2/Programming/blob/master/%5BPython%5D%20Tutorial/dash_graph.ipynb\" target=\"_parent\"><img src=\"https://colab.research.google.com/assets/colab-badge.svg\" alt=\"Open In Colab\"/></a>"
      ]
    },
    {
      "cell_type": "code",
      "metadata": {
        "id": "ZdUg3URzaocV"
      },
      "source": [
        "#!pip install dash"
      ],
      "execution_count": 4,
      "outputs": []
    },
    {
      "cell_type": "markdown",
      "metadata": {
        "id": "vsaw8_ODa5h6"
      },
      "source": [
        "- import dash library"
      ]
    },
    {
      "cell_type": "code",
      "metadata": {
        "id": "ezlMOzq2aXy9"
      },
      "source": [
        "import dash\r\n",
        "import dash_core_components as dcc\r\n",
        "import dash_html_components as html\r\n",
        "import plotly.express as px\r\n",
        "import pandas as pd"
      ],
      "execution_count": 3,
      "outputs": []
    },
    {
      "cell_type": "markdown",
      "metadata": {
        "id": "MQ-NpFZRa-7M"
      },
      "source": [
        "csv 파일에서 DataFrame을 읽어온다"
      ]
    },
    {
      "cell_type": "code",
      "metadata": {
        "id": "WzqVv1cia1RK"
      },
      "source": [
        "# csv 파일 읽어서 DataFrame 만들기\r\n",
        "df = pd.read_csv('https://raw.githubusercontent.com/barkle2/Programming/master/%5BPython%5D%20Tutorial/%EA%B2%BD%EC%A0%9C%ED%99%9C%EB%8F%99%EC%9D%B8%EA%B5%AC%EC%A1%B0%EC%82%AC(utf-8-sig).csv')"
      ],
      "execution_count": 15,
      "outputs": []
    },
    {
      "cell_type": "code",
      "metadata": {
        "colab": {
          "base_uri": "https://localhost:8080/"
        },
        "id": "b0nxWNyYdU6C",
        "outputId": "fb908fed-d567-43b6-cb8b-3288da18d213"
      },
      "source": [
        "df.shape"
      ],
      "execution_count": 17,
      "outputs": [
        {
          "output_type": "execute_result",
          "data": {
            "text/plain": [
              "(41280, 17)"
            ]
          },
          "metadata": {
            "tags": []
          },
          "execution_count": 17
        }
      ]
    },
    {
      "cell_type": "code",
      "metadata": {
        "colab": {
          "base_uri": "https://localhost:8080/",
          "height": 169
        },
        "id": "WK_ffoHdcDvb",
        "outputId": "d776ab5f-e96c-4edc-dff5-488cac22db9d"
      },
      "source": [
        "df.head(1)"
      ],
      "execution_count": 19,
      "outputs": [
        {
          "output_type": "execute_result",
          "data": {
            "text/html": [
              "<div>\n",
              "<style scoped>\n",
              "    .dataframe tbody tr th:only-of-type {\n",
              "        vertical-align: middle;\n",
              "    }\n",
              "\n",
              "    .dataframe tbody tr th {\n",
              "        vertical-align: top;\n",
              "    }\n",
              "\n",
              "    .dataframe thead th {\n",
              "        text-align: right;\n",
              "    }\n",
              "</style>\n",
              "<table border=\"1\" class=\"dataframe\">\n",
              "  <thead>\n",
              "    <tr style=\"text-align: right;\">\n",
              "      <th></th>\n",
              "      <th>Unnamed: 0</th>\n",
              "      <th>TBL_NM</th>\n",
              "      <th>PRD_DE</th>\n",
              "      <th>TBL_ID</th>\n",
              "      <th>ITM_NM</th>\n",
              "      <th>ITM_NM_ENG</th>\n",
              "      <th>ITM_ID</th>\n",
              "      <th>UNIT_NM</th>\n",
              "      <th>ORG_ID</th>\n",
              "      <th>UNIT_NM_ENG</th>\n",
              "      <th>C1_OBJ_NM</th>\n",
              "      <th>C1_OBJ_NM_ENG</th>\n",
              "      <th>DT</th>\n",
              "      <th>PRD_SE</th>\n",
              "      <th>C1</th>\n",
              "      <th>C1_NM</th>\n",
              "      <th>C1_NM_ENG</th>\n",
              "    </tr>\n",
              "  </thead>\n",
              "  <tbody>\n",
              "    <tr>\n",
              "      <th>0</th>\n",
              "      <td>0</td>\n",
              "      <td>연령별 경제활동인구 총괄</td>\n",
              "      <td>199906</td>\n",
              "      <td>DT_1DA7002S</td>\n",
              "      <td>인구</td>\n",
              "      <td>Population 15 years old and over</td>\n",
              "      <td>T10</td>\n",
              "      <td>천명</td>\n",
              "      <td>101</td>\n",
              "      <td>Thousand Person</td>\n",
              "      <td>연령계층별</td>\n",
              "      <td>By age group</td>\n",
              "      <td>35737.0</td>\n",
              "      <td>M</td>\n",
              "      <td>0</td>\n",
              "      <td>15세 이상 전체</td>\n",
              "      <td>Total</td>\n",
              "    </tr>\n",
              "  </tbody>\n",
              "</table>\n",
              "</div>"
            ],
            "text/plain": [
              "   Unnamed: 0         TBL_NM  PRD_DE  ... C1      C1_NM C1_NM_ENG\n",
              "0           0  연령별 경제활동인구 총괄  199906  ...  0  15세 이상 전체     Total\n",
              "\n",
              "[1 rows x 17 columns]"
            ]
          },
          "metadata": {
            "tags": []
          },
          "execution_count": 19
        }
      ]
    },
    {
      "cell_type": "markdown",
      "metadata": {
        "id": "11vYENStkL3r"
      },
      "source": [
        "- 그래프 그릴 때 필요한 컬럼만 추출"
      ]
    },
    {
      "cell_type": "code",
      "metadata": {
        "id": "oFX7H5dQbkk9"
      },
      "source": [
        "df = df[['PRD_DE', 'ITM_NM', 'C1_NM', 'DT']]"
      ],
      "execution_count": 44,
      "outputs": []
    },
    {
      "cell_type": "markdown",
      "metadata": {
        "id": "PCIuiAGvkQKr"
      },
      "source": [
        "- YEAR, MONTH 컬럼을 추가한다"
      ]
    },
    {
      "cell_type": "code",
      "metadata": {
        "id": "A9OVHQ5bgvKA"
      },
      "source": [
        "df['YEAR'] = df.PRD_DE.astype(str).str[:4]\r\n",
        "df['MONTH'] = df.PRD_DE.astype(str).str[4:]"
      ],
      "execution_count": 45,
      "outputs": []
    },
    {
      "cell_type": "code",
      "metadata": {
        "colab": {
          "base_uri": "https://localhost:8080/",
          "height": 202
        },
        "id": "XrB1NnHFkIPe",
        "outputId": "31aa4a49-878e-40bc-9440-12a4200ff085"
      },
      "source": [
        "df.head()"
      ],
      "execution_count": 46,
      "outputs": [
        {
          "output_type": "execute_result",
          "data": {
            "text/html": [
              "<div>\n",
              "<style scoped>\n",
              "    .dataframe tbody tr th:only-of-type {\n",
              "        vertical-align: middle;\n",
              "    }\n",
              "\n",
              "    .dataframe tbody tr th {\n",
              "        vertical-align: top;\n",
              "    }\n",
              "\n",
              "    .dataframe thead th {\n",
              "        text-align: right;\n",
              "    }\n",
              "</style>\n",
              "<table border=\"1\" class=\"dataframe\">\n",
              "  <thead>\n",
              "    <tr style=\"text-align: right;\">\n",
              "      <th></th>\n",
              "      <th>PRD_DE</th>\n",
              "      <th>ITM_NM</th>\n",
              "      <th>C1_NM</th>\n",
              "      <th>DT</th>\n",
              "      <th>YEAR</th>\n",
              "      <th>MONTH</th>\n",
              "    </tr>\n",
              "  </thead>\n",
              "  <tbody>\n",
              "    <tr>\n",
              "      <th>0</th>\n",
              "      <td>199906</td>\n",
              "      <td>인구</td>\n",
              "      <td>15세 이상 전체</td>\n",
              "      <td>35737.0</td>\n",
              "      <td>1999</td>\n",
              "      <td>06</td>\n",
              "    </tr>\n",
              "    <tr>\n",
              "      <th>1</th>\n",
              "      <td>199907</td>\n",
              "      <td>인구</td>\n",
              "      <td>15세 이상 전체</td>\n",
              "      <td>35779.0</td>\n",
              "      <td>1999</td>\n",
              "      <td>07</td>\n",
              "    </tr>\n",
              "    <tr>\n",
              "      <th>2</th>\n",
              "      <td>199908</td>\n",
              "      <td>인구</td>\n",
              "      <td>15세 이상 전체</td>\n",
              "      <td>35815.0</td>\n",
              "      <td>1999</td>\n",
              "      <td>08</td>\n",
              "    </tr>\n",
              "    <tr>\n",
              "      <th>3</th>\n",
              "      <td>199909</td>\n",
              "      <td>인구</td>\n",
              "      <td>15세 이상 전체</td>\n",
              "      <td>35849.0</td>\n",
              "      <td>1999</td>\n",
              "      <td>09</td>\n",
              "    </tr>\n",
              "    <tr>\n",
              "      <th>4</th>\n",
              "      <td>199910</td>\n",
              "      <td>인구</td>\n",
              "      <td>15세 이상 전체</td>\n",
              "      <td>35885.0</td>\n",
              "      <td>1999</td>\n",
              "      <td>10</td>\n",
              "    </tr>\n",
              "  </tbody>\n",
              "</table>\n",
              "</div>"
            ],
            "text/plain": [
              "   PRD_DE ITM_NM      C1_NM       DT  YEAR MONTH\n",
              "0  199906     인구  15세 이상 전체  35737.0  1999    06\n",
              "1  199907     인구  15세 이상 전체  35779.0  1999    07\n",
              "2  199908     인구  15세 이상 전체  35815.0  1999    08\n",
              "3  199909     인구  15세 이상 전체  35849.0  1999    09\n",
              "4  199910     인구  15세 이상 전체  35885.0  1999    10"
            ]
          },
          "metadata": {
            "tags": []
          },
          "execution_count": 46
        }
      ]
    },
    {
      "cell_type": "markdown",
      "metadata": {
        "id": "VvSNakDOmnLi"
      },
      "source": [
        "- Dropdown에 입력할 리스트 생성"
      ]
    },
    {
      "cell_type": "code",
      "metadata": {
        "id": "PdAuaqJzmVAh"
      },
      "source": [
        "itm_list = df.ITM_NM.unique()\r\n",
        "age_list = df.C1_NM.unique()\r\n",
        "year_list = df.YEAR.unique()"
      ],
      "execution_count": 48,
      "outputs": []
    }
  ]
}