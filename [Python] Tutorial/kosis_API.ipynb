{
  "nbformat": 4,
  "nbformat_minor": 0,
  "metadata": {
    "colab": {
      "name": "kosis_API.ipynb",
      "provenance": [],
      "collapsed_sections": [],
      "authorship_tag": "ABX9TyNZ7Z33rmIpIveesy4Flfo3",
      "include_colab_link": true
    },
    "kernelspec": {
      "name": "python3",
      "display_name": "Python 3"
    }
  },
  "cells": [
    {
      "cell_type": "markdown",
      "metadata": {
        "id": "view-in-github",
        "colab_type": "text"
      },
      "source": [
        "<a href=\"https://colab.research.google.com/github/barkle2/Programming/blob/master/%5BPython%5D%20Tutorial/kosis_API.ipynb\" target=\"_parent\"><img src=\"https://colab.research.google.com/assets/colab-badge.svg\" alt=\"Open In Colab\"/></a>"
      ]
    },
    {
      "cell_type": "markdown",
      "metadata": {
        "id": "EwiishIYFhwW"
      },
      "source": [
        "# 통계청 OPEN API 활용 예제"
      ]
    },
    {
      "cell_type": "markdown",
      "metadata": {
        "id": "8XZRfJnFGZMJ"
      },
      "source": [
        "### 1. 인증키 받기\r\n",
        "- 가장 먼저 해야하는 일은 KOSIS 공유서비스(https://kosis.kr/openapi/index/index.jsp) 사이트에 가입하고, 인증키를 받는 것입니다.\r\n",
        "- 인증키 유효기간은 2년입니다."
      ]
    },
    {
      "cell_type": "code",
      "metadata": {
        "id": "iPtiZkZBGwJU"
      },
      "source": [
        "key = \"MDUwYjkzYmRhZjc4Yzk5M2QyZDg1NDBhNjNlOTNjZmQ=\""
      ],
      "execution_count": 1,
      "outputs": []
    },
    {
      "cell_type": "markdown",
      "metadata": {
        "id": "NSPtP-HcG0tH"
      },
      "source": [
        "### 2. 통계목록 확인\r\n",
        "- 요청 URL: http://kosis.kr/openapi/statisticsList.do?method=getList\r\n",
        "- 요청 변수(String)\r\n",
        "  - apiKey : 인증키\r\n",
        "  - vwCd\r\n",
        "    - MT_ZTITLE : 국내통계 주제별\r\n",
        "    - MT_OTITLE : 국내통계 기관별\r\n",
        "  - parentListId\r\n",
        "    - MT_ZTITLE : 노동(D)\r\n",
        "    - MT_OTITLE : 통계청(101), 고용노동부(118)\r\n",
        "  - format: json"
      ]
    },
    {
      "cell_type": "markdown",
      "metadata": {
        "id": "NcHW-YPaLN9z"
      },
      "source": [
        "- API 호출을 위한 Query 문 생성"
      ]
    },
    {
      "cell_type": "code",
      "metadata": {
        "id": "mvsmMq3fKS_W"
      },
      "source": [
        "query = \"https://kosis.kr/openapi/statisticsList.do?method=getList&apiKey={}&vwCd={}&parentListId={}&format=json&jsonVD=Y\"\r\n",
        "vwCd = \"MT_ZTITLE\"\r\n",
        "parentListId = \"D\"\r\n",
        "\r\n",
        "query = query.format(key, vwCd, parentListId)"
      ],
      "execution_count": 20,
      "outputs": []
    },
    {
      "cell_type": "markdown",
      "metadata": {
        "id": "x3YIsWDhMUYE"
      },
      "source": [
        ""
      ]
    },
    {
      "cell_type": "markdown",
      "metadata": {
        "id": "QGHNqDpsLVsH"
      },
      "source": [
        "- requests library를 활용하여 API 호출"
      ]
    },
    {
      "cell_type": "code",
      "metadata": {
        "id": "QovbcH9mtRO_"
      },
      "source": [
        "import requests\n",
        "import pandas as pd\n",
        "from google.colab import files\n",
        "import time, random"
      ],
      "execution_count": 3,
      "outputs": []
    },
    {
      "cell_type": "markdown",
      "metadata": {
        "id": "6DLF_97FPDM8"
      },
      "source": [
        "- '국내통계 주제별' 중 '노동'에 해당하는 통계목록은 다음과 같다."
      ]
    },
    {
      "cell_type": "code",
      "metadata": {
        "colab": {
          "base_uri": "https://localhost:8080/",
          "height": 1000
        },
        "id": "eGjlL1Q3Lsbh",
        "outputId": "8475e82a-fc0e-4f26-e75f-9c2b4ba19642"
      },
      "source": [
        "r = requests.get(query)\r\n",
        "r.content\r\n",
        "data = r.json()\r\n",
        "df = pd.DataFrame(data)\r\n",
        "df"
      ],
      "execution_count": 29,
      "outputs": [
        {
          "output_type": "execute_result",
          "data": {
            "text/html": [
              "<div>\n",
              "<style scoped>\n",
              "    .dataframe tbody tr th:only-of-type {\n",
              "        vertical-align: middle;\n",
              "    }\n",
              "\n",
              "    .dataframe tbody tr th {\n",
              "        vertical-align: top;\n",
              "    }\n",
              "\n",
              "    .dataframe thead th {\n",
              "        text-align: right;\n",
              "    }\n",
              "</style>\n",
              "<table border=\"1\" class=\"dataframe\">\n",
              "  <thead>\n",
              "    <tr style=\"text-align: right;\">\n",
              "      <th></th>\n",
              "      <th>LIST_NM</th>\n",
              "      <th>VW_CD</th>\n",
              "      <th>VW_NM</th>\n",
              "      <th>LIST_ID</th>\n",
              "    </tr>\n",
              "  </thead>\n",
              "  <tbody>\n",
              "    <tr>\n",
              "      <th>0</th>\n",
              "      <td>경력단절여성등의경제활동실태조사</td>\n",
              "      <td>MT_ZTITLE</td>\n",
              "      <td>국내통계 주제별</td>\n",
              "      <td>D_1</td>\n",
              "    </tr>\n",
              "    <tr>\n",
              "      <th>1</th>\n",
              "      <td>경제활동인구조사</td>\n",
              "      <td>MT_ZTITLE</td>\n",
              "      <td>국내통계 주제별</td>\n",
              "      <td>D_2</td>\n",
              "    </tr>\n",
              "    <tr>\n",
              "      <th>2</th>\n",
              "      <td>고령자고용현황</td>\n",
              "      <td>MT_ZTITLE</td>\n",
              "      <td>국내통계 주제별</td>\n",
              "      <td>D_3</td>\n",
              "    </tr>\n",
              "    <tr>\n",
              "      <th>3</th>\n",
              "      <td>고용보험통계</td>\n",
              "      <td>MT_ZTITLE</td>\n",
              "      <td>국내통계 주제별</td>\n",
              "      <td>D_4</td>\n",
              "    </tr>\n",
              "    <tr>\n",
              "      <th>4</th>\n",
              "      <td>고용허가제고용동향</td>\n",
              "      <td>MT_ZTITLE</td>\n",
              "      <td>국내통계 주제별</td>\n",
              "      <td>D_5</td>\n",
              "    </tr>\n",
              "    <tr>\n",
              "      <th>5</th>\n",
              "      <td>고용형태별근로실태조사</td>\n",
              "      <td>MT_ZTITLE</td>\n",
              "      <td>국내통계 주제별</td>\n",
              "      <td>D_6</td>\n",
              "    </tr>\n",
              "    <tr>\n",
              "      <th>6</th>\n",
              "      <td>구직급여신청동향</td>\n",
              "      <td>MT_ZTITLE</td>\n",
              "      <td>국내통계 주제별</td>\n",
              "      <td>D_7</td>\n",
              "    </tr>\n",
              "    <tr>\n",
              "      <th>7</th>\n",
              "      <td>근로환경조사</td>\n",
              "      <td>MT_ZTITLE</td>\n",
              "      <td>국내통계 주제별</td>\n",
              "      <td>D_8</td>\n",
              "    </tr>\n",
              "    <tr>\n",
              "      <th>8</th>\n",
              "      <td>기업직업훈련실태조사</td>\n",
              "      <td>MT_ZTITLE</td>\n",
              "      <td>국내통계 주제별</td>\n",
              "      <td>D_9</td>\n",
              "    </tr>\n",
              "    <tr>\n",
              "      <th>9</th>\n",
              "      <td>기업체장애인고용실태조사</td>\n",
              "      <td>MT_ZTITLE</td>\n",
              "      <td>국내통계 주제별</td>\n",
              "      <td>D_10</td>\n",
              "    </tr>\n",
              "    <tr>\n",
              "      <th>10</th>\n",
              "      <td>노동생산성지수</td>\n",
              "      <td>MT_ZTITLE</td>\n",
              "      <td>국내통계 주제별</td>\n",
              "      <td>D_11</td>\n",
              "    </tr>\n",
              "    <tr>\n",
              "      <th>11</th>\n",
              "      <td>노사분규통계</td>\n",
              "      <td>MT_ZTITLE</td>\n",
              "      <td>국내통계 주제별</td>\n",
              "      <td>D_12</td>\n",
              "    </tr>\n",
              "    <tr>\n",
              "      <th>12</th>\n",
              "      <td>대졸자직업이동경로조사</td>\n",
              "      <td>MT_ZTITLE</td>\n",
              "      <td>국내통계 주제별</td>\n",
              "      <td>D_13</td>\n",
              "    </tr>\n",
              "    <tr>\n",
              "      <th>13</th>\n",
              "      <td>박사인력활동조사</td>\n",
              "      <td>MT_ZTITLE</td>\n",
              "      <td>국내통계 주제별</td>\n",
              "      <td>D_14</td>\n",
              "    </tr>\n",
              "    <tr>\n",
              "      <th>14</th>\n",
              "      <td>사업체기간제근로자현황조사</td>\n",
              "      <td>MT_ZTITLE</td>\n",
              "      <td>국내통계 주제별</td>\n",
              "      <td>D_15</td>\n",
              "    </tr>\n",
              "    <tr>\n",
              "      <th>15</th>\n",
              "      <td>사업체노동력조사</td>\n",
              "      <td>MT_ZTITLE</td>\n",
              "      <td>국내통계 주제별</td>\n",
              "      <td>D_16</td>\n",
              "    </tr>\n",
              "    <tr>\n",
              "      <th>16</th>\n",
              "      <td>사업체노동실태현황</td>\n",
              "      <td>MT_ZTITLE</td>\n",
              "      <td>국내통계 주제별</td>\n",
              "      <td>D_17</td>\n",
              "    </tr>\n",
              "    <tr>\n",
              "      <th>17</th>\n",
              "      <td>산업기술인력수급실태조사</td>\n",
              "      <td>MT_ZTITLE</td>\n",
              "      <td>국내통계 주제별</td>\n",
              "      <td>D_18</td>\n",
              "    </tr>\n",
              "    <tr>\n",
              "      <th>18</th>\n",
              "      <td>산재보험통계</td>\n",
              "      <td>MT_ZTITLE</td>\n",
              "      <td>국내통계 주제별</td>\n",
              "      <td>D_19</td>\n",
              "    </tr>\n",
              "    <tr>\n",
              "      <th>19</th>\n",
              "      <td>산재보험패널조사</td>\n",
              "      <td>MT_ZTITLE</td>\n",
              "      <td>국내통계 주제별</td>\n",
              "      <td>D_20</td>\n",
              "    </tr>\n",
              "    <tr>\n",
              "      <th>20</th>\n",
              "      <td>여성관리자패널조사</td>\n",
              "      <td>MT_ZTITLE</td>\n",
              "      <td>국내통계 주제별</td>\n",
              "      <td>D_21</td>\n",
              "    </tr>\n",
              "    <tr>\n",
              "      <th>21</th>\n",
              "      <td>워크넷구인구직및취업동향</td>\n",
              "      <td>MT_ZTITLE</td>\n",
              "      <td>국내통계 주제별</td>\n",
              "      <td>D_22</td>\n",
              "    </tr>\n",
              "    <tr>\n",
              "      <th>22</th>\n",
              "      <td>이민자체류실태및고용조사</td>\n",
              "      <td>MT_ZTITLE</td>\n",
              "      <td>국내통계 주제별</td>\n",
              "      <td>D_23</td>\n",
              "    </tr>\n",
              "    <tr>\n",
              "      <th>23</th>\n",
              "      <td>일자리이동통계</td>\n",
              "      <td>MT_ZTITLE</td>\n",
              "      <td>국내통계 주제별</td>\n",
              "      <td>D_001</td>\n",
              "    </tr>\n",
              "    <tr>\n",
              "      <th>24</th>\n",
              "      <td>일자리행정통계</td>\n",
              "      <td>MT_ZTITLE</td>\n",
              "      <td>국내통계 주제별</td>\n",
              "      <td>D_24</td>\n",
              "    </tr>\n",
              "    <tr>\n",
              "      <th>25</th>\n",
              "      <td>임금근로일자리동향행정통계</td>\n",
              "      <td>MT_ZTITLE</td>\n",
              "      <td>국내통계 주제별</td>\n",
              "      <td>D_25</td>\n",
              "    </tr>\n",
              "    <tr>\n",
              "      <th>26</th>\n",
              "      <td>육아휴직통계</td>\n",
              "      <td>MT_ZTITLE</td>\n",
              "      <td>국내통계 주제별</td>\n",
              "      <td>B_001</td>\n",
              "    </tr>\n",
              "    <tr>\n",
              "      <th>27</th>\n",
              "      <td>작업환경실태조사</td>\n",
              "      <td>MT_ZTITLE</td>\n",
              "      <td>국내통계 주제별</td>\n",
              "      <td>D_26</td>\n",
              "    </tr>\n",
              "    <tr>\n",
              "      <th>28</th>\n",
              "      <td>장애인경제활동실태조사</td>\n",
              "      <td>MT_ZTITLE</td>\n",
              "      <td>국내통계 주제별</td>\n",
              "      <td>D_27</td>\n",
              "    </tr>\n",
              "    <tr>\n",
              "      <th>29</th>\n",
              "      <td>장애인고용패널조사</td>\n",
              "      <td>MT_ZTITLE</td>\n",
              "      <td>국내통계 주제별</td>\n",
              "      <td>D_28</td>\n",
              "    </tr>\n",
              "    <tr>\n",
              "      <th>30</th>\n",
              "      <td>장애인구인구직및취업동향</td>\n",
              "      <td>MT_ZTITLE</td>\n",
              "      <td>국내통계 주제별</td>\n",
              "      <td>D_29</td>\n",
              "    </tr>\n",
              "    <tr>\n",
              "      <th>31</th>\n",
              "      <td>장애인의무고용현황</td>\n",
              "      <td>MT_ZTITLE</td>\n",
              "      <td>국내통계 주제별</td>\n",
              "      <td>D_30</td>\n",
              "    </tr>\n",
              "    <tr>\n",
              "      <th>32</th>\n",
              "      <td>전국노동조합조직현황</td>\n",
              "      <td>MT_ZTITLE</td>\n",
              "      <td>국내통계 주제별</td>\n",
              "      <td>D_31</td>\n",
              "    </tr>\n",
              "    <tr>\n",
              "      <th>33</th>\n",
              "      <td>지역별고용조사</td>\n",
              "      <td>MT_ZTITLE</td>\n",
              "      <td>국내통계 주제별</td>\n",
              "      <td>D_32</td>\n",
              "    </tr>\n",
              "    <tr>\n",
              "      <th>34</th>\n",
              "      <td>직종별사업체노동력조사</td>\n",
              "      <td>MT_ZTITLE</td>\n",
              "      <td>국내통계 주제별</td>\n",
              "      <td>D_33</td>\n",
              "    </tr>\n",
              "    <tr>\n",
              "      <th>35</th>\n",
              "      <td>청년패널조사</td>\n",
              "      <td>MT_ZTITLE</td>\n",
              "      <td>국내통계 주제별</td>\n",
              "      <td>D_34</td>\n",
              "    </tr>\n",
              "    <tr>\n",
              "      <th>36</th>\n",
              "      <td>한국노동패널조사</td>\n",
              "      <td>MT_ZTITLE</td>\n",
              "      <td>국내통계 주제별</td>\n",
              "      <td>D_35</td>\n",
              "    </tr>\n",
              "  </tbody>\n",
              "</table>\n",
              "</div>"
            ],
            "text/plain": [
              "             LIST_NM      VW_CD     VW_NM LIST_ID\n",
              "0   경력단절여성등의경제활동실태조사  MT_ZTITLE  국내통계 주제별     D_1\n",
              "1           경제활동인구조사  MT_ZTITLE  국내통계 주제별     D_2\n",
              "2            고령자고용현황  MT_ZTITLE  국내통계 주제별     D_3\n",
              "3             고용보험통계  MT_ZTITLE  국내통계 주제별     D_4\n",
              "4          고용허가제고용동향  MT_ZTITLE  국내통계 주제별     D_5\n",
              "5        고용형태별근로실태조사  MT_ZTITLE  국내통계 주제별     D_6\n",
              "6           구직급여신청동향  MT_ZTITLE  국내통계 주제별     D_7\n",
              "7             근로환경조사  MT_ZTITLE  국내통계 주제별     D_8\n",
              "8         기업직업훈련실태조사  MT_ZTITLE  국내통계 주제별     D_9\n",
              "9       기업체장애인고용실태조사  MT_ZTITLE  국내통계 주제별    D_10\n",
              "10           노동생산성지수  MT_ZTITLE  국내통계 주제별    D_11\n",
              "11            노사분규통계  MT_ZTITLE  국내통계 주제별    D_12\n",
              "12       대졸자직업이동경로조사  MT_ZTITLE  국내통계 주제별    D_13\n",
              "13          박사인력활동조사  MT_ZTITLE  국내통계 주제별    D_14\n",
              "14     사업체기간제근로자현황조사  MT_ZTITLE  국내통계 주제별    D_15\n",
              "15          사업체노동력조사  MT_ZTITLE  국내통계 주제별    D_16\n",
              "16         사업체노동실태현황  MT_ZTITLE  국내통계 주제별    D_17\n",
              "17      산업기술인력수급실태조사  MT_ZTITLE  국내통계 주제별    D_18\n",
              "18            산재보험통계  MT_ZTITLE  국내통계 주제별    D_19\n",
              "19          산재보험패널조사  MT_ZTITLE  국내통계 주제별    D_20\n",
              "20         여성관리자패널조사  MT_ZTITLE  국내통계 주제별    D_21\n",
              "21      워크넷구인구직및취업동향  MT_ZTITLE  국내통계 주제별    D_22\n",
              "22      이민자체류실태및고용조사  MT_ZTITLE  국내통계 주제별    D_23\n",
              "23           일자리이동통계  MT_ZTITLE  국내통계 주제별   D_001\n",
              "24           일자리행정통계  MT_ZTITLE  국내통계 주제별    D_24\n",
              "25     임금근로일자리동향행정통계  MT_ZTITLE  국내통계 주제별    D_25\n",
              "26            육아휴직통계  MT_ZTITLE  국내통계 주제별   B_001\n",
              "27          작업환경실태조사  MT_ZTITLE  국내통계 주제별    D_26\n",
              "28       장애인경제활동실태조사  MT_ZTITLE  국내통계 주제별    D_27\n",
              "29         장애인고용패널조사  MT_ZTITLE  국내통계 주제별    D_28\n",
              "30      장애인구인구직및취업동향  MT_ZTITLE  국내통계 주제별    D_29\n",
              "31         장애인의무고용현황  MT_ZTITLE  국내통계 주제별    D_30\n",
              "32        전국노동조합조직현황  MT_ZTITLE  국내통계 주제별    D_31\n",
              "33           지역별고용조사  MT_ZTITLE  국내통계 주제별    D_32\n",
              "34       직종별사업체노동력조사  MT_ZTITLE  국내통계 주제별    D_33\n",
              "35            청년패널조사  MT_ZTITLE  국내통계 주제별    D_34\n",
              "36          한국노동패널조사  MT_ZTITLE  국내통계 주제별    D_35"
            ]
          },
          "metadata": {
            "tags": []
          },
          "execution_count": 29
        }
      ]
    },
    {
      "cell_type": "markdown",
      "metadata": {
        "id": "fMflE_44QaIL"
      },
      "source": [
        "- 엑셀 파일로 저장한 후 다운로드"
      ]
    },
    {
      "cell_type": "code",
      "metadata": {
        "colab": {
          "base_uri": "https://localhost:8080/",
          "height": 17
        },
        "id": "H3l6VUK1LrpS",
        "outputId": "2058602d-4ec5-4565-b1e0-dbb7bf466fca"
      },
      "source": [
        "df.to_excel('노동 통계목록.xlsx')\r\n",
        "files.download('노동 통계목록.xlsx')"
      ],
      "execution_count": 31,
      "outputs": [
        {
          "output_type": "display_data",
          "data": {
            "application/javascript": [
              "\n",
              "    async function download(id, filename, size) {\n",
              "      if (!google.colab.kernel.accessAllowed) {\n",
              "        return;\n",
              "      }\n",
              "      const div = document.createElement('div');\n",
              "      const label = document.createElement('label');\n",
              "      label.textContent = `Downloading \"${filename}\": `;\n",
              "      div.appendChild(label);\n",
              "      const progress = document.createElement('progress');\n",
              "      progress.max = size;\n",
              "      div.appendChild(progress);\n",
              "      document.body.appendChild(div);\n",
              "\n",
              "      const buffers = [];\n",
              "      let downloaded = 0;\n",
              "\n",
              "      const channel = await google.colab.kernel.comms.open(id);\n",
              "      // Send a message to notify the kernel that we're ready.\n",
              "      channel.send({})\n",
              "\n",
              "      for await (const message of channel.messages) {\n",
              "        // Send a message to notify the kernel that we're ready.\n",
              "        channel.send({})\n",
              "        if (message.buffers) {\n",
              "          for (const buffer of message.buffers) {\n",
              "            buffers.push(buffer);\n",
              "            downloaded += buffer.byteLength;\n",
              "            progress.value = downloaded;\n",
              "          }\n",
              "        }\n",
              "      }\n",
              "      const blob = new Blob(buffers, {type: 'application/binary'});\n",
              "      const a = document.createElement('a');\n",
              "      a.href = window.URL.createObjectURL(blob);\n",
              "      a.download = filename;\n",
              "      div.appendChild(a);\n",
              "      a.click();\n",
              "      div.remove();\n",
              "    }\n",
              "  "
            ],
            "text/plain": [
              "<IPython.core.display.Javascript object>"
            ]
          },
          "metadata": {
            "tags": []
          }
        },
        {
          "output_type": "display_data",
          "data": {
            "application/javascript": [
              "download(\"download_77387e35-2a73-4adf-a4fb-e89fff25fa02\", \"\\ud1b5\\uacc4\\ubaa9\\ub85d.xlsx\", 6568)"
            ],
            "text/plain": [
              "<IPython.core.display.Javascript object>"
            ]
          },
          "metadata": {
            "tags": []
          }
        }
      ]
    },
    {
      "cell_type": "markdown",
      "metadata": {
        "id": "822JqQ-HQjSC"
      },
      "source": [
        "- 경제활동인구조사 통계 내에도 여러 개의 세부 통계목록이 존재한다."
      ]
    },
    {
      "cell_type": "code",
      "metadata": {
        "id": "uDCeThtDQu11"
      },
      "source": [
        "query = \"https://kosis.kr/openapi/statisticsList.do?method=getList&apiKey={}&vwCd={}&parentListId={}&format=json&jsonVD=Y\"\r\n",
        "vwCd = \"MT_ZTITLE\"\r\n",
        "parentListId = \"D_2\"\r\n",
        "\r\n",
        "query = query.format(key, vwCd, parentListId)"
      ],
      "execution_count": 32,
      "outputs": []
    },
    {
      "cell_type": "code",
      "metadata": {
        "colab": {
          "base_uri": "https://localhost:8080/",
          "height": 478
        },
        "id": "ufDG-jBZQ7L2",
        "outputId": "4e420033-5855-4e31-8fe9-3ae6d222ddd9"
      },
      "source": [
        "r = requests.get(query)\r\n",
        "r.content\r\n",
        "data = r.json()\r\n",
        "df = pd.DataFrame(data)\r\n",
        "df"
      ],
      "execution_count": 33,
      "outputs": [
        {
          "output_type": "execute_result",
          "data": {
            "text/html": [
              "<div>\n",
              "<style scoped>\n",
              "    .dataframe tbody tr th:only-of-type {\n",
              "        vertical-align: middle;\n",
              "    }\n",
              "\n",
              "    .dataframe tbody tr th {\n",
              "        vertical-align: top;\n",
              "    }\n",
              "\n",
              "    .dataframe thead th {\n",
              "        text-align: right;\n",
              "    }\n",
              "</style>\n",
              "<table border=\"1\" class=\"dataframe\">\n",
              "  <thead>\n",
              "    <tr style=\"text-align: right;\">\n",
              "      <th></th>\n",
              "      <th>LIST_NM</th>\n",
              "      <th>VW_CD</th>\n",
              "      <th>VW_NM</th>\n",
              "      <th>LIST_ID</th>\n",
              "    </tr>\n",
              "  </thead>\n",
              "  <tbody>\n",
              "    <tr>\n",
              "      <th>0</th>\n",
              "      <td>경제활동인구총괄(공식 실업률, 구직기간 4주기준, 1999.6~현재)</td>\n",
              "      <td>MT_ZTITLE</td>\n",
              "      <td>국내통계 주제별</td>\n",
              "      <td>B11</td>\n",
              "    </tr>\n",
              "    <tr>\n",
              "      <th>1</th>\n",
              "      <td>계절조정 경제활동인구(1999.6~현재)</td>\n",
              "      <td>MT_ZTITLE</td>\n",
              "      <td>국내통계 주제별</td>\n",
              "      <td>B12</td>\n",
              "    </tr>\n",
              "    <tr>\n",
              "      <th>2</th>\n",
              "      <td>취업자(1963~현재)</td>\n",
              "      <td>MT_ZTITLE</td>\n",
              "      <td>국내통계 주제별</td>\n",
              "      <td>B17</td>\n",
              "    </tr>\n",
              "    <tr>\n",
              "      <th>3</th>\n",
              "      <td>실업자(구직기간 4주 기준, 1999.5월 이전자료는 경제활동인구총괄 1주기준 참조)</td>\n",
              "      <td>MT_ZTITLE</td>\n",
              "      <td>국내통계 주제별</td>\n",
              "      <td>B16</td>\n",
              "    </tr>\n",
              "    <tr>\n",
              "      <th>4</th>\n",
              "      <td>실업률(구직기간 4주 기준, 1999. 5월 이전자료는 경제활동인구총괄 1주기준 참조)</td>\n",
              "      <td>MT_ZTITLE</td>\n",
              "      <td>국내통계 주제별</td>\n",
              "      <td>B15</td>\n",
              "    </tr>\n",
              "    <tr>\n",
              "      <th>5</th>\n",
              "      <td>비경제활동인구(1999. 5월 이전자료는 경제활동인구총괄 1주기준 참조)</td>\n",
              "      <td>MT_ZTITLE</td>\n",
              "      <td>국내통계 주제별</td>\n",
              "      <td>B14</td>\n",
              "    </tr>\n",
              "    <tr>\n",
              "      <th>6</th>\n",
              "      <td>경제활동인구총괄(구직기간 1주기준, 1963~2014.12)</td>\n",
              "      <td>MT_ZTITLE</td>\n",
              "      <td>국내통계 주제별</td>\n",
              "      <td>B13</td>\n",
              "    </tr>\n",
              "    <tr>\n",
              "      <th>7</th>\n",
              "      <td>근로형태별 부가조사</td>\n",
              "      <td>MT_ZTITLE</td>\n",
              "      <td>국내통계 주제별</td>\n",
              "      <td>101_B1A</td>\n",
              "    </tr>\n",
              "    <tr>\n",
              "      <th>8</th>\n",
              "      <td>청년층 부가조사</td>\n",
              "      <td>MT_ZTITLE</td>\n",
              "      <td>국내통계 주제별</td>\n",
              "      <td>B1A_18</td>\n",
              "    </tr>\n",
              "    <tr>\n",
              "      <th>9</th>\n",
              "      <td>고령층 부가조사</td>\n",
              "      <td>MT_ZTITLE</td>\n",
              "      <td>국내통계 주제별</td>\n",
              "      <td>B1A_20</td>\n",
              "    </tr>\n",
              "    <tr>\n",
              "      <th>10</th>\n",
              "      <td>비임금근로 부가조사</td>\n",
              "      <td>MT_ZTITLE</td>\n",
              "      <td>국내통계 주제별</td>\n",
              "      <td>B1A_22</td>\n",
              "    </tr>\n",
              "    <tr>\n",
              "      <th>11</th>\n",
              "      <td>비임금근로 부가조사(농림어업제외)</td>\n",
              "      <td>MT_ZTITLE</td>\n",
              "      <td>국내통계 주제별</td>\n",
              "      <td>B1A_24</td>\n",
              "    </tr>\n",
              "    <tr>\n",
              "      <th>12</th>\n",
              "      <td>비경제활동인구 부가조사</td>\n",
              "      <td>MT_ZTITLE</td>\n",
              "      <td>국내통계 주제별</td>\n",
              "      <td>B1A_26</td>\n",
              "    </tr>\n",
              "    <tr>\n",
              "      <th>13</th>\n",
              "      <td>시계열 보정(2018.2.14 공표) 前 자료</td>\n",
              "      <td>MT_ZTITLE</td>\n",
              "      <td>국내통계 주제별</td>\n",
              "      <td>B1A_101</td>\n",
              "    </tr>\n",
              "  </tbody>\n",
              "</table>\n",
              "</div>"
            ],
            "text/plain": [
              "                                             LIST_NM  ...  LIST_ID\n",
              "0             경제활동인구총괄(공식 실업률, 구직기간 4주기준, 1999.6~현재)  ...      B11\n",
              "1                             계절조정 경제활동인구(1999.6~현재)  ...      B12\n",
              "2                                       취업자(1963~현재)  ...      B17\n",
              "3    실업자(구직기간 4주 기준, 1999.5월 이전자료는 경제활동인구총괄 1주기준 참조)  ...      B16\n",
              "4   실업률(구직기간 4주 기준, 1999. 5월 이전자료는 경제활동인구총괄 1주기준 참조)  ...      B15\n",
              "5           비경제활동인구(1999. 5월 이전자료는 경제활동인구총괄 1주기준 참조)  ...      B14\n",
              "6                  경제활동인구총괄(구직기간 1주기준, 1963~2014.12)  ...      B13\n",
              "7                                         근로형태별 부가조사  ...  101_B1A\n",
              "8                                           청년층 부가조사  ...   B1A_18\n",
              "9                                           고령층 부가조사  ...   B1A_20\n",
              "10                                        비임금근로 부가조사  ...   B1A_22\n",
              "11                                비임금근로 부가조사(농림어업제외)  ...   B1A_24\n",
              "12                                      비경제활동인구 부가조사  ...   B1A_26\n",
              "13                         시계열 보정(2018.2.14 공표) 前 자료  ...  B1A_101\n",
              "\n",
              "[14 rows x 4 columns]"
            ]
          },
          "metadata": {
            "tags": []
          },
          "execution_count": 33
        }
      ]
    },
    {
      "cell_type": "code",
      "metadata": {
        "id": "D5j3fpuxRwDB"
      },
      "source": [
        "df.to_excel('경제활동인구조사 통계목록.xlsx')\r\n",
        "files.download('경제활동인구조사 통계목록.xlsx')"
      ],
      "execution_count": null,
      "outputs": []
    },
    {
      "cell_type": "markdown",
      "metadata": {
        "id": "uz50ss10RCGN"
      },
      "source": [
        "- 가장 많이 사용되는 '경제활동인구총괄(공식 실업률, 구직기간 4주기준, 1999.6~현재)' 표의 세부 목록을 확인한다."
      ]
    },
    {
      "cell_type": "code",
      "metadata": {
        "id": "lnV3iSkARPeX"
      },
      "source": [
        "query = \"https://kosis.kr/openapi/statisticsList.do?method=getList&apiKey={}&vwCd={}&parentListId={}&format=json&jsonVD=Y\"\r\n",
        "vwCd = \"MT_ZTITLE\"\r\n",
        "parentListId = \"B11\"\r\n",
        "\r\n",
        "query = query.format(key, vwCd, parentListId)"
      ],
      "execution_count": 34,
      "outputs": []
    },
    {
      "cell_type": "code",
      "metadata": {
        "colab": {
          "base_uri": "https://localhost:8080/",
          "height": 386
        },
        "id": "--yB07BqRRzf",
        "outputId": "47a69a29-519b-4794-8882-10b5a5d292d0"
      },
      "source": [
        "r = requests.get(query)\r\n",
        "r.content\r\n",
        "data = r.json()\r\n",
        "df = pd.DataFrame(data)\r\n",
        "df"
      ],
      "execution_count": 35,
      "outputs": [
        {
          "output_type": "execute_result",
          "data": {
            "text/html": [
              "<div>\n",
              "<style scoped>\n",
              "    .dataframe tbody tr th:only-of-type {\n",
              "        vertical-align: middle;\n",
              "    }\n",
              "\n",
              "    .dataframe tbody tr th {\n",
              "        vertical-align: top;\n",
              "    }\n",
              "\n",
              "    .dataframe thead th {\n",
              "        text-align: right;\n",
              "    }\n",
              "</style>\n",
              "<table border=\"1\" class=\"dataframe\">\n",
              "  <thead>\n",
              "    <tr style=\"text-align: right;\">\n",
              "      <th></th>\n",
              "      <th>TBL_NM</th>\n",
              "      <th>TBL_ID</th>\n",
              "      <th>VW_CD</th>\n",
              "      <th>VW_NM</th>\n",
              "      <th>ORG_ID</th>\n",
              "    </tr>\n",
              "  </thead>\n",
              "  <tbody>\n",
              "    <tr>\n",
              "      <th>0</th>\n",
              "      <td>성별 경제활동인구 총괄</td>\n",
              "      <td>DT_1DA7001S</td>\n",
              "      <td>MT_ZTITLE</td>\n",
              "      <td>국내통계 주제별</td>\n",
              "      <td>101</td>\n",
              "    </tr>\n",
              "    <tr>\n",
              "      <th>1</th>\n",
              "      <td>연령별 경제활동인구 총괄</td>\n",
              "      <td>DT_1DA7002S</td>\n",
              "      <td>MT_ZTITLE</td>\n",
              "      <td>국내통계 주제별</td>\n",
              "      <td>101</td>\n",
              "    </tr>\n",
              "    <tr>\n",
              "      <th>2</th>\n",
              "      <td>교육정도별 경제활동인구</td>\n",
              "      <td>DT_1DA7003S</td>\n",
              "      <td>MT_ZTITLE</td>\n",
              "      <td>국내통계 주제별</td>\n",
              "      <td>101</td>\n",
              "    </tr>\n",
              "    <tr>\n",
              "      <th>3</th>\n",
              "      <td>행정구역(시도)별 경제활동인구</td>\n",
              "      <td>DT_1DA7004S</td>\n",
              "      <td>MT_ZTITLE</td>\n",
              "      <td>국내통계 주제별</td>\n",
              "      <td>101</td>\n",
              "    </tr>\n",
              "    <tr>\n",
              "      <th>4</th>\n",
              "      <td>성/연령별 경제활동인구</td>\n",
              "      <td>DT_1DA7012S</td>\n",
              "      <td>MT_ZTITLE</td>\n",
              "      <td>국내통계 주제별</td>\n",
              "      <td>101</td>\n",
              "    </tr>\n",
              "    <tr>\n",
              "      <th>5</th>\n",
              "      <td>성/교육정도별 경제활동인구</td>\n",
              "      <td>DT_1DA7013S</td>\n",
              "      <td>MT_ZTITLE</td>\n",
              "      <td>국내통계 주제별</td>\n",
              "      <td>101</td>\n",
              "    </tr>\n",
              "    <tr>\n",
              "      <th>6</th>\n",
              "      <td>행정구역(시도)/성별 경제활동인구</td>\n",
              "      <td>DT_1DA7014S</td>\n",
              "      <td>MT_ZTITLE</td>\n",
              "      <td>국내통계 주제별</td>\n",
              "      <td>101</td>\n",
              "    </tr>\n",
              "    <tr>\n",
              "      <th>7</th>\n",
              "      <td>행정구역(시도)/연령별 경제활동인구</td>\n",
              "      <td>DT_1DA7015S</td>\n",
              "      <td>MT_ZTITLE</td>\n",
              "      <td>국내통계 주제별</td>\n",
              "      <td>101</td>\n",
              "    </tr>\n",
              "    <tr>\n",
              "      <th>8</th>\n",
              "      <td>행정구역(시도)/교육정도별 경제활동인구</td>\n",
              "      <td>DT_1DA7016S</td>\n",
              "      <td>MT_ZTITLE</td>\n",
              "      <td>국내통계 주제별</td>\n",
              "      <td>101</td>\n",
              "    </tr>\n",
              "    <tr>\n",
              "      <th>9</th>\n",
              "      <td>고용보조지표(전체)</td>\n",
              "      <td>DT_1DA7300S</td>\n",
              "      <td>MT_ZTITLE</td>\n",
              "      <td>국내통계 주제별</td>\n",
              "      <td>101</td>\n",
              "    </tr>\n",
              "    <tr>\n",
              "      <th>10</th>\n",
              "      <td>고용보조지표(청년층, 15~29세)</td>\n",
              "      <td>DT_1DA7300AS</td>\n",
              "      <td>MT_ZTITLE</td>\n",
              "      <td>국내통계 주제별</td>\n",
              "      <td>101</td>\n",
              "    </tr>\n",
              "  </tbody>\n",
              "</table>\n",
              "</div>"
            ],
            "text/plain": [
              "                   TBL_NM        TBL_ID      VW_CD     VW_NM ORG_ID\n",
              "0            성별 경제활동인구 총괄   DT_1DA7001S  MT_ZTITLE  국내통계 주제별    101\n",
              "1           연령별 경제활동인구 총괄   DT_1DA7002S  MT_ZTITLE  국내통계 주제별    101\n",
              "2            교육정도별 경제활동인구   DT_1DA7003S  MT_ZTITLE  국내통계 주제별    101\n",
              "3        행정구역(시도)별 경제활동인구   DT_1DA7004S  MT_ZTITLE  국내통계 주제별    101\n",
              "4            성/연령별 경제활동인구   DT_1DA7012S  MT_ZTITLE  국내통계 주제별    101\n",
              "5          성/교육정도별 경제활동인구   DT_1DA7013S  MT_ZTITLE  국내통계 주제별    101\n",
              "6      행정구역(시도)/성별 경제활동인구   DT_1DA7014S  MT_ZTITLE  국내통계 주제별    101\n",
              "7     행정구역(시도)/연령별 경제활동인구   DT_1DA7015S  MT_ZTITLE  국내통계 주제별    101\n",
              "8   행정구역(시도)/교육정도별 경제활동인구   DT_1DA7016S  MT_ZTITLE  국내통계 주제별    101\n",
              "9              고용보조지표(전체)   DT_1DA7300S  MT_ZTITLE  국내통계 주제별    101\n",
              "10    고용보조지표(청년층, 15~29세)  DT_1DA7300AS  MT_ZTITLE  국내통계 주제별    101"
            ]
          },
          "metadata": {
            "tags": []
          },
          "execution_count": 35
        }
      ]
    },
    {
      "cell_type": "code",
      "metadata": {
        "id": "uA-d5bbER2Su"
      },
      "source": [
        "df.to_excel('경제활동인구조사-경제활동인구총괄 통계목록.xlsx')\r\n",
        "files.download('경제활동인구조사-경제활동인구총괄 통계목록.xlsx')"
      ],
      "execution_count": null,
      "outputs": []
    },
    {
      "cell_type": "markdown",
      "metadata": {
        "id": "IAHh_jEiSGaR"
      },
      "source": [
        "- '연령별 경제활동인구 총괄' 표의 통계자료를 조회하기 위해 필요한 테이블 ID(TBL_ID:DT_1DA7002S)와 기관 ID(ORG_ID:101)를 얻었다."
      ]
    },
    {
      "cell_type": "code",
      "metadata": {
        "id": "evsOUHlMSfKK"
      },
      "source": [
        "tbl_id = 'DT_1DA7002S'\r\n",
        "org_id = '101'"
      ],
      "execution_count": 40,
      "outputs": []
    },
    {
      "cell_type": "markdown",
      "metadata": {
        "id": "8CJyXI-LTFYC"
      },
      "source": [
        "## 3. 통계자료 조회\r\n",
        "\r\n",
        "### 3-1. 최신 시점 찾기\r\n",
        "- 현재 기준으로 가장 최신 통계가 언제의 통계인지 확인한다.\r\n",
        "- '횡단면 조회' 자료를 받아 최신 통계 시점을 확인한다.\r\n",
        "- 통계청 OPEN API 사이트에서 횡단면 조회 query 예제 복사"
      ]
    },
    {
      "cell_type": "code",
      "metadata": {
        "id": "iBRGfqSdg2pH"
      },
      "source": [
        "# 0:apiKey, 1:itmId, 2:objL1, 3:prdSe, 4:loadGubun, 5:ordId, 6:tblId\r\n",
        "query = \"https://kosis.kr/openapi/Param/statisticsParameterData.do?method=getList&apiKey={0}&itmId={1}+&objL1={2}+&objL2=&objL3=&objL4=&objL5=&objL6=&objL7=&objL8=&format=json&jsonVD=Y&prdSe={3}&newEstPrdCnt=1&loadGubun={4}&orgId={5}&tblId={6}\""
      ],
      "execution_count": 45,
      "outputs": []
    },
    {
      "cell_type": "markdown",
      "metadata": {
        "id": "8pOZ_2mXhNUT"
      },
      "source": [
        "- 통계청 OPEN API 사이트에서 항목, 분류 value 찾기"
      ]
    },
    {
      "cell_type": "code",
      "metadata": {
        "id": "ITpACUg3U7C_"
      },
      "source": [
        "# 항목\r\n",
        "itm_id = {\r\n",
        "    \"인구\":\"T10\",\r\n",
        "    \"경제활동인구\":\"T20\",\r\n",
        "    \"취업자\":\"T30\",\r\n",
        "    \"실업자\":\"T40\",\r\n",
        "    \"비경제활동인구\":\"T50\",\r\n",
        "    \"경제활동참가율\":\"T60\",\r\n",
        "    \"실업률\":\"T80\",\r\n",
        "    \"고용률\":\"T90\"\r\n",
        "}\r\n",
        "\r\n",
        "# 1단계 분류\r\n",
        "obj_lev1 = {\r\n",
        "     \"15세 이상 전체\": \"00\",\r\n",
        "     \"15 - 19세\": \"10\",\r\n",
        "     \"20 - 29세\": \"20\",\r\n",
        "     \"30 - 39세\": \"30\",\r\n",
        "     \"40 - 49세\": \"40\",\r\n",
        "     \"50 - 59세\": \"50\",\r\n",
        "     \"60세 이상\": \"60\",\r\n",
        "     \"15 - 64세\": \"63\",\r\n",
        "     \"15 - 24세\": \"70\",\r\n",
        "     \"15 - 29세\": \"75\"\r\n",
        "}\r\n",
        "\r\n",
        "# 2단계 분류\r\n",
        "obj_lev2 = {\r\n",
        "     \"15세 이상 전체\": \"00\",\r\n",
        "     \"15 - 19세\": \"10\",\r\n",
        "     \"20 - 29세\": \"20\",\r\n",
        "     \"20 - 24세\": \"201\",\r\n",
        "     \"25 - 29세\": \"202\",\r\n",
        "     \"30 - 39세\": \"30\",\r\n",
        "     \"30 - 34세\": \"301\",\r\n",
        "     \"35 - 39세\": \"302\",\r\n",
        "     \"40 - 49세\": \"40\",\r\n",
        "     \"40 - 44세\": \"401\",\r\n",
        "     \"45 - 49세\": \"402\",\r\n",
        "     \"50 - 59세\": \"50\",\r\n",
        "     \"50 - 54세\": \"501\",\r\n",
        "     \"55 - 59세\": \"502\",\r\n",
        "     \"60세 이상\": \"60\",\r\n",
        "     \"60 - 64세\": \"601\",\r\n",
        "     \"65세 이상\": \"602\",\r\n",
        "     \"15 - 64세\": \"63\",\r\n",
        "     \"15 - 24세\": \"70\",\r\n",
        "     \"15 - 29세\": \"75\"\r\n",
        "}"
      ],
      "execution_count": null,
      "outputs": []
    },
    {
      "cell_type": "markdown",
      "metadata": {
        "id": "3vrUxmYIhcN3"
      },
      "source": [
        "- 그 밖에 필요한 변수는 직접 입력"
      ]
    },
    {
      "cell_type": "code",
      "metadata": {
        "colab": {
          "base_uri": "https://localhost:8080/",
          "height": 55
        },
        "id": "9KfwHf7hSFvr",
        "outputId": "9f09f3c9-bbb8-4df6-8678-a898e7982c0c"
      },
      "source": [
        "prd_se = 'M'\r\n",
        "load_gubun = '2'\r\n",
        "\r\n",
        "query = query.format(key, itm_id['인구'], obj_lev1['15세 이상 전체'], prd_se, load_gubun, org_id, tbl_id)\r\n",
        "query"
      ],
      "execution_count": 46,
      "outputs": [
        {
          "output_type": "execute_result",
          "data": {
            "application/vnd.google.colaboratory.intrinsic+json": {
              "type": "string"
            },
            "text/plain": [
              "'https://kosis.kr/openapi/Param/statisticsParameterData.do?method=getList&apiKey=MDUwYjkzYmRhZjc4Yzk5M2QyZDg1NDBhNjNlOTNjZmQ=&itmId=T10+&objL1=00+&objL2=&objL3=&objL4=&objL5=&objL6=&objL7=&objL8=&format=json&jsonVD=Y&prdSe=M&newEstPrdCnt=1&loadGubun=2&orgId=101&tblId=DT_1DA7002S'"
            ]
          },
          "metadata": {
            "tags": []
          },
          "execution_count": 46
        }
      ]
    },
    {
      "cell_type": "markdown",
      "metadata": {
        "id": "E3Nr5CJHhzS9"
      },
      "source": [
        "- '횡단면 조회'의 PRD_DE 값이 가장 최근 시점(end_prd_de)이 된다."
      ]
    },
    {
      "cell_type": "code",
      "metadata": {
        "colab": {
          "base_uri": "https://localhost:8080/",
          "height": 151
        },
        "id": "_10UowxXhu9G",
        "outputId": "f60861be-4af2-4c94-df91-77ef914fbcda"
      },
      "source": [
        "r = requests.get(query)\r\n",
        "r.content\r\n",
        "data = r.json()\r\n",
        "df = pd.DataFrame(data)\r\n",
        "df"
      ],
      "execution_count": 47,
      "outputs": [
        {
          "output_type": "execute_result",
          "data": {
            "text/html": [
              "<div>\n",
              "<style scoped>\n",
              "    .dataframe tbody tr th:only-of-type {\n",
              "        vertical-align: middle;\n",
              "    }\n",
              "\n",
              "    .dataframe tbody tr th {\n",
              "        vertical-align: top;\n",
              "    }\n",
              "\n",
              "    .dataframe thead th {\n",
              "        text-align: right;\n",
              "    }\n",
              "</style>\n",
              "<table border=\"1\" class=\"dataframe\">\n",
              "  <thead>\n",
              "    <tr style=\"text-align: right;\">\n",
              "      <th></th>\n",
              "      <th>TBL_NM</th>\n",
              "      <th>PRD_DE</th>\n",
              "      <th>TBL_ID</th>\n",
              "      <th>ITM_NM</th>\n",
              "      <th>ITM_NM_ENG</th>\n",
              "      <th>ITM_ID</th>\n",
              "      <th>UNIT_NM</th>\n",
              "      <th>ORG_ID</th>\n",
              "      <th>UNIT_NM_ENG</th>\n",
              "      <th>C1_OBJ_NM</th>\n",
              "      <th>C1_OBJ_NM_ENG</th>\n",
              "      <th>DT</th>\n",
              "      <th>PRD_SE</th>\n",
              "      <th>C1</th>\n",
              "      <th>C1_NM</th>\n",
              "      <th>C1_NM_ENG</th>\n",
              "    </tr>\n",
              "  </thead>\n",
              "  <tbody>\n",
              "    <tr>\n",
              "      <th>0</th>\n",
              "      <td>연령별 경제활동인구 총괄</td>\n",
              "      <td>202011</td>\n",
              "      <td>DT_1DA7002S</td>\n",
              "      <td>인구</td>\n",
              "      <td>Population 15 years old and over</td>\n",
              "      <td>T10</td>\n",
              "      <td>천명</td>\n",
              "      <td>101</td>\n",
              "      <td>Thousand Person</td>\n",
              "      <td>연령계층별</td>\n",
              "      <td>By age group</td>\n",
              "      <td>44883.5</td>\n",
              "      <td>M</td>\n",
              "      <td>00</td>\n",
              "      <td>15세 이상 전체</td>\n",
              "      <td>Total</td>\n",
              "    </tr>\n",
              "  </tbody>\n",
              "</table>\n",
              "</div>"
            ],
            "text/plain": [
              "          TBL_NM  PRD_DE       TBL_ID ITM_NM  ... PRD_SE  C1      C1_NM C1_NM_ENG\n",
              "0  연령별 경제활동인구 총괄  202011  DT_1DA7002S     인구  ...      M  00  15세 이상 전체     Total\n",
              "\n",
              "[1 rows x 16 columns]"
            ]
          },
          "metadata": {
            "tags": []
          },
          "execution_count": 47
        }
      ]
    },
    {
      "cell_type": "code",
      "metadata": {
        "colab": {
          "base_uri": "https://localhost:8080/",
          "height": 36
        },
        "id": "YcPqOEWJh_BY",
        "outputId": "57fd7730-dfe8-4946-eba1-5cec095fb1af"
      },
      "source": [
        "end_prd_de = df['PRD_DE'][0]\r\n",
        "end_prd_de"
      ],
      "execution_count": 64,
      "outputs": [
        {
          "output_type": "execute_result",
          "data": {
            "application/vnd.google.colaboratory.intrinsic+json": {
              "type": "string"
            },
            "text/plain": [
              "'202011'"
            ]
          },
          "metadata": {
            "tags": []
          },
          "execution_count": 64
        }
      ]
    },
    {
      "cell_type": "markdown",
      "metadata": {
        "id": "FN6LuxkbU1wC"
      },
      "source": [
        "- 가장 최근 시점을 구했으니 시계열 조회를 한다.\r\n",
        "- 통계청 OPEN API 사이트에서 시계열 조회 query 예제 복사"
      ]
    },
    {
      "cell_type": "code",
      "metadata": {
        "id": "Mcaj5WgCoNkg",
        "colab": {
          "base_uri": "https://localhost:8080/",
          "height": 55
        },
        "outputId": "21647fd0-bcbe-4202-dc26-def6a3108cec"
      },
      "source": [
        "# 0:apiKey, 1:itmId, 2:objL1, 3:objL2, 4:prdSe, 5:startPrdDe, 6:endPrdDe, 7:loadGubun, 8:orgId, 9:tblId\n",
        "query = \"https://kosis.kr/openapi/Param/statisticsParameterData.do?method=getList&apiKey={0}&itmId={1}+&objL1={2}+&objL2={3}&objL3=&objL4=&objL5=&objL6=&objL7=&objL8=&format=json&jsonVD=Y&prdSe={4}&startPrdDe={5}&endPrdDe={6}&loadGubun={7}&orgId={8}&tblId={9}\"\n",
        "\n",
        "start_prd_de = '199906'\n",
        "load_gubun = '1'\n",
        "org_id\n",
        "tbl_id\n",
        "\n",
        "query.format(key, itm_id['인구'], obj_lev1['15세 이상 전체'], '', prd_se, start_prd_de, end_prd_de, load_gubun, org_id, tbl_id )"
      ],
      "execution_count": 65,
      "outputs": [
        {
          "output_type": "execute_result",
          "data": {
            "application/vnd.google.colaboratory.intrinsic+json": {
              "type": "string"
            },
            "text/plain": [
              "'https://kosis.kr/openapi/Param/statisticsParameterData.do?method=getList&apiKey=MDUwYjkzYmRhZjc4Yzk5M2QyZDg1NDBhNjNlOTNjZmQ=&itmId=T10+&objL1=00+&objL2=&objL3=&objL4=&objL5=&objL6=&objL7=&objL8=&format=json&jsonVD=Y&prdSe=M&startPrdDe=199906&endPrdDe=202011&loadGubun=1&orgId=101&tblId=DT_1DA7002S'"
            ]
          },
          "metadata": {
            "tags": []
          },
          "execution_count": 65
        }
      ]
    },
    {
      "cell_type": "code",
      "metadata": {
        "colab": {
          "base_uri": "https://localhost:8080/",
          "height": 17
        },
        "id": "HEkzw4yeO1R8",
        "outputId": "55b53d24-8e0b-4eb5-b498-efe7243b60b3"
      },
      "source": [
        "for item in itmId:\r\n",
        "  url2 = url2.format(key, item)\r\n",
        "  r = requests.get(url2)\r\n",
        "  data = r.json()\r\n",
        "  df = pd.DataFrame(data)\r\n",
        "  filename = item+\".csv\"\r\n",
        "  df.to_csv(filename)\r\n",
        "  files.download(filename)\r\n",
        "  time.sleep(random.uniform(2,10))\r\n"
      ],
      "execution_count": 9,
      "outputs": [
        {
          "output_type": "display_data",
          "data": {
            "application/javascript": [
              "\n",
              "    async function download(id, filename, size) {\n",
              "      if (!google.colab.kernel.accessAllowed) {\n",
              "        return;\n",
              "      }\n",
              "      const div = document.createElement('div');\n",
              "      const label = document.createElement('label');\n",
              "      label.textContent = `Downloading \"${filename}\": `;\n",
              "      div.appendChild(label);\n",
              "      const progress = document.createElement('progress');\n",
              "      progress.max = size;\n",
              "      div.appendChild(progress);\n",
              "      document.body.appendChild(div);\n",
              "\n",
              "      const buffers = [];\n",
              "      let downloaded = 0;\n",
              "\n",
              "      const channel = await google.colab.kernel.comms.open(id);\n",
              "      // Send a message to notify the kernel that we're ready.\n",
              "      channel.send({})\n",
              "\n",
              "      for await (const message of channel.messages) {\n",
              "        // Send a message to notify the kernel that we're ready.\n",
              "        channel.send({})\n",
              "        if (message.buffers) {\n",
              "          for (const buffer of message.buffers) {\n",
              "            buffers.push(buffer);\n",
              "            downloaded += buffer.byteLength;\n",
              "            progress.value = downloaded;\n",
              "          }\n",
              "        }\n",
              "      }\n",
              "      const blob = new Blob(buffers, {type: 'application/binary'});\n",
              "      const a = document.createElement('a');\n",
              "      a.href = window.URL.createObjectURL(blob);\n",
              "      a.download = filename;\n",
              "      div.appendChild(a);\n",
              "      a.click();\n",
              "      div.remove();\n",
              "    }\n",
              "  "
            ],
            "text/plain": [
              "<IPython.core.display.Javascript object>"
            ]
          },
          "metadata": {
            "tags": []
          }
        },
        {
          "output_type": "display_data",
          "data": {
            "application/javascript": [
              "download(\"download_a7cc9e1e-29fb-46ce-a1ec-6c383c9a36ac\", \"T10.csv\", 51023)"
            ],
            "text/plain": [
              "<IPython.core.display.Javascript object>"
            ]
          },
          "metadata": {
            "tags": []
          }
        },
        {
          "output_type": "display_data",
          "data": {
            "application/javascript": [
              "\n",
              "    async function download(id, filename, size) {\n",
              "      if (!google.colab.kernel.accessAllowed) {\n",
              "        return;\n",
              "      }\n",
              "      const div = document.createElement('div');\n",
              "      const label = document.createElement('label');\n",
              "      label.textContent = `Downloading \"${filename}\": `;\n",
              "      div.appendChild(label);\n",
              "      const progress = document.createElement('progress');\n",
              "      progress.max = size;\n",
              "      div.appendChild(progress);\n",
              "      document.body.appendChild(div);\n",
              "\n",
              "      const buffers = [];\n",
              "      let downloaded = 0;\n",
              "\n",
              "      const channel = await google.colab.kernel.comms.open(id);\n",
              "      // Send a message to notify the kernel that we're ready.\n",
              "      channel.send({})\n",
              "\n",
              "      for await (const message of channel.messages) {\n",
              "        // Send a message to notify the kernel that we're ready.\n",
              "        channel.send({})\n",
              "        if (message.buffers) {\n",
              "          for (const buffer of message.buffers) {\n",
              "            buffers.push(buffer);\n",
              "            downloaded += buffer.byteLength;\n",
              "            progress.value = downloaded;\n",
              "          }\n",
              "        }\n",
              "      }\n",
              "      const blob = new Blob(buffers, {type: 'application/binary'});\n",
              "      const a = document.createElement('a');\n",
              "      a.href = window.URL.createObjectURL(blob);\n",
              "      a.download = filename;\n",
              "      div.appendChild(a);\n",
              "      a.click();\n",
              "      div.remove();\n",
              "    }\n",
              "  "
            ],
            "text/plain": [
              "<IPython.core.display.Javascript object>"
            ]
          },
          "metadata": {
            "tags": []
          }
        },
        {
          "output_type": "display_data",
          "data": {
            "application/javascript": [
              "download(\"download_ddd0104f-d2dd-48b0-9533-921defc3c71e\", \"T20.csv\", 51023)"
            ],
            "text/plain": [
              "<IPython.core.display.Javascript object>"
            ]
          },
          "metadata": {
            "tags": []
          }
        },
        {
          "output_type": "display_data",
          "data": {
            "application/javascript": [
              "\n",
              "    async function download(id, filename, size) {\n",
              "      if (!google.colab.kernel.accessAllowed) {\n",
              "        return;\n",
              "      }\n",
              "      const div = document.createElement('div');\n",
              "      const label = document.createElement('label');\n",
              "      label.textContent = `Downloading \"${filename}\": `;\n",
              "      div.appendChild(label);\n",
              "      const progress = document.createElement('progress');\n",
              "      progress.max = size;\n",
              "      div.appendChild(progress);\n",
              "      document.body.appendChild(div);\n",
              "\n",
              "      const buffers = [];\n",
              "      let downloaded = 0;\n",
              "\n",
              "      const channel = await google.colab.kernel.comms.open(id);\n",
              "      // Send a message to notify the kernel that we're ready.\n",
              "      channel.send({})\n",
              "\n",
              "      for await (const message of channel.messages) {\n",
              "        // Send a message to notify the kernel that we're ready.\n",
              "        channel.send({})\n",
              "        if (message.buffers) {\n",
              "          for (const buffer of message.buffers) {\n",
              "            buffers.push(buffer);\n",
              "            downloaded += buffer.byteLength;\n",
              "            progress.value = downloaded;\n",
              "          }\n",
              "        }\n",
              "      }\n",
              "      const blob = new Blob(buffers, {type: 'application/binary'});\n",
              "      const a = document.createElement('a');\n",
              "      a.href = window.URL.createObjectURL(blob);\n",
              "      a.download = filename;\n",
              "      div.appendChild(a);\n",
              "      a.click();\n",
              "      div.remove();\n",
              "    }\n",
              "  "
            ],
            "text/plain": [
              "<IPython.core.display.Javascript object>"
            ]
          },
          "metadata": {
            "tags": []
          }
        },
        {
          "output_type": "display_data",
          "data": {
            "application/javascript": [
              "download(\"download_c53811b9-8579-4af3-9ed2-e284a5f45482\", \"T30.csv\", 51023)"
            ],
            "text/plain": [
              "<IPython.core.display.Javascript object>"
            ]
          },
          "metadata": {
            "tags": []
          }
        },
        {
          "output_type": "display_data",
          "data": {
            "application/javascript": [
              "\n",
              "    async function download(id, filename, size) {\n",
              "      if (!google.colab.kernel.accessAllowed) {\n",
              "        return;\n",
              "      }\n",
              "      const div = document.createElement('div');\n",
              "      const label = document.createElement('label');\n",
              "      label.textContent = `Downloading \"${filename}\": `;\n",
              "      div.appendChild(label);\n",
              "      const progress = document.createElement('progress');\n",
              "      progress.max = size;\n",
              "      div.appendChild(progress);\n",
              "      document.body.appendChild(div);\n",
              "\n",
              "      const buffers = [];\n",
              "      let downloaded = 0;\n",
              "\n",
              "      const channel = await google.colab.kernel.comms.open(id);\n",
              "      // Send a message to notify the kernel that we're ready.\n",
              "      channel.send({})\n",
              "\n",
              "      for await (const message of channel.messages) {\n",
              "        // Send a message to notify the kernel that we're ready.\n",
              "        channel.send({})\n",
              "        if (message.buffers) {\n",
              "          for (const buffer of message.buffers) {\n",
              "            buffers.push(buffer);\n",
              "            downloaded += buffer.byteLength;\n",
              "            progress.value = downloaded;\n",
              "          }\n",
              "        }\n",
              "      }\n",
              "      const blob = new Blob(buffers, {type: 'application/binary'});\n",
              "      const a = document.createElement('a');\n",
              "      a.href = window.URL.createObjectURL(blob);\n",
              "      a.download = filename;\n",
              "      div.appendChild(a);\n",
              "      a.click();\n",
              "      div.remove();\n",
              "    }\n",
              "  "
            ],
            "text/plain": [
              "<IPython.core.display.Javascript object>"
            ]
          },
          "metadata": {
            "tags": []
          }
        },
        {
          "output_type": "display_data",
          "data": {
            "application/javascript": [
              "download(\"download_8d250a9d-3b47-48e1-8101-d61ad0e0277b\", \"T40.csv\", 51023)"
            ],
            "text/plain": [
              "<IPython.core.display.Javascript object>"
            ]
          },
          "metadata": {
            "tags": []
          }
        },
        {
          "output_type": "display_data",
          "data": {
            "application/javascript": [
              "\n",
              "    async function download(id, filename, size) {\n",
              "      if (!google.colab.kernel.accessAllowed) {\n",
              "        return;\n",
              "      }\n",
              "      const div = document.createElement('div');\n",
              "      const label = document.createElement('label');\n",
              "      label.textContent = `Downloading \"${filename}\": `;\n",
              "      div.appendChild(label);\n",
              "      const progress = document.createElement('progress');\n",
              "      progress.max = size;\n",
              "      div.appendChild(progress);\n",
              "      document.body.appendChild(div);\n",
              "\n",
              "      const buffers = [];\n",
              "      let downloaded = 0;\n",
              "\n",
              "      const channel = await google.colab.kernel.comms.open(id);\n",
              "      // Send a message to notify the kernel that we're ready.\n",
              "      channel.send({})\n",
              "\n",
              "      for await (const message of channel.messages) {\n",
              "        // Send a message to notify the kernel that we're ready.\n",
              "        channel.send({})\n",
              "        if (message.buffers) {\n",
              "          for (const buffer of message.buffers) {\n",
              "            buffers.push(buffer);\n",
              "            downloaded += buffer.byteLength;\n",
              "            progress.value = downloaded;\n",
              "          }\n",
              "        }\n",
              "      }\n",
              "      const blob = new Blob(buffers, {type: 'application/binary'});\n",
              "      const a = document.createElement('a');\n",
              "      a.href = window.URL.createObjectURL(blob);\n",
              "      a.download = filename;\n",
              "      div.appendChild(a);\n",
              "      a.click();\n",
              "      div.remove();\n",
              "    }\n",
              "  "
            ],
            "text/plain": [
              "<IPython.core.display.Javascript object>"
            ]
          },
          "metadata": {
            "tags": []
          }
        },
        {
          "output_type": "display_data",
          "data": {
            "application/javascript": [
              "download(\"download_570e5bf9-f62c-41e2-9270-d88326f0d316\", \"T50.csv\", 51023)"
            ],
            "text/plain": [
              "<IPython.core.display.Javascript object>"
            ]
          },
          "metadata": {
            "tags": []
          }
        },
        {
          "output_type": "display_data",
          "data": {
            "application/javascript": [
              "\n",
              "    async function download(id, filename, size) {\n",
              "      if (!google.colab.kernel.accessAllowed) {\n",
              "        return;\n",
              "      }\n",
              "      const div = document.createElement('div');\n",
              "      const label = document.createElement('label');\n",
              "      label.textContent = `Downloading \"${filename}\": `;\n",
              "      div.appendChild(label);\n",
              "      const progress = document.createElement('progress');\n",
              "      progress.max = size;\n",
              "      div.appendChild(progress);\n",
              "      document.body.appendChild(div);\n",
              "\n",
              "      const buffers = [];\n",
              "      let downloaded = 0;\n",
              "\n",
              "      const channel = await google.colab.kernel.comms.open(id);\n",
              "      // Send a message to notify the kernel that we're ready.\n",
              "      channel.send({})\n",
              "\n",
              "      for await (const message of channel.messages) {\n",
              "        // Send a message to notify the kernel that we're ready.\n",
              "        channel.send({})\n",
              "        if (message.buffers) {\n",
              "          for (const buffer of message.buffers) {\n",
              "            buffers.push(buffer);\n",
              "            downloaded += buffer.byteLength;\n",
              "            progress.value = downloaded;\n",
              "          }\n",
              "        }\n",
              "      }\n",
              "      const blob = new Blob(buffers, {type: 'application/binary'});\n",
              "      const a = document.createElement('a');\n",
              "      a.href = window.URL.createObjectURL(blob);\n",
              "      a.download = filename;\n",
              "      div.appendChild(a);\n",
              "      a.click();\n",
              "      div.remove();\n",
              "    }\n",
              "  "
            ],
            "text/plain": [
              "<IPython.core.display.Javascript object>"
            ]
          },
          "metadata": {
            "tags": []
          }
        },
        {
          "output_type": "display_data",
          "data": {
            "application/javascript": [
              "download(\"download_e3cce68d-9897-4e86-8839-37d27330bf6e\", \"T60.csv\", 51023)"
            ],
            "text/plain": [
              "<IPython.core.display.Javascript object>"
            ]
          },
          "metadata": {
            "tags": []
          }
        },
        {
          "output_type": "display_data",
          "data": {
            "application/javascript": [
              "\n",
              "    async function download(id, filename, size) {\n",
              "      if (!google.colab.kernel.accessAllowed) {\n",
              "        return;\n",
              "      }\n",
              "      const div = document.createElement('div');\n",
              "      const label = document.createElement('label');\n",
              "      label.textContent = `Downloading \"${filename}\": `;\n",
              "      div.appendChild(label);\n",
              "      const progress = document.createElement('progress');\n",
              "      progress.max = size;\n",
              "      div.appendChild(progress);\n",
              "      document.body.appendChild(div);\n",
              "\n",
              "      const buffers = [];\n",
              "      let downloaded = 0;\n",
              "\n",
              "      const channel = await google.colab.kernel.comms.open(id);\n",
              "      // Send a message to notify the kernel that we're ready.\n",
              "      channel.send({})\n",
              "\n",
              "      for await (const message of channel.messages) {\n",
              "        // Send a message to notify the kernel that we're ready.\n",
              "        channel.send({})\n",
              "        if (message.buffers) {\n",
              "          for (const buffer of message.buffers) {\n",
              "            buffers.push(buffer);\n",
              "            downloaded += buffer.byteLength;\n",
              "            progress.value = downloaded;\n",
              "          }\n",
              "        }\n",
              "      }\n",
              "      const blob = new Blob(buffers, {type: 'application/binary'});\n",
              "      const a = document.createElement('a');\n",
              "      a.href = window.URL.createObjectURL(blob);\n",
              "      a.download = filename;\n",
              "      div.appendChild(a);\n",
              "      a.click();\n",
              "      div.remove();\n",
              "    }\n",
              "  "
            ],
            "text/plain": [
              "<IPython.core.display.Javascript object>"
            ]
          },
          "metadata": {
            "tags": []
          }
        },
        {
          "output_type": "display_data",
          "data": {
            "application/javascript": [
              "download(\"download_8d9b7d12-f99a-49c8-9d94-78bb01b980ff\", \"T80.csv\", 51023)"
            ],
            "text/plain": [
              "<IPython.core.display.Javascript object>"
            ]
          },
          "metadata": {
            "tags": []
          }
        },
        {
          "output_type": "display_data",
          "data": {
            "application/javascript": [
              "\n",
              "    async function download(id, filename, size) {\n",
              "      if (!google.colab.kernel.accessAllowed) {\n",
              "        return;\n",
              "      }\n",
              "      const div = document.createElement('div');\n",
              "      const label = document.createElement('label');\n",
              "      label.textContent = `Downloading \"${filename}\": `;\n",
              "      div.appendChild(label);\n",
              "      const progress = document.createElement('progress');\n",
              "      progress.max = size;\n",
              "      div.appendChild(progress);\n",
              "      document.body.appendChild(div);\n",
              "\n",
              "      const buffers = [];\n",
              "      let downloaded = 0;\n",
              "\n",
              "      const channel = await google.colab.kernel.comms.open(id);\n",
              "      // Send a message to notify the kernel that we're ready.\n",
              "      channel.send({})\n",
              "\n",
              "      for await (const message of channel.messages) {\n",
              "        // Send a message to notify the kernel that we're ready.\n",
              "        channel.send({})\n",
              "        if (message.buffers) {\n",
              "          for (const buffer of message.buffers) {\n",
              "            buffers.push(buffer);\n",
              "            downloaded += buffer.byteLength;\n",
              "            progress.value = downloaded;\n",
              "          }\n",
              "        }\n",
              "      }\n",
              "      const blob = new Blob(buffers, {type: 'application/binary'});\n",
              "      const a = document.createElement('a');\n",
              "      a.href = window.URL.createObjectURL(blob);\n",
              "      a.download = filename;\n",
              "      div.appendChild(a);\n",
              "      a.click();\n",
              "      div.remove();\n",
              "    }\n",
              "  "
            ],
            "text/plain": [
              "<IPython.core.display.Javascript object>"
            ]
          },
          "metadata": {
            "tags": []
          }
        },
        {
          "output_type": "display_data",
          "data": {
            "application/javascript": [
              "download(\"download_cc013b5c-8df6-4980-a739-af761c4b15c9\", \"T90.csv\", 51023)"
            ],
            "text/plain": [
              "<IPython.core.display.Javascript object>"
            ]
          },
          "metadata": {
            "tags": []
          }
        }
      ]
    },
    {
      "cell_type": "code",
      "metadata": {
        "colab": {
          "base_uri": "https://localhost:8080/"
        },
        "id": "Iq6NybYctUC3",
        "outputId": "4237d29d-08d0-4ffb-e90d-7f42166e5cc0"
      },
      "source": [
        "r = requests.get(url1)\n",
        "data = r.json()\n",
        "r.elapsed.total_seconds()"
      ],
      "execution_count": null,
      "outputs": [
        {
          "output_type": "execute_result",
          "data": {
            "text/plain": [
              "1.293361"
            ]
          },
          "metadata": {
            "tags": []
          },
          "execution_count": 18
        }
      ]
    },
    {
      "cell_type": "code",
      "metadata": {
        "colab": {
          "base_uri": "https://localhost:8080/"
        },
        "id": "uwd6K1DSxeVi",
        "outputId": "ca97a51b-14e9-4bdd-fae8-12c1008f1c49"
      },
      "source": [
        "r = requests.get(url2)\n",
        "data = r.json()\n",
        "r.elapsed.total_seconds()"
      ],
      "execution_count": null,
      "outputs": [
        {
          "output_type": "execute_result",
          "data": {
            "text/plain": [
              "1.187988"
            ]
          },
          "metadata": {
            "tags": []
          },
          "execution_count": 24
        }
      ]
    },
    {
      "cell_type": "code",
      "metadata": {
        "id": "NV4aps1BwlfO",
        "colab": {
          "base_uri": "https://localhost:8080/",
          "height": 669
        },
        "outputId": "0cea8879-a235-4917-fc37-8e7a3d427234"
      },
      "source": [
        "df = pd.DataFrame(data)\n",
        "df[['PRD_DE', 'DT']]\n",
        "\n",
        "\n",
        "# 노동 - 통계목록\n",
        "https://kosis.kr/openapi/statisticsList.do?method=getList&apiKey={}&vwCd=MT_ZTITLE&parentListId=D&format=json&jsonVD=Y\n",
        "\n",
        "# 경제활동인구조사 - 연령별 경제활동인구 총괄 - 199906~202011 - 15세 이상 - 인구\n",
        "https://kosis.kr/openapi/statisticsData.do?method=getList&apiKey=MDUwYjkzYmRhZjc4Yzk5M2QyZDg1NDBhNjNlOTNjZmQ=&format=json&jsonVD=Y&userStatsId=barkle/101/DT_1DA7002S/2/1/20201228141349_1&prdSe=M&startPrdDe=199906&endPrdDe=202011\n",
        "# 경제활동인구조사 - 연령별 경제활동인구 총괄 - 199906~202011 - 15세 이상 - 경제활동인구\n",
        "https://kosis.kr/openapi/statisticsData.do?method=getList&apiKey=MDUwYjkzYmRhZjc4Yzk5M2QyZDg1NDBhNjNlOTNjZmQ=&format=json&jsonVD=Y&userStatsId=barkle/101/DT_1DA7002S/2/1/20201228141656_1&prdSe=M&startPrdDe=199906&endPrdDe=202011\n",
        "# 경제활동인구조사 - 연령별 경제활동인구 총괄 - 199906~202011 - 15세 이상 - 취업자\n",
        "https://kosis.kr/openapi/statisticsData.do?method=getList&apiKey=MDUwYjkzYmRhZjc4Yzk5M2QyZDg1NDBhNjNlOTNjZmQ=&format=json&jsonVD=Y&userStatsId=barkle/101/DT_1DA7002S/2/1/20201228142444_1&prdSe=M&startPrdDe=199906&endPrdDe=202011\n",
        "\n",
        "\n",
        "url1 = \"\"\n",
        "url2 = \"https://kosis.kr/openapi/Param/statisticsParameterData.do?method=getList&apiKey={}&itmId={}+&objL1=00+&objL2=&objL3=&objL4=&objL5=&objL6=&objL7=&objL8=&format=json&jsonVD=Y&prdSe=M&startPrdDe=199906&endPrdDe=202011&loadGubun=1&orgId=101&tblId=DT_1DA7002S\"\n",
        "https://kosis.kr/openapi/statisticsData.do?method=getList&apiKey=MDUwYjkzYmRhZjc4Yzk5M2QyZDg1NDBhNjNlOTNjZmQ=&format=json&jsonVD=Y&userStatsId=barkle/101/DT_1DA7002S/2/1/20201228115448_1&prdSe=M&startPrdDe=199906&endPrdDe=202011"
      ],
      "execution_count": null,
      "outputs": [
        {
          "output_type": "execute_result",
          "data": {
            "text/html": [
              "<div>\n",
              "<style scoped>\n",
              "    .dataframe tbody tr th:only-of-type {\n",
              "        vertical-align: middle;\n",
              "    }\n",
              "\n",
              "    .dataframe tbody tr th {\n",
              "        vertical-align: top;\n",
              "    }\n",
              "\n",
              "    .dataframe thead th {\n",
              "        text-align: right;\n",
              "    }\n",
              "</style>\n",
              "<table border=\"1\" class=\"dataframe\">\n",
              "  <thead>\n",
              "    <tr style=\"text-align: right;\">\n",
              "      <th></th>\n",
              "      <th>PRD_DE</th>\n",
              "      <th>DT</th>\n",
              "    </tr>\n",
              "  </thead>\n",
              "  <tbody>\n",
              "    <tr>\n",
              "      <th>0</th>\n",
              "      <td>199906</td>\n",
              "      <td>35737</td>\n",
              "    </tr>\n",
              "    <tr>\n",
              "      <th>1</th>\n",
              "      <td>199907</td>\n",
              "      <td>35779</td>\n",
              "    </tr>\n",
              "    <tr>\n",
              "      <th>2</th>\n",
              "      <td>199908</td>\n",
              "      <td>35815</td>\n",
              "    </tr>\n",
              "    <tr>\n",
              "      <th>3</th>\n",
              "      <td>199909</td>\n",
              "      <td>35849</td>\n",
              "    </tr>\n",
              "    <tr>\n",
              "      <th>4</th>\n",
              "      <td>199910</td>\n",
              "      <td>35885</td>\n",
              "    </tr>\n",
              "    <tr>\n",
              "      <th>5</th>\n",
              "      <td>199911</td>\n",
              "      <td>35916</td>\n",
              "    </tr>\n",
              "    <tr>\n",
              "      <th>6</th>\n",
              "      <td>199912</td>\n",
              "      <td>35953</td>\n",
              "    </tr>\n",
              "    <tr>\n",
              "      <th>7</th>\n",
              "      <td>200001</td>\n",
              "      <td>35977.8</td>\n",
              "    </tr>\n",
              "    <tr>\n",
              "      <th>8</th>\n",
              "      <td>200002</td>\n",
              "      <td>36011</td>\n",
              "    </tr>\n",
              "    <tr>\n",
              "      <th>9</th>\n",
              "      <td>200003</td>\n",
              "      <td>36043.8</td>\n",
              "    </tr>\n",
              "    <tr>\n",
              "      <th>10</th>\n",
              "      <td>200004</td>\n",
              "      <td>36081.1</td>\n",
              "    </tr>\n",
              "    <tr>\n",
              "      <th>11</th>\n",
              "      <td>200005</td>\n",
              "      <td>36126.4</td>\n",
              "    </tr>\n",
              "    <tr>\n",
              "      <th>12</th>\n",
              "      <td>200006</td>\n",
              "      <td>36167.3</td>\n",
              "    </tr>\n",
              "    <tr>\n",
              "      <th>13</th>\n",
              "      <td>200007</td>\n",
              "      <td>36215.5</td>\n",
              "    </tr>\n",
              "    <tr>\n",
              "      <th>14</th>\n",
              "      <td>200008</td>\n",
              "      <td>36259.2</td>\n",
              "    </tr>\n",
              "    <tr>\n",
              "      <th>15</th>\n",
              "      <td>200009</td>\n",
              "      <td>36301.1</td>\n",
              "    </tr>\n",
              "    <tr>\n",
              "      <th>16</th>\n",
              "      <td>200010</td>\n",
              "      <td>36338.5</td>\n",
              "    </tr>\n",
              "    <tr>\n",
              "      <th>17</th>\n",
              "      <td>200011</td>\n",
              "      <td>36372.9</td>\n",
              "    </tr>\n",
              "    <tr>\n",
              "      <th>18</th>\n",
              "      <td>200012</td>\n",
              "      <td>36414</td>\n",
              "    </tr>\n",
              "    <tr>\n",
              "      <th>19</th>\n",
              "      <td>200101</td>\n",
              "      <td>36426.7</td>\n",
              "    </tr>\n",
              "  </tbody>\n",
              "</table>\n",
              "</div>"
            ],
            "text/plain": [
              "    PRD_DE       DT\n",
              "0   199906    35737\n",
              "1   199907    35779\n",
              "2   199908    35815\n",
              "3   199909    35849\n",
              "4   199910    35885\n",
              "5   199911    35916\n",
              "6   199912    35953\n",
              "7   200001  35977.8\n",
              "8   200002    36011\n",
              "9   200003  36043.8\n",
              "10  200004  36081.1\n",
              "11  200005  36126.4\n",
              "12  200006  36167.3\n",
              "13  200007  36215.5\n",
              "14  200008  36259.2\n",
              "15  200009  36301.1\n",
              "16  200010  36338.5\n",
              "17  200011  36372.9\n",
              "18  200012    36414\n",
              "19  200101  36426.7"
            ]
          },
          "metadata": {
            "tags": []
          },
          "execution_count": 34
        }
      ]
    },
    {
      "cell_type": "code",
      "metadata": {
        "id": "3lI7-tHFwp0z",
        "colab": {
          "base_uri": "https://localhost:8080/",
          "height": 565
        },
        "outputId": "68694b65-5c3c-4f37-8b15-8e78ba7ca7dd"
      },
      "source": [
        "df['PRD_DE', 'DT']"
      ],
      "execution_count": null,
      "outputs": [
        {
          "output_type": "error",
          "ename": "KeyError",
          "evalue": "ignored",
          "traceback": [
            "\u001b[0;31m---------------------------------------------------------------------------\u001b[0m",
            "\u001b[0;31mKeyError\u001b[0m                                  Traceback (most recent call last)",
            "\u001b[0;32m/usr/local/lib/python3.6/dist-packages/pandas/core/indexes/base.py\u001b[0m in \u001b[0;36mget_loc\u001b[0;34m(self, key, method, tolerance)\u001b[0m\n\u001b[1;32m   2897\u001b[0m             \u001b[0;32mtry\u001b[0m\u001b[0;34m:\u001b[0m\u001b[0;34m\u001b[0m\u001b[0;34m\u001b[0m\u001b[0m\n\u001b[0;32m-> 2898\u001b[0;31m                 \u001b[0;32mreturn\u001b[0m \u001b[0mself\u001b[0m\u001b[0;34m.\u001b[0m\u001b[0m_engine\u001b[0m\u001b[0;34m.\u001b[0m\u001b[0mget_loc\u001b[0m\u001b[0;34m(\u001b[0m\u001b[0mcasted_key\u001b[0m\u001b[0;34m)\u001b[0m\u001b[0;34m\u001b[0m\u001b[0;34m\u001b[0m\u001b[0m\n\u001b[0m\u001b[1;32m   2899\u001b[0m             \u001b[0;32mexcept\u001b[0m \u001b[0mKeyError\u001b[0m \u001b[0;32mas\u001b[0m \u001b[0merr\u001b[0m\u001b[0;34m:\u001b[0m\u001b[0;34m\u001b[0m\u001b[0;34m\u001b[0m\u001b[0m\n",
            "\u001b[0;32mpandas/_libs/index.pyx\u001b[0m in \u001b[0;36mpandas._libs.index.IndexEngine.get_loc\u001b[0;34m()\u001b[0m\n",
            "\u001b[0;32mpandas/_libs/index.pyx\u001b[0m in \u001b[0;36mpandas._libs.index.IndexEngine.get_loc\u001b[0;34m()\u001b[0m\n",
            "\u001b[0;32mpandas/_libs/hashtable_class_helper.pxi\u001b[0m in \u001b[0;36mpandas._libs.hashtable.PyObjectHashTable.get_item\u001b[0;34m()\u001b[0m\n",
            "\u001b[0;32mpandas/_libs/hashtable_class_helper.pxi\u001b[0m in \u001b[0;36mpandas._libs.hashtable.PyObjectHashTable.get_item\u001b[0;34m()\u001b[0m\n",
            "\u001b[0;31mKeyError\u001b[0m: ('PRD_DE', 'DT')",
            "\nThe above exception was the direct cause of the following exception:\n",
            "\u001b[0;31mKeyError\u001b[0m                                  Traceback (most recent call last)",
            "\u001b[0;32m<ipython-input-27-5cdeecd00ad9>\u001b[0m in \u001b[0;36m<module>\u001b[0;34m()\u001b[0m\n\u001b[0;32m----> 1\u001b[0;31m \u001b[0mdf\u001b[0m\u001b[0;34m[\u001b[0m\u001b[0;34m'PRD_DE'\u001b[0m\u001b[0;34m,\u001b[0m \u001b[0;34m'DT'\u001b[0m\u001b[0;34m]\u001b[0m\u001b[0;34m\u001b[0m\u001b[0;34m\u001b[0m\u001b[0m\n\u001b[0m",
            "\u001b[0;32m/usr/local/lib/python3.6/dist-packages/pandas/core/frame.py\u001b[0m in \u001b[0;36m__getitem__\u001b[0;34m(self, key)\u001b[0m\n\u001b[1;32m   2904\u001b[0m             \u001b[0;32mif\u001b[0m \u001b[0mself\u001b[0m\u001b[0;34m.\u001b[0m\u001b[0mcolumns\u001b[0m\u001b[0;34m.\u001b[0m\u001b[0mnlevels\u001b[0m \u001b[0;34m>\u001b[0m \u001b[0;36m1\u001b[0m\u001b[0;34m:\u001b[0m\u001b[0;34m\u001b[0m\u001b[0;34m\u001b[0m\u001b[0m\n\u001b[1;32m   2905\u001b[0m                 \u001b[0;32mreturn\u001b[0m \u001b[0mself\u001b[0m\u001b[0;34m.\u001b[0m\u001b[0m_getitem_multilevel\u001b[0m\u001b[0;34m(\u001b[0m\u001b[0mkey\u001b[0m\u001b[0;34m)\u001b[0m\u001b[0;34m\u001b[0m\u001b[0;34m\u001b[0m\u001b[0m\n\u001b[0;32m-> 2906\u001b[0;31m             \u001b[0mindexer\u001b[0m \u001b[0;34m=\u001b[0m \u001b[0mself\u001b[0m\u001b[0;34m.\u001b[0m\u001b[0mcolumns\u001b[0m\u001b[0;34m.\u001b[0m\u001b[0mget_loc\u001b[0m\u001b[0;34m(\u001b[0m\u001b[0mkey\u001b[0m\u001b[0;34m)\u001b[0m\u001b[0;34m\u001b[0m\u001b[0;34m\u001b[0m\u001b[0m\n\u001b[0m\u001b[1;32m   2907\u001b[0m             \u001b[0;32mif\u001b[0m \u001b[0mis_integer\u001b[0m\u001b[0;34m(\u001b[0m\u001b[0mindexer\u001b[0m\u001b[0;34m)\u001b[0m\u001b[0;34m:\u001b[0m\u001b[0;34m\u001b[0m\u001b[0;34m\u001b[0m\u001b[0m\n\u001b[1;32m   2908\u001b[0m                 \u001b[0mindexer\u001b[0m \u001b[0;34m=\u001b[0m \u001b[0;34m[\u001b[0m\u001b[0mindexer\u001b[0m\u001b[0;34m]\u001b[0m\u001b[0;34m\u001b[0m\u001b[0;34m\u001b[0m\u001b[0m\n",
            "\u001b[0;32m/usr/local/lib/python3.6/dist-packages/pandas/core/indexes/base.py\u001b[0m in \u001b[0;36mget_loc\u001b[0;34m(self, key, method, tolerance)\u001b[0m\n\u001b[1;32m   2898\u001b[0m                 \u001b[0;32mreturn\u001b[0m \u001b[0mself\u001b[0m\u001b[0;34m.\u001b[0m\u001b[0m_engine\u001b[0m\u001b[0;34m.\u001b[0m\u001b[0mget_loc\u001b[0m\u001b[0;34m(\u001b[0m\u001b[0mcasted_key\u001b[0m\u001b[0;34m)\u001b[0m\u001b[0;34m\u001b[0m\u001b[0;34m\u001b[0m\u001b[0m\n\u001b[1;32m   2899\u001b[0m             \u001b[0;32mexcept\u001b[0m \u001b[0mKeyError\u001b[0m \u001b[0;32mas\u001b[0m \u001b[0merr\u001b[0m\u001b[0;34m:\u001b[0m\u001b[0;34m\u001b[0m\u001b[0;34m\u001b[0m\u001b[0m\n\u001b[0;32m-> 2900\u001b[0;31m                 \u001b[0;32mraise\u001b[0m \u001b[0mKeyError\u001b[0m\u001b[0;34m(\u001b[0m\u001b[0mkey\u001b[0m\u001b[0;34m)\u001b[0m \u001b[0;32mfrom\u001b[0m \u001b[0merr\u001b[0m\u001b[0;34m\u001b[0m\u001b[0;34m\u001b[0m\u001b[0m\n\u001b[0m\u001b[1;32m   2901\u001b[0m \u001b[0;34m\u001b[0m\u001b[0m\n\u001b[1;32m   2902\u001b[0m         \u001b[0;32mif\u001b[0m \u001b[0mtolerance\u001b[0m \u001b[0;32mis\u001b[0m \u001b[0;32mnot\u001b[0m \u001b[0;32mNone\u001b[0m\u001b[0;34m:\u001b[0m\u001b[0;34m\u001b[0m\u001b[0;34m\u001b[0m\u001b[0m\n",
            "\u001b[0;31mKeyError\u001b[0m: ('PRD_DE', 'DT')"
          ]
        }
      ]
    },
    {
      "cell_type": "code",
      "metadata": {
        "colab": {
          "base_uri": "https://localhost:8080/"
        },
        "id": "v8vLZ602QqD1",
        "outputId": "690184ae-9700-40a3-fde0-8a491909806f"
      },
      "source": [
        "columns = [{'name':i, 'id':i} for i in df.columns]\n",
        "columns"
      ],
      "execution_count": null,
      "outputs": [
        {
          "output_type": "execute_result",
          "data": {
            "text/plain": [
              "[{'id': 'LIST_NM', 'name': 'LIST_NM'},\n",
              " {'id': 'VW_CD', 'name': 'VW_CD'},\n",
              " {'id': 'VW_NM', 'name': 'VW_NM'},\n",
              " {'id': 'LIST_ID', 'name': 'LIST_ID'}]"
            ]
          },
          "metadata": {
            "tags": []
          },
          "execution_count": 12
        }
      ]
    },
    {
      "cell_type": "code",
      "metadata": {
        "id": "ggFuh1hqSCuU"
      },
      "source": [
        "https://kosis.kr/openapi/Param/statisticsParameterData.do?method=getList&apiKey=MDUwYjkzYmRhZjc4Yzk5M2QyZDg1NDBhNjNlOTNjZmQ=&itmId=T10+&objL1=00+&objL2=&objL3=&objL4=&objL5=&objL6=&objL7=&objL8=&format=json&jsonVD=Y&prdSe=M&startPrdDe=199906&endPrdDe=202011&loadGubun=1&orgId=101&tblId=DT_1DA7002S\n",
        "https://kosis.kr/openapi/Param/statisticsParameterData.do?method=getList&apiKey=MDUwYjkzYmRhZjc4Yzk5M2QyZDg1NDBhNjNlOTNjZmQ=&itmId=T20+&objL1=00+&objL2=&objL3=&objL4=&objL5=&objL6=&objL7=&objL8=&format=json&jsonVD=Y&prdSe=M&startPrdDe=199906&endPrdDe=202011&loadGubun=1&orgId=101&tblId=DT_1DA7002S\n",
        "https://kosis.kr/openapi/Param/statisticsParameterData.do?method=getList&apiKey=MDUwYjkzYmRhZjc4Yzk5M2QyZDg1NDBhNjNlOTNjZmQ=&itmId=T30+&objL1=00+&objL2=&objL3=&objL4=&objL5=&objL6=&objL7=&objL8=&format=json&jsonVD=Y&prdSe=M&startPrdDe=199906&endPrdDe=202011&loadGubun=1&orgId=101&tblId=DT_1DA7002S\n",
        "https://kosis.kr/openapi/Param/statisticsParameterData.do?method=getList&apiKey=MDUwYjkzYmRhZjc4Yzk5M2QyZDg1NDBhNjNlOTNjZmQ=&itmId=T40+&objL1=00+&objL2=&objL3=&objL4=&objL5=&objL6=&objL7=&objL8=&format=json&jsonVD=Y&prdSe=M&startPrdDe=199906&endPrdDe=202011&loadGubun=1&orgId=101&tblId=DT_1DA7002S\n",
        "https://kosis.kr/openapi/Param/statisticsParameterData.do?method=getList&apiKey=MDUwYjkzYmRhZjc4Yzk5M2QyZDg1NDBhNjNlOTNjZmQ=&itmId=T50+&objL1=00+&objL2=&objL3=&objL4=&objL5=&objL6=&objL7=&objL8=&format=json&jsonVD=Y&prdSe=M&startPrdDe=199906&endPrdDe=202011&loadGubun=1&orgId=101&tblId=DT_1DA7002S\n",
        "https://kosis.kr/openapi/Param/statisticsParameterData.do?method=getList&apiKey=MDUwYjkzYmRhZjc4Yzk5M2QyZDg1NDBhNjNlOTNjZmQ=&itmId=T60+&objL1=00+&objL2=&objL3=&objL4=&objL5=&objL6=&objL7=&objL8=&format=json&jsonVD=Y&prdSe=M&startPrdDe=199906&endPrdDe=202011&loadGubun=1&orgId=101&tblId=DT_1DA7002S\n",
        "https://kosis.kr/openapi/Param/statisticsParameterData.do?method=getList&apiKey=MDUwYjkzYmRhZjc4Yzk5M2QyZDg1NDBhNjNlOTNjZmQ=&itmId=T80+&objL1=00+&objL2=&objL3=&objL4=&objL5=&objL6=&objL7=&objL8=&format=json&jsonVD=Y&prdSe=M&startPrdDe=199906&endPrdDe=202011&loadGubun=1&orgId=101&tblId=DT_1DA7002S\n",
        "https://kosis.kr/openapi/Param/statisticsParameterData.do?method=getList&apiKey=MDUwYjkzYmRhZjc4Yzk5M2QyZDg1NDBhNjNlOTNjZmQ=&itmId=T90+&objL1=00+&objL2=&objL3=&objL4=&objL5=&objL6=&objL7=&objL8=&format=json&jsonVD=Y&prdSe=M&startPrdDe=199906&endPrdDe=202011&loadGubun=1&orgId=101&tblId=DT_1DA7002S\n",
        "\n",
        "https://kosis.kr/openapi/Param/statisticsParameterData.do?method=getList&apiKey=MDUwYjkzYmRhZjc4Yzk5M2QyZDg1NDBhNjNlOTNjZmQ=&itmId=T10+&objL1=10+&objL2=&objL3=&objL4=&objL5=&objL6=&objL7=&objL8=&format=json&jsonVD=Y&prdSe=M&startPrdDe=199906&endPrdDe=202011&loadGubun=1&orgId=101&tblId=DT_1DA7002S\n",
        "https://kosis.kr/openapi/statisticsData.do?method=getList&apiKey=MDUwYjkzYmRhZjc4Yzk5M2QyZDg1NDBhNjNlOTNjZmQ=&format=json&jsonVD=Y&userStatsId=barkle/101/DT_1DA7002S/2/1/20201228113855_1&prdSe=M&startPrdDe=199906&endPrdDe=202011\n"
      ],
      "execution_count": null,
      "outputs": []
    }
  ]
}