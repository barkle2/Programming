{
  "nbformat": 4,
  "nbformat_minor": 0,
  "metadata": {
    "colab": {
      "name": "kosis_API.ipynb",
      "provenance": [],
      "collapsed_sections": [],
      "authorship_tag": "ABX9TyPbtAlkHSeOflwxAYn3Uc+H",
      "include_colab_link": true
    },
    "kernelspec": {
      "name": "python3",
      "display_name": "Python 3"
    }
  },
  "cells": [
    {
      "cell_type": "markdown",
      "metadata": {
        "id": "view-in-github",
        "colab_type": "text"
      },
      "source": [
        "<a href=\"https://colab.research.google.com/github/barkle2/Programming/blob/master/%5BPython%5D%20Tutorial/kosis_API.ipynb\" target=\"_parent\"><img src=\"https://colab.research.google.com/assets/colab-badge.svg\" alt=\"Open In Colab\"/></a>"
      ]
    },
    {
      "cell_type": "markdown",
      "metadata": {
        "id": "EwiishIYFhwW"
      },
      "source": [
        "# 통계청 OPEN API 활용 예제"
      ]
    },
    {
      "cell_type": "markdown",
      "metadata": {
        "id": "8XZRfJnFGZMJ"
      },
      "source": [
        "### 1. 인증키 받기\r\n",
        "- 가장 먼저 해야하는 일은 KOSIS 공유서비스(https://kosis.kr/openapi/index/index.jsp) 사이트에 가입하고, 인증키를 받는 것입니다.\r\n",
        "- 인증키 유효기간은 2년입니다."
      ]
    },
    {
      "cell_type": "code",
      "metadata": {
        "id": "iPtiZkZBGwJU"
      },
      "source": [
        "key = \"MDUwYjkzYmRhZjc4Yzk5M2QyZDg1NDBhNjNlOTNjZmQ=\""
      ],
      "execution_count": 1,
      "outputs": []
    },
    {
      "cell_type": "markdown",
      "metadata": {
        "id": "NSPtP-HcG0tH"
      },
      "source": [
        "### 2. 통계목록 확인\r\n",
        "- 요청 URL: http://kosis.kr/openapi/statisticsList.do?method=getList\r\n",
        "- 요청 변수(String)\r\n",
        "  - apiKey : 인증키\r\n",
        "  - vwCd\r\n",
        "    - MT_ZTITLE : 국내통계 주제별\r\n",
        "    - MT_OTITLE : 국내통계 기관별\r\n",
        "  - parentListId\r\n",
        "    - MT_ZTITLE : 노동(D)\r\n",
        "    - MT_OTITLE : 통계청(101), 고용노동부(118)\r\n",
        "  - format: json"
      ]
    },
    {
      "cell_type": "markdown",
      "metadata": {
        "id": "NcHW-YPaLN9z"
      },
      "source": [
        "- API 호출을 위한 Query 문 생성"
      ]
    },
    {
      "cell_type": "code",
      "metadata": {
        "id": "mvsmMq3fKS_W"
      },
      "source": [
        "query = \"https://kosis.kr/openapi/statisticsList.do?method=getList&apiKey={}&vwCd={}&parentListId={}&format=json&jsonVD=Y\"\r\n",
        "vwCd = \"MT_ZTITLE\"\r\n",
        "parentListId = \"D\"\r\n",
        "\r\n",
        "query = query.format(key, vwCd, parentListId)"
      ],
      "execution_count": 2,
      "outputs": []
    },
    {
      "cell_type": "markdown",
      "metadata": {
        "id": "x3YIsWDhMUYE"
      },
      "source": [
        ""
      ]
    },
    {
      "cell_type": "markdown",
      "metadata": {
        "id": "QGHNqDpsLVsH"
      },
      "source": [
        "- requests library를 활용하여 API 호출"
      ]
    },
    {
      "cell_type": "code",
      "metadata": {
        "id": "QovbcH9mtRO_"
      },
      "source": [
        "import requests\n",
        "import pandas as pd\n",
        "from google.colab import files\n",
        "import time, random"
      ],
      "execution_count": 3,
      "outputs": []
    },
    {
      "cell_type": "markdown",
      "metadata": {
        "id": "6DLF_97FPDM8"
      },
      "source": [
        "- '국내통계 주제별' 중 '노동'에 해당하는 통계목록은 다음과 같다."
      ]
    },
    {
      "cell_type": "code",
      "metadata": {
        "colab": {
          "base_uri": "https://localhost:8080/",
          "height": 1000
        },
        "id": "eGjlL1Q3Lsbh",
        "outputId": "4d6590e9-c5da-421f-9765-039ebb253e01"
      },
      "source": [
        "r = requests.get(query)\r\n",
        "r.content\r\n",
        "data = r.json()\r\n",
        "df = pd.DataFrame(data)\r\n",
        "df"
      ],
      "execution_count": 4,
      "outputs": [
        {
          "output_type": "execute_result",
          "data": {
            "text/html": [
              "<div>\n",
              "<style scoped>\n",
              "    .dataframe tbody tr th:only-of-type {\n",
              "        vertical-align: middle;\n",
              "    }\n",
              "\n",
              "    .dataframe tbody tr th {\n",
              "        vertical-align: top;\n",
              "    }\n",
              "\n",
              "    .dataframe thead th {\n",
              "        text-align: right;\n",
              "    }\n",
              "</style>\n",
              "<table border=\"1\" class=\"dataframe\">\n",
              "  <thead>\n",
              "    <tr style=\"text-align: right;\">\n",
              "      <th></th>\n",
              "      <th>LIST_NM</th>\n",
              "      <th>VW_CD</th>\n",
              "      <th>VW_NM</th>\n",
              "      <th>LIST_ID</th>\n",
              "    </tr>\n",
              "  </thead>\n",
              "  <tbody>\n",
              "    <tr>\n",
              "      <th>0</th>\n",
              "      <td>경력단절여성등의경제활동실태조사</td>\n",
              "      <td>MT_ZTITLE</td>\n",
              "      <td>국내통계 주제별</td>\n",
              "      <td>D_1</td>\n",
              "    </tr>\n",
              "    <tr>\n",
              "      <th>1</th>\n",
              "      <td>경제활동인구조사</td>\n",
              "      <td>MT_ZTITLE</td>\n",
              "      <td>국내통계 주제별</td>\n",
              "      <td>D_2</td>\n",
              "    </tr>\n",
              "    <tr>\n",
              "      <th>2</th>\n",
              "      <td>고령자고용현황</td>\n",
              "      <td>MT_ZTITLE</td>\n",
              "      <td>국내통계 주제별</td>\n",
              "      <td>D_3</td>\n",
              "    </tr>\n",
              "    <tr>\n",
              "      <th>3</th>\n",
              "      <td>고용보험통계</td>\n",
              "      <td>MT_ZTITLE</td>\n",
              "      <td>국내통계 주제별</td>\n",
              "      <td>D_4</td>\n",
              "    </tr>\n",
              "    <tr>\n",
              "      <th>4</th>\n",
              "      <td>고용허가제고용동향</td>\n",
              "      <td>MT_ZTITLE</td>\n",
              "      <td>국내통계 주제별</td>\n",
              "      <td>D_5</td>\n",
              "    </tr>\n",
              "    <tr>\n",
              "      <th>5</th>\n",
              "      <td>고용형태별근로실태조사</td>\n",
              "      <td>MT_ZTITLE</td>\n",
              "      <td>국내통계 주제별</td>\n",
              "      <td>D_6</td>\n",
              "    </tr>\n",
              "    <tr>\n",
              "      <th>6</th>\n",
              "      <td>구직급여신청동향</td>\n",
              "      <td>MT_ZTITLE</td>\n",
              "      <td>국내통계 주제별</td>\n",
              "      <td>D_7</td>\n",
              "    </tr>\n",
              "    <tr>\n",
              "      <th>7</th>\n",
              "      <td>근로환경조사</td>\n",
              "      <td>MT_ZTITLE</td>\n",
              "      <td>국내통계 주제별</td>\n",
              "      <td>D_8</td>\n",
              "    </tr>\n",
              "    <tr>\n",
              "      <th>8</th>\n",
              "      <td>기업직업훈련실태조사</td>\n",
              "      <td>MT_ZTITLE</td>\n",
              "      <td>국내통계 주제별</td>\n",
              "      <td>D_9</td>\n",
              "    </tr>\n",
              "    <tr>\n",
              "      <th>9</th>\n",
              "      <td>기업체장애인고용실태조사</td>\n",
              "      <td>MT_ZTITLE</td>\n",
              "      <td>국내통계 주제별</td>\n",
              "      <td>D_10</td>\n",
              "    </tr>\n",
              "    <tr>\n",
              "      <th>10</th>\n",
              "      <td>노동생산성지수</td>\n",
              "      <td>MT_ZTITLE</td>\n",
              "      <td>국내통계 주제별</td>\n",
              "      <td>D_11</td>\n",
              "    </tr>\n",
              "    <tr>\n",
              "      <th>11</th>\n",
              "      <td>노사분규통계</td>\n",
              "      <td>MT_ZTITLE</td>\n",
              "      <td>국내통계 주제별</td>\n",
              "      <td>D_12</td>\n",
              "    </tr>\n",
              "    <tr>\n",
              "      <th>12</th>\n",
              "      <td>대졸자직업이동경로조사</td>\n",
              "      <td>MT_ZTITLE</td>\n",
              "      <td>국내통계 주제별</td>\n",
              "      <td>D_13</td>\n",
              "    </tr>\n",
              "    <tr>\n",
              "      <th>13</th>\n",
              "      <td>박사인력활동조사</td>\n",
              "      <td>MT_ZTITLE</td>\n",
              "      <td>국내통계 주제별</td>\n",
              "      <td>D_14</td>\n",
              "    </tr>\n",
              "    <tr>\n",
              "      <th>14</th>\n",
              "      <td>사업체기간제근로자현황조사</td>\n",
              "      <td>MT_ZTITLE</td>\n",
              "      <td>국내통계 주제별</td>\n",
              "      <td>D_15</td>\n",
              "    </tr>\n",
              "    <tr>\n",
              "      <th>15</th>\n",
              "      <td>사업체노동력조사</td>\n",
              "      <td>MT_ZTITLE</td>\n",
              "      <td>국내통계 주제별</td>\n",
              "      <td>D_16</td>\n",
              "    </tr>\n",
              "    <tr>\n",
              "      <th>16</th>\n",
              "      <td>사업체노동실태현황</td>\n",
              "      <td>MT_ZTITLE</td>\n",
              "      <td>국내통계 주제별</td>\n",
              "      <td>D_17</td>\n",
              "    </tr>\n",
              "    <tr>\n",
              "      <th>17</th>\n",
              "      <td>산업기술인력수급실태조사</td>\n",
              "      <td>MT_ZTITLE</td>\n",
              "      <td>국내통계 주제별</td>\n",
              "      <td>D_18</td>\n",
              "    </tr>\n",
              "    <tr>\n",
              "      <th>18</th>\n",
              "      <td>산재보험통계</td>\n",
              "      <td>MT_ZTITLE</td>\n",
              "      <td>국내통계 주제별</td>\n",
              "      <td>D_19</td>\n",
              "    </tr>\n",
              "    <tr>\n",
              "      <th>19</th>\n",
              "      <td>산재보험패널조사</td>\n",
              "      <td>MT_ZTITLE</td>\n",
              "      <td>국내통계 주제별</td>\n",
              "      <td>D_20</td>\n",
              "    </tr>\n",
              "    <tr>\n",
              "      <th>20</th>\n",
              "      <td>여성관리자패널조사</td>\n",
              "      <td>MT_ZTITLE</td>\n",
              "      <td>국내통계 주제별</td>\n",
              "      <td>D_21</td>\n",
              "    </tr>\n",
              "    <tr>\n",
              "      <th>21</th>\n",
              "      <td>워크넷구인구직및취업동향</td>\n",
              "      <td>MT_ZTITLE</td>\n",
              "      <td>국내통계 주제별</td>\n",
              "      <td>D_22</td>\n",
              "    </tr>\n",
              "    <tr>\n",
              "      <th>22</th>\n",
              "      <td>이민자체류실태및고용조사</td>\n",
              "      <td>MT_ZTITLE</td>\n",
              "      <td>국내통계 주제별</td>\n",
              "      <td>D_23</td>\n",
              "    </tr>\n",
              "    <tr>\n",
              "      <th>23</th>\n",
              "      <td>일자리이동통계</td>\n",
              "      <td>MT_ZTITLE</td>\n",
              "      <td>국내통계 주제별</td>\n",
              "      <td>D_001</td>\n",
              "    </tr>\n",
              "    <tr>\n",
              "      <th>24</th>\n",
              "      <td>일자리행정통계</td>\n",
              "      <td>MT_ZTITLE</td>\n",
              "      <td>국내통계 주제별</td>\n",
              "      <td>D_24</td>\n",
              "    </tr>\n",
              "    <tr>\n",
              "      <th>25</th>\n",
              "      <td>임금근로일자리동향행정통계</td>\n",
              "      <td>MT_ZTITLE</td>\n",
              "      <td>국내통계 주제별</td>\n",
              "      <td>D_25</td>\n",
              "    </tr>\n",
              "    <tr>\n",
              "      <th>26</th>\n",
              "      <td>육아휴직통계</td>\n",
              "      <td>MT_ZTITLE</td>\n",
              "      <td>국내통계 주제별</td>\n",
              "      <td>B_001</td>\n",
              "    </tr>\n",
              "    <tr>\n",
              "      <th>27</th>\n",
              "      <td>작업환경실태조사</td>\n",
              "      <td>MT_ZTITLE</td>\n",
              "      <td>국내통계 주제별</td>\n",
              "      <td>D_26</td>\n",
              "    </tr>\n",
              "    <tr>\n",
              "      <th>28</th>\n",
              "      <td>장애인경제활동실태조사</td>\n",
              "      <td>MT_ZTITLE</td>\n",
              "      <td>국내통계 주제별</td>\n",
              "      <td>D_27</td>\n",
              "    </tr>\n",
              "    <tr>\n",
              "      <th>29</th>\n",
              "      <td>장애인고용패널조사</td>\n",
              "      <td>MT_ZTITLE</td>\n",
              "      <td>국내통계 주제별</td>\n",
              "      <td>D_28</td>\n",
              "    </tr>\n",
              "    <tr>\n",
              "      <th>30</th>\n",
              "      <td>장애인구인구직및취업동향</td>\n",
              "      <td>MT_ZTITLE</td>\n",
              "      <td>국내통계 주제별</td>\n",
              "      <td>D_29</td>\n",
              "    </tr>\n",
              "    <tr>\n",
              "      <th>31</th>\n",
              "      <td>장애인의무고용현황</td>\n",
              "      <td>MT_ZTITLE</td>\n",
              "      <td>국내통계 주제별</td>\n",
              "      <td>D_30</td>\n",
              "    </tr>\n",
              "    <tr>\n",
              "      <th>32</th>\n",
              "      <td>전국노동조합조직현황</td>\n",
              "      <td>MT_ZTITLE</td>\n",
              "      <td>국내통계 주제별</td>\n",
              "      <td>D_31</td>\n",
              "    </tr>\n",
              "    <tr>\n",
              "      <th>33</th>\n",
              "      <td>지역별고용조사</td>\n",
              "      <td>MT_ZTITLE</td>\n",
              "      <td>국내통계 주제별</td>\n",
              "      <td>D_32</td>\n",
              "    </tr>\n",
              "    <tr>\n",
              "      <th>34</th>\n",
              "      <td>직종별사업체노동력조사</td>\n",
              "      <td>MT_ZTITLE</td>\n",
              "      <td>국내통계 주제별</td>\n",
              "      <td>D_33</td>\n",
              "    </tr>\n",
              "    <tr>\n",
              "      <th>35</th>\n",
              "      <td>청년패널조사</td>\n",
              "      <td>MT_ZTITLE</td>\n",
              "      <td>국내통계 주제별</td>\n",
              "      <td>D_34</td>\n",
              "    </tr>\n",
              "    <tr>\n",
              "      <th>36</th>\n",
              "      <td>한국노동패널조사</td>\n",
              "      <td>MT_ZTITLE</td>\n",
              "      <td>국내통계 주제별</td>\n",
              "      <td>D_35</td>\n",
              "    </tr>\n",
              "  </tbody>\n",
              "</table>\n",
              "</div>"
            ],
            "text/plain": [
              "             LIST_NM      VW_CD     VW_NM LIST_ID\n",
              "0   경력단절여성등의경제활동실태조사  MT_ZTITLE  국내통계 주제별     D_1\n",
              "1           경제활동인구조사  MT_ZTITLE  국내통계 주제별     D_2\n",
              "2            고령자고용현황  MT_ZTITLE  국내통계 주제별     D_3\n",
              "3             고용보험통계  MT_ZTITLE  국내통계 주제별     D_4\n",
              "4          고용허가제고용동향  MT_ZTITLE  국내통계 주제별     D_5\n",
              "5        고용형태별근로실태조사  MT_ZTITLE  국내통계 주제별     D_6\n",
              "6           구직급여신청동향  MT_ZTITLE  국내통계 주제별     D_7\n",
              "7             근로환경조사  MT_ZTITLE  국내통계 주제별     D_8\n",
              "8         기업직업훈련실태조사  MT_ZTITLE  국내통계 주제별     D_9\n",
              "9       기업체장애인고용실태조사  MT_ZTITLE  국내통계 주제별    D_10\n",
              "10           노동생산성지수  MT_ZTITLE  국내통계 주제별    D_11\n",
              "11            노사분규통계  MT_ZTITLE  국내통계 주제별    D_12\n",
              "12       대졸자직업이동경로조사  MT_ZTITLE  국내통계 주제별    D_13\n",
              "13          박사인력활동조사  MT_ZTITLE  국내통계 주제별    D_14\n",
              "14     사업체기간제근로자현황조사  MT_ZTITLE  국내통계 주제별    D_15\n",
              "15          사업체노동력조사  MT_ZTITLE  국내통계 주제별    D_16\n",
              "16         사업체노동실태현황  MT_ZTITLE  국내통계 주제별    D_17\n",
              "17      산업기술인력수급실태조사  MT_ZTITLE  국내통계 주제별    D_18\n",
              "18            산재보험통계  MT_ZTITLE  국내통계 주제별    D_19\n",
              "19          산재보험패널조사  MT_ZTITLE  국내통계 주제별    D_20\n",
              "20         여성관리자패널조사  MT_ZTITLE  국내통계 주제별    D_21\n",
              "21      워크넷구인구직및취업동향  MT_ZTITLE  국내통계 주제별    D_22\n",
              "22      이민자체류실태및고용조사  MT_ZTITLE  국내통계 주제별    D_23\n",
              "23           일자리이동통계  MT_ZTITLE  국내통계 주제별   D_001\n",
              "24           일자리행정통계  MT_ZTITLE  국내통계 주제별    D_24\n",
              "25     임금근로일자리동향행정통계  MT_ZTITLE  국내통계 주제별    D_25\n",
              "26            육아휴직통계  MT_ZTITLE  국내통계 주제별   B_001\n",
              "27          작업환경실태조사  MT_ZTITLE  국내통계 주제별    D_26\n",
              "28       장애인경제활동실태조사  MT_ZTITLE  국내통계 주제별    D_27\n",
              "29         장애인고용패널조사  MT_ZTITLE  국내통계 주제별    D_28\n",
              "30      장애인구인구직및취업동향  MT_ZTITLE  국내통계 주제별    D_29\n",
              "31         장애인의무고용현황  MT_ZTITLE  국내통계 주제별    D_30\n",
              "32        전국노동조합조직현황  MT_ZTITLE  국내통계 주제별    D_31\n",
              "33           지역별고용조사  MT_ZTITLE  국내통계 주제별    D_32\n",
              "34       직종별사업체노동력조사  MT_ZTITLE  국내통계 주제별    D_33\n",
              "35            청년패널조사  MT_ZTITLE  국내통계 주제별    D_34\n",
              "36          한국노동패널조사  MT_ZTITLE  국내통계 주제별    D_35"
            ]
          },
          "metadata": {
            "tags": []
          },
          "execution_count": 4
        }
      ]
    },
    {
      "cell_type": "markdown",
      "metadata": {
        "id": "fMflE_44QaIL"
      },
      "source": [
        "- 엑셀 파일로 저장한 후 다운로드"
      ]
    },
    {
      "cell_type": "code",
      "metadata": {
        "colab": {
          "base_uri": "https://localhost:8080/",
          "height": 34
        },
        "id": "H3l6VUK1LrpS",
        "outputId": "564f3409-c3f0-4f72-fc04-9bd0f6e1b5f6"
      },
      "source": [
        "df.to_excel('노동 통계목록.xlsx')\r\n",
        "files.download('노동 통계목록.xlsx')"
      ],
      "execution_count": 5,
      "outputs": [
        {
          "output_type": "display_data",
          "data": {
            "application/javascript": [
              "\n",
              "    async function download(id, filename, size) {\n",
              "      if (!google.colab.kernel.accessAllowed) {\n",
              "        return;\n",
              "      }\n",
              "      const div = document.createElement('div');\n",
              "      const label = document.createElement('label');\n",
              "      label.textContent = `Downloading \"${filename}\": `;\n",
              "      div.appendChild(label);\n",
              "      const progress = document.createElement('progress');\n",
              "      progress.max = size;\n",
              "      div.appendChild(progress);\n",
              "      document.body.appendChild(div);\n",
              "\n",
              "      const buffers = [];\n",
              "      let downloaded = 0;\n",
              "\n",
              "      const channel = await google.colab.kernel.comms.open(id);\n",
              "      // Send a message to notify the kernel that we're ready.\n",
              "      channel.send({})\n",
              "\n",
              "      for await (const message of channel.messages) {\n",
              "        // Send a message to notify the kernel that we're ready.\n",
              "        channel.send({})\n",
              "        if (message.buffers) {\n",
              "          for (const buffer of message.buffers) {\n",
              "            buffers.push(buffer);\n",
              "            downloaded += buffer.byteLength;\n",
              "            progress.value = downloaded;\n",
              "          }\n",
              "        }\n",
              "      }\n",
              "      const blob = new Blob(buffers, {type: 'application/binary'});\n",
              "      const a = document.createElement('a');\n",
              "      a.href = window.URL.createObjectURL(blob);\n",
              "      a.download = filename;\n",
              "      div.appendChild(a);\n",
              "      a.click();\n",
              "      div.remove();\n",
              "    }\n",
              "  "
            ],
            "text/plain": [
              "<IPython.core.display.Javascript object>"
            ]
          },
          "metadata": {
            "tags": []
          }
        },
        {
          "output_type": "display_data",
          "data": {
            "application/javascript": [
              "download(\"download_52dd328b-a23c-459a-b70e-4e128af07f1b\", \"\\ub178\\ub3d9 \\ud1b5\\uacc4\\ubaa9\\ub85d.xlsx\", 6568)"
            ],
            "text/plain": [
              "<IPython.core.display.Javascript object>"
            ]
          },
          "metadata": {
            "tags": []
          }
        }
      ]
    },
    {
      "cell_type": "markdown",
      "metadata": {
        "id": "822JqQ-HQjSC"
      },
      "source": [
        "- 경제활동인구조사 통계 내에도 여러 개의 세부 통계목록이 존재한다."
      ]
    },
    {
      "cell_type": "code",
      "metadata": {
        "id": "uDCeThtDQu11"
      },
      "source": [
        "query = \"https://kosis.kr/openapi/statisticsList.do?method=getList&apiKey={}&vwCd={}&parentListId={}&format=json&jsonVD=Y\"\r\n",
        "vwCd = \"MT_ZTITLE\"\r\n",
        "parentListId = \"D_2\"\r\n",
        "\r\n",
        "query = query.format(key, vwCd, parentListId)"
      ],
      "execution_count": 6,
      "outputs": []
    },
    {
      "cell_type": "code",
      "metadata": {
        "colab": {
          "base_uri": "https://localhost:8080/",
          "height": 483
        },
        "id": "ufDG-jBZQ7L2",
        "outputId": "c6a25f5d-8a91-476b-fd11-b46ac98ef654"
      },
      "source": [
        "r = requests.get(query)\r\n",
        "r.content\r\n",
        "data = r.json()\r\n",
        "df = pd.DataFrame(data)\r\n",
        "df"
      ],
      "execution_count": 7,
      "outputs": [
        {
          "output_type": "execute_result",
          "data": {
            "text/html": [
              "<div>\n",
              "<style scoped>\n",
              "    .dataframe tbody tr th:only-of-type {\n",
              "        vertical-align: middle;\n",
              "    }\n",
              "\n",
              "    .dataframe tbody tr th {\n",
              "        vertical-align: top;\n",
              "    }\n",
              "\n",
              "    .dataframe thead th {\n",
              "        text-align: right;\n",
              "    }\n",
              "</style>\n",
              "<table border=\"1\" class=\"dataframe\">\n",
              "  <thead>\n",
              "    <tr style=\"text-align: right;\">\n",
              "      <th></th>\n",
              "      <th>LIST_NM</th>\n",
              "      <th>VW_CD</th>\n",
              "      <th>VW_NM</th>\n",
              "      <th>LIST_ID</th>\n",
              "    </tr>\n",
              "  </thead>\n",
              "  <tbody>\n",
              "    <tr>\n",
              "      <th>0</th>\n",
              "      <td>경제활동인구총괄(공식 실업률, 구직기간 4주기준, 1999.6~현재)</td>\n",
              "      <td>MT_ZTITLE</td>\n",
              "      <td>국내통계 주제별</td>\n",
              "      <td>B11</td>\n",
              "    </tr>\n",
              "    <tr>\n",
              "      <th>1</th>\n",
              "      <td>계절조정 경제활동인구(1999.6~현재)</td>\n",
              "      <td>MT_ZTITLE</td>\n",
              "      <td>국내통계 주제별</td>\n",
              "      <td>B12</td>\n",
              "    </tr>\n",
              "    <tr>\n",
              "      <th>2</th>\n",
              "      <td>취업자(1963~현재)</td>\n",
              "      <td>MT_ZTITLE</td>\n",
              "      <td>국내통계 주제별</td>\n",
              "      <td>B17</td>\n",
              "    </tr>\n",
              "    <tr>\n",
              "      <th>3</th>\n",
              "      <td>실업자(구직기간 4주 기준, 1999.5월 이전자료는 경제활동인구총괄 1주기준 참조)</td>\n",
              "      <td>MT_ZTITLE</td>\n",
              "      <td>국내통계 주제별</td>\n",
              "      <td>B16</td>\n",
              "    </tr>\n",
              "    <tr>\n",
              "      <th>4</th>\n",
              "      <td>실업률(구직기간 4주 기준, 1999. 5월 이전자료는 경제활동인구총괄 1주기준 참조)</td>\n",
              "      <td>MT_ZTITLE</td>\n",
              "      <td>국내통계 주제별</td>\n",
              "      <td>B15</td>\n",
              "    </tr>\n",
              "    <tr>\n",
              "      <th>5</th>\n",
              "      <td>비경제활동인구(1999. 5월 이전자료는 경제활동인구총괄 1주기준 참조)</td>\n",
              "      <td>MT_ZTITLE</td>\n",
              "      <td>국내통계 주제별</td>\n",
              "      <td>B14</td>\n",
              "    </tr>\n",
              "    <tr>\n",
              "      <th>6</th>\n",
              "      <td>경제활동인구총괄(구직기간 1주기준, 1963~2014.12)</td>\n",
              "      <td>MT_ZTITLE</td>\n",
              "      <td>국내통계 주제별</td>\n",
              "      <td>B13</td>\n",
              "    </tr>\n",
              "    <tr>\n",
              "      <th>7</th>\n",
              "      <td>근로형태별 부가조사</td>\n",
              "      <td>MT_ZTITLE</td>\n",
              "      <td>국내통계 주제별</td>\n",
              "      <td>101_B1A</td>\n",
              "    </tr>\n",
              "    <tr>\n",
              "      <th>8</th>\n",
              "      <td>청년층 부가조사</td>\n",
              "      <td>MT_ZTITLE</td>\n",
              "      <td>국내통계 주제별</td>\n",
              "      <td>B1A_18</td>\n",
              "    </tr>\n",
              "    <tr>\n",
              "      <th>9</th>\n",
              "      <td>고령층 부가조사</td>\n",
              "      <td>MT_ZTITLE</td>\n",
              "      <td>국내통계 주제별</td>\n",
              "      <td>B1A_20</td>\n",
              "    </tr>\n",
              "    <tr>\n",
              "      <th>10</th>\n",
              "      <td>비임금근로 부가조사</td>\n",
              "      <td>MT_ZTITLE</td>\n",
              "      <td>국내통계 주제별</td>\n",
              "      <td>B1A_22</td>\n",
              "    </tr>\n",
              "    <tr>\n",
              "      <th>11</th>\n",
              "      <td>비임금근로 부가조사(농림어업제외)</td>\n",
              "      <td>MT_ZTITLE</td>\n",
              "      <td>국내통계 주제별</td>\n",
              "      <td>B1A_24</td>\n",
              "    </tr>\n",
              "    <tr>\n",
              "      <th>12</th>\n",
              "      <td>비경제활동인구 부가조사</td>\n",
              "      <td>MT_ZTITLE</td>\n",
              "      <td>국내통계 주제별</td>\n",
              "      <td>B1A_26</td>\n",
              "    </tr>\n",
              "    <tr>\n",
              "      <th>13</th>\n",
              "      <td>시계열 보정(2018.2.14 공표) 前 자료</td>\n",
              "      <td>MT_ZTITLE</td>\n",
              "      <td>국내통계 주제별</td>\n",
              "      <td>B1A_101</td>\n",
              "    </tr>\n",
              "  </tbody>\n",
              "</table>\n",
              "</div>"
            ],
            "text/plain": [
              "                                             LIST_NM  ...  LIST_ID\n",
              "0             경제활동인구총괄(공식 실업률, 구직기간 4주기준, 1999.6~현재)  ...      B11\n",
              "1                             계절조정 경제활동인구(1999.6~현재)  ...      B12\n",
              "2                                       취업자(1963~현재)  ...      B17\n",
              "3    실업자(구직기간 4주 기준, 1999.5월 이전자료는 경제활동인구총괄 1주기준 참조)  ...      B16\n",
              "4   실업률(구직기간 4주 기준, 1999. 5월 이전자료는 경제활동인구총괄 1주기준 참조)  ...      B15\n",
              "5           비경제활동인구(1999. 5월 이전자료는 경제활동인구총괄 1주기준 참조)  ...      B14\n",
              "6                  경제활동인구총괄(구직기간 1주기준, 1963~2014.12)  ...      B13\n",
              "7                                         근로형태별 부가조사  ...  101_B1A\n",
              "8                                           청년층 부가조사  ...   B1A_18\n",
              "9                                           고령층 부가조사  ...   B1A_20\n",
              "10                                        비임금근로 부가조사  ...   B1A_22\n",
              "11                                비임금근로 부가조사(농림어업제외)  ...   B1A_24\n",
              "12                                      비경제활동인구 부가조사  ...   B1A_26\n",
              "13                         시계열 보정(2018.2.14 공표) 前 자료  ...  B1A_101\n",
              "\n",
              "[14 rows x 4 columns]"
            ]
          },
          "metadata": {
            "tags": []
          },
          "execution_count": 7
        }
      ]
    },
    {
      "cell_type": "code",
      "metadata": {
        "id": "D5j3fpuxRwDB",
        "outputId": "ccecd033-511f-4b76-d5e1-9e06a6941b4e",
        "colab": {
          "base_uri": "https://localhost:8080/",
          "height": 34
        }
      },
      "source": [
        "df.to_excel('경제활동인구조사 통계목록.xlsx')\r\n",
        "files.download('경제활동인구조사 통계목록.xlsx')"
      ],
      "execution_count": 8,
      "outputs": [
        {
          "output_type": "display_data",
          "data": {
            "application/javascript": [
              "\n",
              "    async function download(id, filename, size) {\n",
              "      if (!google.colab.kernel.accessAllowed) {\n",
              "        return;\n",
              "      }\n",
              "      const div = document.createElement('div');\n",
              "      const label = document.createElement('label');\n",
              "      label.textContent = `Downloading \"${filename}\": `;\n",
              "      div.appendChild(label);\n",
              "      const progress = document.createElement('progress');\n",
              "      progress.max = size;\n",
              "      div.appendChild(progress);\n",
              "      document.body.appendChild(div);\n",
              "\n",
              "      const buffers = [];\n",
              "      let downloaded = 0;\n",
              "\n",
              "      const channel = await google.colab.kernel.comms.open(id);\n",
              "      // Send a message to notify the kernel that we're ready.\n",
              "      channel.send({})\n",
              "\n",
              "      for await (const message of channel.messages) {\n",
              "        // Send a message to notify the kernel that we're ready.\n",
              "        channel.send({})\n",
              "        if (message.buffers) {\n",
              "          for (const buffer of message.buffers) {\n",
              "            buffers.push(buffer);\n",
              "            downloaded += buffer.byteLength;\n",
              "            progress.value = downloaded;\n",
              "          }\n",
              "        }\n",
              "      }\n",
              "      const blob = new Blob(buffers, {type: 'application/binary'});\n",
              "      const a = document.createElement('a');\n",
              "      a.href = window.URL.createObjectURL(blob);\n",
              "      a.download = filename;\n",
              "      div.appendChild(a);\n",
              "      a.click();\n",
              "      div.remove();\n",
              "    }\n",
              "  "
            ],
            "text/plain": [
              "<IPython.core.display.Javascript object>"
            ]
          },
          "metadata": {
            "tags": []
          }
        },
        {
          "output_type": "display_data",
          "data": {
            "application/javascript": [
              "download(\"download_dab82858-40f9-479b-81d2-13c22f763e76\", \"\\uacbd\\uc81c\\ud65c\\ub3d9\\uc778\\uad6c\\uc870\\uc0ac \\ud1b5\\uacc4\\ubaa9\\ub85d.xlsx\", 5779)"
            ],
            "text/plain": [
              "<IPython.core.display.Javascript object>"
            ]
          },
          "metadata": {
            "tags": []
          }
        }
      ]
    },
    {
      "cell_type": "markdown",
      "metadata": {
        "id": "uz50ss10RCGN"
      },
      "source": [
        "- 가장 많이 사용되는 '경제활동인구총괄(공식 실업률, 구직기간 4주기준, 1999.6~현재)' 표의 세부 목록을 확인한다."
      ]
    },
    {
      "cell_type": "code",
      "metadata": {
        "id": "lnV3iSkARPeX"
      },
      "source": [
        "query = \"https://kosis.kr/openapi/statisticsList.do?method=getList&apiKey={}&vwCd={}&parentListId={}&format=json&jsonVD=Y\"\r\n",
        "vwCd = \"MT_ZTITLE\"\r\n",
        "parentListId = \"B11\"\r\n",
        "\r\n",
        "query = query.format(key, vwCd, parentListId)"
      ],
      "execution_count": 9,
      "outputs": []
    },
    {
      "cell_type": "code",
      "metadata": {
        "colab": {
          "base_uri": "https://localhost:8080/",
          "height": 390
        },
        "id": "--yB07BqRRzf",
        "outputId": "38c8b715-5b86-4d4b-8178-4d2bdb959207"
      },
      "source": [
        "r = requests.get(query)\r\n",
        "r.content\r\n",
        "data = r.json()\r\n",
        "df = pd.DataFrame(data)\r\n",
        "df"
      ],
      "execution_count": 10,
      "outputs": [
        {
          "output_type": "execute_result",
          "data": {
            "text/html": [
              "<div>\n",
              "<style scoped>\n",
              "    .dataframe tbody tr th:only-of-type {\n",
              "        vertical-align: middle;\n",
              "    }\n",
              "\n",
              "    .dataframe tbody tr th {\n",
              "        vertical-align: top;\n",
              "    }\n",
              "\n",
              "    .dataframe thead th {\n",
              "        text-align: right;\n",
              "    }\n",
              "</style>\n",
              "<table border=\"1\" class=\"dataframe\">\n",
              "  <thead>\n",
              "    <tr style=\"text-align: right;\">\n",
              "      <th></th>\n",
              "      <th>TBL_NM</th>\n",
              "      <th>TBL_ID</th>\n",
              "      <th>VW_CD</th>\n",
              "      <th>VW_NM</th>\n",
              "      <th>ORG_ID</th>\n",
              "    </tr>\n",
              "  </thead>\n",
              "  <tbody>\n",
              "    <tr>\n",
              "      <th>0</th>\n",
              "      <td>성별 경제활동인구 총괄</td>\n",
              "      <td>DT_1DA7001S</td>\n",
              "      <td>MT_ZTITLE</td>\n",
              "      <td>국내통계 주제별</td>\n",
              "      <td>101</td>\n",
              "    </tr>\n",
              "    <tr>\n",
              "      <th>1</th>\n",
              "      <td>연령별 경제활동인구 총괄</td>\n",
              "      <td>DT_1DA7002S</td>\n",
              "      <td>MT_ZTITLE</td>\n",
              "      <td>국내통계 주제별</td>\n",
              "      <td>101</td>\n",
              "    </tr>\n",
              "    <tr>\n",
              "      <th>2</th>\n",
              "      <td>교육정도별 경제활동인구</td>\n",
              "      <td>DT_1DA7003S</td>\n",
              "      <td>MT_ZTITLE</td>\n",
              "      <td>국내통계 주제별</td>\n",
              "      <td>101</td>\n",
              "    </tr>\n",
              "    <tr>\n",
              "      <th>3</th>\n",
              "      <td>행정구역(시도)별 경제활동인구</td>\n",
              "      <td>DT_1DA7004S</td>\n",
              "      <td>MT_ZTITLE</td>\n",
              "      <td>국내통계 주제별</td>\n",
              "      <td>101</td>\n",
              "    </tr>\n",
              "    <tr>\n",
              "      <th>4</th>\n",
              "      <td>성/연령별 경제활동인구</td>\n",
              "      <td>DT_1DA7012S</td>\n",
              "      <td>MT_ZTITLE</td>\n",
              "      <td>국내통계 주제별</td>\n",
              "      <td>101</td>\n",
              "    </tr>\n",
              "    <tr>\n",
              "      <th>5</th>\n",
              "      <td>성/교육정도별 경제활동인구</td>\n",
              "      <td>DT_1DA7013S</td>\n",
              "      <td>MT_ZTITLE</td>\n",
              "      <td>국내통계 주제별</td>\n",
              "      <td>101</td>\n",
              "    </tr>\n",
              "    <tr>\n",
              "      <th>6</th>\n",
              "      <td>행정구역(시도)/성별 경제활동인구</td>\n",
              "      <td>DT_1DA7014S</td>\n",
              "      <td>MT_ZTITLE</td>\n",
              "      <td>국내통계 주제별</td>\n",
              "      <td>101</td>\n",
              "    </tr>\n",
              "    <tr>\n",
              "      <th>7</th>\n",
              "      <td>행정구역(시도)/연령별 경제활동인구</td>\n",
              "      <td>DT_1DA7015S</td>\n",
              "      <td>MT_ZTITLE</td>\n",
              "      <td>국내통계 주제별</td>\n",
              "      <td>101</td>\n",
              "    </tr>\n",
              "    <tr>\n",
              "      <th>8</th>\n",
              "      <td>행정구역(시도)/교육정도별 경제활동인구</td>\n",
              "      <td>DT_1DA7016S</td>\n",
              "      <td>MT_ZTITLE</td>\n",
              "      <td>국내통계 주제별</td>\n",
              "      <td>101</td>\n",
              "    </tr>\n",
              "    <tr>\n",
              "      <th>9</th>\n",
              "      <td>고용보조지표(전체)</td>\n",
              "      <td>DT_1DA7300S</td>\n",
              "      <td>MT_ZTITLE</td>\n",
              "      <td>국내통계 주제별</td>\n",
              "      <td>101</td>\n",
              "    </tr>\n",
              "    <tr>\n",
              "      <th>10</th>\n",
              "      <td>고용보조지표(청년층, 15~29세)</td>\n",
              "      <td>DT_1DA7300AS</td>\n",
              "      <td>MT_ZTITLE</td>\n",
              "      <td>국내통계 주제별</td>\n",
              "      <td>101</td>\n",
              "    </tr>\n",
              "  </tbody>\n",
              "</table>\n",
              "</div>"
            ],
            "text/plain": [
              "                   TBL_NM        TBL_ID      VW_CD     VW_NM ORG_ID\n",
              "0            성별 경제활동인구 총괄   DT_1DA7001S  MT_ZTITLE  국내통계 주제별    101\n",
              "1           연령별 경제활동인구 총괄   DT_1DA7002S  MT_ZTITLE  국내통계 주제별    101\n",
              "2            교육정도별 경제활동인구   DT_1DA7003S  MT_ZTITLE  국내통계 주제별    101\n",
              "3        행정구역(시도)별 경제활동인구   DT_1DA7004S  MT_ZTITLE  국내통계 주제별    101\n",
              "4            성/연령별 경제활동인구   DT_1DA7012S  MT_ZTITLE  국내통계 주제별    101\n",
              "5          성/교육정도별 경제활동인구   DT_1DA7013S  MT_ZTITLE  국내통계 주제별    101\n",
              "6      행정구역(시도)/성별 경제활동인구   DT_1DA7014S  MT_ZTITLE  국내통계 주제별    101\n",
              "7     행정구역(시도)/연령별 경제활동인구   DT_1DA7015S  MT_ZTITLE  국내통계 주제별    101\n",
              "8   행정구역(시도)/교육정도별 경제활동인구   DT_1DA7016S  MT_ZTITLE  국내통계 주제별    101\n",
              "9              고용보조지표(전체)   DT_1DA7300S  MT_ZTITLE  국내통계 주제별    101\n",
              "10    고용보조지표(청년층, 15~29세)  DT_1DA7300AS  MT_ZTITLE  국내통계 주제별    101"
            ]
          },
          "metadata": {
            "tags": []
          },
          "execution_count": 10
        }
      ]
    },
    {
      "cell_type": "code",
      "metadata": {
        "id": "uA-d5bbER2Su",
        "outputId": "aee44f0a-201d-4e5c-b68d-f2defa0f8a0a",
        "colab": {
          "base_uri": "https://localhost:8080/",
          "height": 17
        }
      },
      "source": [
        "df.to_excel('경제활동인구조사-경제활동인구총괄 통계목록.xlsx')\r\n",
        "files.download('경제활동인구조사-경제활동인구총괄 통계목록.xlsx')"
      ],
      "execution_count": 11,
      "outputs": [
        {
          "output_type": "display_data",
          "data": {
            "application/javascript": [
              "\n",
              "    async function download(id, filename, size) {\n",
              "      if (!google.colab.kernel.accessAllowed) {\n",
              "        return;\n",
              "      }\n",
              "      const div = document.createElement('div');\n",
              "      const label = document.createElement('label');\n",
              "      label.textContent = `Downloading \"${filename}\": `;\n",
              "      div.appendChild(label);\n",
              "      const progress = document.createElement('progress');\n",
              "      progress.max = size;\n",
              "      div.appendChild(progress);\n",
              "      document.body.appendChild(div);\n",
              "\n",
              "      const buffers = [];\n",
              "      let downloaded = 0;\n",
              "\n",
              "      const channel = await google.colab.kernel.comms.open(id);\n",
              "      // Send a message to notify the kernel that we're ready.\n",
              "      channel.send({})\n",
              "\n",
              "      for await (const message of channel.messages) {\n",
              "        // Send a message to notify the kernel that we're ready.\n",
              "        channel.send({})\n",
              "        if (message.buffers) {\n",
              "          for (const buffer of message.buffers) {\n",
              "            buffers.push(buffer);\n",
              "            downloaded += buffer.byteLength;\n",
              "            progress.value = downloaded;\n",
              "          }\n",
              "        }\n",
              "      }\n",
              "      const blob = new Blob(buffers, {type: 'application/binary'});\n",
              "      const a = document.createElement('a');\n",
              "      a.href = window.URL.createObjectURL(blob);\n",
              "      a.download = filename;\n",
              "      div.appendChild(a);\n",
              "      a.click();\n",
              "      div.remove();\n",
              "    }\n",
              "  "
            ],
            "text/plain": [
              "<IPython.core.display.Javascript object>"
            ]
          },
          "metadata": {
            "tags": []
          }
        },
        {
          "output_type": "display_data",
          "data": {
            "application/javascript": [
              "download(\"download_e7ed82d5-424b-44ad-85ee-e901d789c3f0\", \"\\uacbd\\uc81c\\ud65c\\ub3d9\\uc778\\uad6c\\uc870\\uc0ac-\\uacbd\\uc81c\\ud65c\\ub3d9\\uc778\\uad6c\\ucd1d\\uad04 \\ud1b5\\uacc4\\ubaa9\\ub85d.xlsx\", 5570)"
            ],
            "text/plain": [
              "<IPython.core.display.Javascript object>"
            ]
          },
          "metadata": {
            "tags": []
          }
        }
      ]
    },
    {
      "cell_type": "markdown",
      "metadata": {
        "id": "IAHh_jEiSGaR"
      },
      "source": [
        "- '연령별 경제활동인구 총괄' 표의 통계자료를 조회하기 위해 필요한 테이블 ID(TBL_ID:DT_1DA7002S)와 기관 ID(ORG_ID:101)를 얻었다."
      ]
    },
    {
      "cell_type": "code",
      "metadata": {
        "id": "evsOUHlMSfKK"
      },
      "source": [
        "tbl_id = 'DT_1DA7002S'\r\n",
        "org_id = '101'"
      ],
      "execution_count": 12,
      "outputs": []
    },
    {
      "cell_type": "markdown",
      "metadata": {
        "id": "8CJyXI-LTFYC"
      },
      "source": [
        "## 3. 통계자료 조회\r\n",
        "\r\n",
        "### 3-1. 최신 시점 찾기\r\n",
        "- 현재 기준으로 가장 최신 통계가 언제의 통계인지 확인한다.\r\n",
        "- '횡단면 조회' 자료를 받아 최신 통계 시점을 확인한다.\r\n",
        "- 통계청 OPEN API 사이트에서 횡단면 조회 query 예제 복사"
      ]
    },
    {
      "cell_type": "code",
      "metadata": {
        "id": "iBRGfqSdg2pH"
      },
      "source": [
        "# 0:apiKey, 1:itmId, 2:objL1, 3:prdSe, 4:loadGubun, 5:ordId, 6:tblId\r\n",
        "query = \"https://kosis.kr/openapi/Param/statisticsParameterData.do?method=getList&apiKey={0}&itmId={1}+&objL1={2}+&objL2=&objL3=&objL4=&objL5=&objL6=&objL7=&objL8=&format=json&jsonVD=Y&prdSe={3}&newEstPrdCnt=1&loadGubun={4}&orgId={5}&tblId={6}\""
      ],
      "execution_count": 13,
      "outputs": []
    },
    {
      "cell_type": "markdown",
      "metadata": {
        "id": "8pOZ_2mXhNUT"
      },
      "source": [
        "- 통계청 OPEN API 사이트에서 항목, 분류 value 찾기"
      ]
    },
    {
      "cell_type": "code",
      "metadata": {
        "id": "ITpACUg3U7C_"
      },
      "source": [
        "# 항목\r\n",
        "itm_id = {\r\n",
        "    \"인구\":\"T10\",\r\n",
        "    \"경제활동인구\":\"T20\",\r\n",
        "    \"취업자\":\"T30\",\r\n",
        "    \"실업자\":\"T40\",\r\n",
        "    \"비경제활동인구\":\"T50\",\r\n",
        "    \"경제활동참가율\":\"T60\",\r\n",
        "    \"실업률\":\"T80\",\r\n",
        "    \"고용률\":\"T90\"\r\n",
        "}\r\n",
        "\r\n",
        "# 1단계 분류\r\n",
        "obj_lev1 = {\r\n",
        "     \"15세 이상 전체\": \"00\",\r\n",
        "     \"15 - 19세\": \"10\",\r\n",
        "     \"20 - 29세\": \"20\",\r\n",
        "     \"30 - 39세\": \"30\",\r\n",
        "     \"40 - 49세\": \"40\",\r\n",
        "     \"50 - 59세\": \"50\",\r\n",
        "     \"60세 이상\": \"60\",\r\n",
        "     \"15 - 64세\": \"63\",\r\n",
        "     \"15 - 24세\": \"70\",\r\n",
        "     \"15 - 29세\": \"75\"\r\n",
        "}\r\n",
        "\r\n",
        "# 2단계 분류\r\n",
        "obj_lev2 = {\r\n",
        "     \"15세 이상 전체\": \"00\",\r\n",
        "     \"15 - 19세\": \"10\",\r\n",
        "     \"20 - 29세\": \"20\",\r\n",
        "     \"20 - 24세\": \"201\",\r\n",
        "     \"25 - 29세\": \"202\",\r\n",
        "     \"30 - 39세\": \"30\",\r\n",
        "     \"30 - 34세\": \"301\",\r\n",
        "     \"35 - 39세\": \"302\",\r\n",
        "     \"40 - 49세\": \"40\",\r\n",
        "     \"40 - 44세\": \"401\",\r\n",
        "     \"45 - 49세\": \"402\",\r\n",
        "     \"50 - 59세\": \"50\",\r\n",
        "     \"50 - 54세\": \"501\",\r\n",
        "     \"55 - 59세\": \"502\",\r\n",
        "     \"60세 이상\": \"60\",\r\n",
        "     \"60 - 64세\": \"601\",\r\n",
        "     \"65세 이상\": \"602\",\r\n",
        "     \"15 - 64세\": \"63\",\r\n",
        "     \"15 - 24세\": \"70\",\r\n",
        "     \"15 - 29세\": \"75\"\r\n",
        "}"
      ],
      "execution_count": 14,
      "outputs": []
    },
    {
      "cell_type": "markdown",
      "metadata": {
        "id": "3vrUxmYIhcN3"
      },
      "source": [
        "- 그 밖에 필요한 변수는 직접 입력"
      ]
    },
    {
      "cell_type": "code",
      "metadata": {
        "colab": {
          "base_uri": "https://localhost:8080/",
          "height": 53
        },
        "id": "9KfwHf7hSFvr",
        "outputId": "191c0949-c60f-4e4b-8951-cfd4d4b995f1"
      },
      "source": [
        "prd_se = 'M'\r\n",
        "load_gubun = '2'\r\n",
        "\r\n",
        "query = query.format(key, itm_id['인구'], obj_lev1['15세 이상 전체'], prd_se, load_gubun, org_id, tbl_id)\r\n",
        "query"
      ],
      "execution_count": 15,
      "outputs": [
        {
          "output_type": "execute_result",
          "data": {
            "application/vnd.google.colaboratory.intrinsic+json": {
              "type": "string"
            },
            "text/plain": [
              "'https://kosis.kr/openapi/Param/statisticsParameterData.do?method=getList&apiKey=MDUwYjkzYmRhZjc4Yzk5M2QyZDg1NDBhNjNlOTNjZmQ=&itmId=T10+&objL1=00+&objL2=&objL3=&objL4=&objL5=&objL6=&objL7=&objL8=&format=json&jsonVD=Y&prdSe=M&newEstPrdCnt=1&loadGubun=2&orgId=101&tblId=DT_1DA7002S'"
            ]
          },
          "metadata": {
            "tags": []
          },
          "execution_count": 15
        }
      ]
    },
    {
      "cell_type": "markdown",
      "metadata": {
        "id": "E3Nr5CJHhzS9"
      },
      "source": [
        "- '횡단면 조회'의 PRD_DE 값이 가장 최근 시점(end_prd_de)이 된다."
      ]
    },
    {
      "cell_type": "code",
      "metadata": {
        "colab": {
          "base_uri": "https://localhost:8080/",
          "height": 80
        },
        "id": "_10UowxXhu9G",
        "outputId": "6af6b9b4-d94e-4df5-a931-97bb79efbb39"
      },
      "source": [
        "r = requests.get(query)\r\n",
        "r.content\r\n",
        "data = r.json()\r\n",
        "df = pd.DataFrame(data)\r\n",
        "df"
      ],
      "execution_count": 16,
      "outputs": [
        {
          "output_type": "execute_result",
          "data": {
            "text/html": [
              "<div>\n",
              "<style scoped>\n",
              "    .dataframe tbody tr th:only-of-type {\n",
              "        vertical-align: middle;\n",
              "    }\n",
              "\n",
              "    .dataframe tbody tr th {\n",
              "        vertical-align: top;\n",
              "    }\n",
              "\n",
              "    .dataframe thead th {\n",
              "        text-align: right;\n",
              "    }\n",
              "</style>\n",
              "<table border=\"1\" class=\"dataframe\">\n",
              "  <thead>\n",
              "    <tr style=\"text-align: right;\">\n",
              "      <th></th>\n",
              "      <th>TBL_NM</th>\n",
              "      <th>PRD_DE</th>\n",
              "      <th>TBL_ID</th>\n",
              "      <th>ITM_NM</th>\n",
              "      <th>ITM_NM_ENG</th>\n",
              "      <th>ITM_ID</th>\n",
              "      <th>UNIT_NM</th>\n",
              "      <th>ORG_ID</th>\n",
              "      <th>UNIT_NM_ENG</th>\n",
              "      <th>C1_OBJ_NM</th>\n",
              "      <th>C1_OBJ_NM_ENG</th>\n",
              "      <th>DT</th>\n",
              "      <th>PRD_SE</th>\n",
              "      <th>C1</th>\n",
              "      <th>C1_NM</th>\n",
              "      <th>C1_NM_ENG</th>\n",
              "    </tr>\n",
              "  </thead>\n",
              "  <tbody>\n",
              "    <tr>\n",
              "      <th>0</th>\n",
              "      <td>연령별 경제활동인구 총괄</td>\n",
              "      <td>202011</td>\n",
              "      <td>DT_1DA7002S</td>\n",
              "      <td>인구</td>\n",
              "      <td>Population 15 years old and over</td>\n",
              "      <td>T10</td>\n",
              "      <td>천명</td>\n",
              "      <td>101</td>\n",
              "      <td>Thousand Person</td>\n",
              "      <td>연령계층별</td>\n",
              "      <td>By age group</td>\n",
              "      <td>44883.5</td>\n",
              "      <td>M</td>\n",
              "      <td>00</td>\n",
              "      <td>15세 이상 전체</td>\n",
              "      <td>Total</td>\n",
              "    </tr>\n",
              "  </tbody>\n",
              "</table>\n",
              "</div>"
            ],
            "text/plain": [
              "          TBL_NM  PRD_DE       TBL_ID ITM_NM  ... PRD_SE  C1      C1_NM C1_NM_ENG\n",
              "0  연령별 경제활동인구 총괄  202011  DT_1DA7002S     인구  ...      M  00  15세 이상 전체     Total\n",
              "\n",
              "[1 rows x 16 columns]"
            ]
          },
          "metadata": {
            "tags": []
          },
          "execution_count": 16
        }
      ]
    },
    {
      "cell_type": "code",
      "metadata": {
        "colab": {
          "base_uri": "https://localhost:8080/",
          "height": 35
        },
        "id": "YcPqOEWJh_BY",
        "outputId": "4dca05ea-c23b-49ae-cf7c-7e914135b2b3"
      },
      "source": [
        "end_prd_de = df['PRD_DE'][0]\r\n",
        "end_prd_de"
      ],
      "execution_count": 17,
      "outputs": [
        {
          "output_type": "execute_result",
          "data": {
            "application/vnd.google.colaboratory.intrinsic+json": {
              "type": "string"
            },
            "text/plain": [
              "'202011'"
            ]
          },
          "metadata": {
            "tags": []
          },
          "execution_count": 17
        }
      ]
    },
    {
      "cell_type": "markdown",
      "metadata": {
        "id": "FN6LuxkbU1wC"
      },
      "source": [
        "- 가장 최근 시점을 구했으니 시계열 조회를 한다.\r\n",
        "- 통계청 OPEN API 사이트에서 시계열 조회 query 예제 복사"
      ]
    },
    {
      "cell_type": "code",
      "metadata": {
        "id": "Mcaj5WgCoNkg",
        "colab": {
          "base_uri": "https://localhost:8080/",
          "height": 53
        },
        "outputId": "64056fee-604f-4fe9-dc59-aa8a60bfdfba"
      },
      "source": [
        "# 0:apiKey, 1:itmId, 2:objL1, 3:objL2, 4:prdSe, 5:startPrdDe, 6:endPrdDe, 7:loadGubun, 8:orgId, 9:tblId\n",
        "query = \"https://kosis.kr/openapi/Param/statisticsParameterData.do?method=getList&apiKey={0}&itmId={1}+&objL1={2}+&objL2={3}&objL3=&objL4=&objL5=&objL6=&objL7=&objL8=&format=json&jsonVD=Y&prdSe={4}&startPrdDe={5}&endPrdDe={6}&loadGubun={7}&orgId={8}&tblId={9}\"\n",
        "\n",
        "start_prd_de = '199906'\n",
        "load_gubun = '1'\n",
        "org_id\n",
        "tbl_id\n",
        "\n",
        "query.format(key, itm_id['인구'], obj_lev1['15세 이상 전체'], '', prd_se, start_prd_de, end_prd_de, load_gubun, org_id, tbl_id )"
      ],
      "execution_count": 23,
      "outputs": [
        {
          "output_type": "execute_result",
          "data": {
            "application/vnd.google.colaboratory.intrinsic+json": {
              "type": "string"
            },
            "text/plain": [
              "'https://kosis.kr/openapi/Param/statisticsParameterData.do?method=getList&apiKey=MDUwYjkzYmRhZjc4Yzk5M2QyZDg1NDBhNjNlOTNjZmQ=&itmId=T10+&objL1=00+&objL2=&objL3=&objL4=&objL5=&objL6=&objL7=&objL8=&format=json&jsonVD=Y&prdSe=M&startPrdDe=199906&endPrdDe=202011&loadGubun=1&orgId=101&tblId=DT_1DA7002S'"
            ]
          },
          "metadata": {
            "tags": []
          },
          "execution_count": 23
        }
      ]
    },
    {
      "cell_type": "code",
      "metadata": {
        "id": "Ztm6V5PeMowH"
      },
      "source": [
        "df = pd.DataFrame()"
      ],
      "execution_count": 57,
      "outputs": []
    },
    {
      "cell_type": "code",
      "metadata": {
        "id": "qdwhQOCJNcUI",
        "outputId": "9310384c-6541-4fab-9239-a098b3dddcb1",
        "colab": {
          "base_uri": "https://localhost:8080/"
        }
      },
      "source": [
        "\r\n",
        "for item in itm_id.values():\r\n",
        "  print(item)"
      ],
      "execution_count": 39,
      "outputs": [
        {
          "output_type": "stream",
          "text": [
            "T10\n",
            "T20\n",
            "T30\n",
            "T40\n",
            "T50\n",
            "T60\n",
            "T80\n",
            "T90\n"
          ],
          "name": "stdout"
        }
      ]
    },
    {
      "cell_type": "code",
      "metadata": {
        "colab": {
          "base_uri": "https://localhost:8080/"
        },
        "id": "HEkzw4yeO1R8",
        "outputId": "d41e928d-3b82-4f07-e44a-f90c98fb01d9"
      },
      "source": [
        "for item in itm_id.values():\r\n",
        "  for obj in obj_lev2.values():\r\n",
        "    query_temp = query.format(key, item, obj, '', prd_se, start_prd_de, end_prd_de, load_gubun, org_id, tbl_id )        \r\n",
        "    r = requests.get(query_temp)\r\n",
        "\r\n",
        "    data = r.json()\r\n",
        "    df_temp = pd.DataFrame(data)\r\n",
        "    df = df.append(df_temp, ignore_index=True)\r\n",
        "    print(item, obj, df.shape)\r\n",
        "    time.sleep(random.uniform(2,10))"
      ],
      "execution_count": 58,
      "outputs": [
        {
          "output_type": "stream",
          "text": [
            "T10 00 (258, 16)\n",
            "T10 10 (516, 16)\n",
            "T10 20 (774, 16)\n",
            "T10 201 (1032, 16)\n",
            "T10 202 (1290, 16)\n",
            "T10 30 (1548, 16)\n",
            "T10 301 (1806, 16)\n",
            "T10 302 (2064, 16)\n",
            "T10 40 (2322, 16)\n",
            "T10 401 (2580, 16)\n",
            "T10 402 (2838, 16)\n",
            "T10 50 (3096, 16)\n",
            "T10 501 (3354, 16)\n",
            "T10 502 (3612, 16)\n",
            "T10 60 (3870, 16)\n",
            "T10 601 (4128, 16)\n",
            "T10 602 (4386, 16)\n",
            "T10 63 (4644, 16)\n",
            "T10 70 (4902, 16)\n",
            "T10 75 (5160, 16)\n",
            "T20 00 (5418, 16)\n",
            "T20 10 (5676, 16)\n",
            "T20 20 (5934, 16)\n",
            "T20 201 (6192, 16)\n",
            "T20 202 (6450, 16)\n",
            "T20 30 (6708, 16)\n",
            "T20 301 (6966, 16)\n",
            "T20 302 (7224, 16)\n",
            "T20 40 (7482, 16)\n",
            "T20 401 (7740, 16)\n",
            "T20 402 (7998, 16)\n",
            "T20 50 (8256, 16)\n",
            "T20 501 (8514, 16)\n",
            "T20 502 (8772, 16)\n",
            "T20 60 (9030, 16)\n",
            "T20 601 (9288, 16)\n",
            "T20 602 (9546, 16)\n",
            "T20 63 (9804, 16)\n",
            "T20 70 (10062, 16)\n",
            "T20 75 (10320, 16)\n",
            "T30 00 (10578, 16)\n",
            "T30 10 (10836, 16)\n",
            "T30 20 (11094, 16)\n",
            "T30 201 (11352, 16)\n",
            "T30 202 (11610, 16)\n",
            "T30 30 (11868, 16)\n",
            "T30 301 (12126, 16)\n",
            "T30 302 (12384, 16)\n",
            "T30 40 (12642, 16)\n",
            "T30 401 (12900, 16)\n",
            "T30 402 (13158, 16)\n",
            "T30 50 (13416, 16)\n",
            "T30 501 (13674, 16)\n",
            "T30 502 (13932, 16)\n",
            "T30 60 (14190, 16)\n",
            "T30 601 (14448, 16)\n",
            "T30 602 (14706, 16)\n",
            "T30 63 (14964, 16)\n",
            "T30 70 (15222, 16)\n",
            "T30 75 (15480, 16)\n",
            "T40 00 (15738, 16)\n",
            "T40 10 (15996, 16)\n",
            "T40 20 (16254, 16)\n",
            "T40 201 (16512, 16)\n",
            "T40 202 (16770, 16)\n",
            "T40 30 (17028, 16)\n",
            "T40 301 (17286, 16)\n",
            "T40 302 (17544, 16)\n",
            "T40 40 (17802, 16)\n",
            "T40 401 (18060, 16)\n",
            "T40 402 (18318, 16)\n",
            "T40 50 (18576, 16)\n",
            "T40 501 (18834, 16)\n",
            "T40 502 (19092, 16)\n",
            "T40 60 (19350, 16)\n",
            "T40 601 (19608, 16)\n",
            "T40 602 (19866, 16)\n",
            "T40 63 (20124, 16)\n",
            "T40 70 (20382, 16)\n",
            "T40 75 (20640, 16)\n",
            "T50 00 (20898, 16)\n",
            "T50 10 (21156, 16)\n",
            "T50 20 (21414, 16)\n",
            "T50 201 (21672, 16)\n",
            "T50 202 (21930, 16)\n",
            "T50 30 (22188, 16)\n",
            "T50 301 (22446, 16)\n",
            "T50 302 (22704, 16)\n",
            "T50 40 (22962, 16)\n",
            "T50 401 (23220, 16)\n",
            "T50 402 (23478, 16)\n",
            "T50 50 (23736, 16)\n",
            "T50 501 (23994, 16)\n",
            "T50 502 (24252, 16)\n",
            "T50 60 (24510, 16)\n",
            "T50 601 (24768, 16)\n",
            "T50 602 (25026, 16)\n",
            "T50 63 (25284, 16)\n",
            "T50 70 (25542, 16)\n",
            "T50 75 (25800, 16)\n",
            "T60 00 (26058, 16)\n",
            "T60 10 (26316, 16)\n",
            "T60 20 (26574, 16)\n",
            "T60 201 (26832, 16)\n",
            "T60 202 (27090, 16)\n",
            "T60 30 (27348, 16)\n",
            "T60 301 (27606, 16)\n",
            "T60 302 (27864, 16)\n",
            "T60 40 (28122, 16)\n",
            "T60 401 (28380, 16)\n",
            "T60 402 (28638, 16)\n",
            "T60 50 (28896, 16)\n",
            "T60 501 (29154, 16)\n",
            "T60 502 (29412, 16)\n",
            "T60 60 (29670, 16)\n",
            "T60 601 (29928, 16)\n",
            "T60 602 (30186, 16)\n",
            "T60 63 (30444, 16)\n",
            "T60 70 (30702, 16)\n",
            "T60 75 (30960, 16)\n",
            "T80 00 (31218, 16)\n",
            "T80 10 (31476, 16)\n",
            "T80 20 (31734, 16)\n",
            "T80 201 (31992, 16)\n",
            "T80 202 (32250, 16)\n",
            "T80 30 (32508, 16)\n",
            "T80 301 (32766, 16)\n",
            "T80 302 (33024, 16)\n",
            "T80 40 (33282, 16)\n",
            "T80 401 (33540, 16)\n",
            "T80 402 (33798, 16)\n",
            "T80 50 (34056, 16)\n",
            "T80 501 (34314, 16)\n",
            "T80 502 (34572, 16)\n",
            "T80 60 (34830, 16)\n",
            "T80 601 (35088, 16)\n",
            "T80 602 (35346, 16)\n",
            "T80 63 (35604, 16)\n",
            "T80 70 (35862, 16)\n",
            "T80 75 (36120, 16)\n",
            "T90 00 (36378, 16)\n",
            "T90 10 (36636, 16)\n",
            "T90 20 (36894, 16)\n",
            "T90 201 (37152, 16)\n",
            "T90 202 (37410, 16)\n",
            "T90 30 (37668, 16)\n",
            "T90 301 (37926, 16)\n",
            "T90 302 (38184, 16)\n",
            "T90 40 (38442, 16)\n",
            "T90 401 (38700, 16)\n",
            "T90 402 (38958, 16)\n",
            "T90 50 (39216, 16)\n",
            "T90 501 (39474, 16)\n",
            "T90 502 (39732, 16)\n",
            "T90 60 (39990, 16)\n",
            "T90 601 (40248, 16)\n",
            "T90 602 (40506, 16)\n",
            "T90 63 (40764, 16)\n",
            "T90 70 (41022, 16)\n",
            "T90 75 (41280, 16)\n"
          ],
          "name": "stdout"
        }
      ]
    },
    {
      "cell_type": "code",
      "metadata": {
        "id": "gVim717Sw6Sl",
        "outputId": "7d9a8843-fa92-4b95-d763-f49b5abaf8e8",
        "colab": {
          "base_uri": "https://localhost:8080/",
          "height": 17
        }
      },
      "source": [
        "df.to_csv('경제활동인구조사.csv')\r\n",
        "files.download('경제활동인구조사.csv')"
      ],
      "execution_count": 60,
      "outputs": [
        {
          "output_type": "display_data",
          "data": {
            "application/javascript": [
              "\n",
              "    async function download(id, filename, size) {\n",
              "      if (!google.colab.kernel.accessAllowed) {\n",
              "        return;\n",
              "      }\n",
              "      const div = document.createElement('div');\n",
              "      const label = document.createElement('label');\n",
              "      label.textContent = `Downloading \"${filename}\": `;\n",
              "      div.appendChild(label);\n",
              "      const progress = document.createElement('progress');\n",
              "      progress.max = size;\n",
              "      div.appendChild(progress);\n",
              "      document.body.appendChild(div);\n",
              "\n",
              "      const buffers = [];\n",
              "      let downloaded = 0;\n",
              "\n",
              "      const channel = await google.colab.kernel.comms.open(id);\n",
              "      // Send a message to notify the kernel that we're ready.\n",
              "      channel.send({})\n",
              "\n",
              "      for await (const message of channel.messages) {\n",
              "        // Send a message to notify the kernel that we're ready.\n",
              "        channel.send({})\n",
              "        if (message.buffers) {\n",
              "          for (const buffer of message.buffers) {\n",
              "            buffers.push(buffer);\n",
              "            downloaded += buffer.byteLength;\n",
              "            progress.value = downloaded;\n",
              "          }\n",
              "        }\n",
              "      }\n",
              "      const blob = new Blob(buffers, {type: 'application/binary'});\n",
              "      const a = document.createElement('a');\n",
              "      a.href = window.URL.createObjectURL(blob);\n",
              "      a.download = filename;\n",
              "      div.appendChild(a);\n",
              "      a.click();\n",
              "      div.remove();\n",
              "    }\n",
              "  "
            ],
            "text/plain": [
              "<IPython.core.display.Javascript object>"
            ]
          },
          "metadata": {
            "tags": []
          }
        },
        {
          "output_type": "display_data",
          "data": {
            "application/javascript": [
              "download(\"download_76a9d5c4-378a-46f1-a2a7-b73648a439b0\", \"\\uacbd\\uc81c\\ud65c\\ub3d9\\uc778\\uad6c\\uc870\\uc0ac.csv\", 7962973)"
            ],
            "text/plain": [
              "<IPython.core.display.Javascript object>"
            ]
          },
          "metadata": {
            "tags": []
          }
        }
      ]
    },
    {
      "cell_type": "code",
      "metadata": {
        "id": "_fAhlhq6w8HE",
        "outputId": "005ffa83-58a9-41e5-bd11-e16a9b738fbb",
        "colab": {
          "base_uri": "https://localhost:8080/",
          "height": 419
        }
      },
      "source": [
        "df_temp = pd.DataFrame(r.json())\r\n",
        "df = df.append(df_temp, ignore_index=True)\r\n",
        "df\r\n"
      ],
      "execution_count": 55,
      "outputs": [
        {
          "output_type": "execute_result",
          "data": {
            "text/html": [
              "<div>\n",
              "<style scoped>\n",
              "    .dataframe tbody tr th:only-of-type {\n",
              "        vertical-align: middle;\n",
              "    }\n",
              "\n",
              "    .dataframe tbody tr th {\n",
              "        vertical-align: top;\n",
              "    }\n",
              "\n",
              "    .dataframe thead th {\n",
              "        text-align: right;\n",
              "    }\n",
              "</style>\n",
              "<table border=\"1\" class=\"dataframe\">\n",
              "  <thead>\n",
              "    <tr style=\"text-align: right;\">\n",
              "      <th></th>\n",
              "      <th>TBL_NM</th>\n",
              "      <th>PRD_DE</th>\n",
              "      <th>TBL_ID</th>\n",
              "      <th>ITM_NM</th>\n",
              "      <th>ITM_NM_ENG</th>\n",
              "      <th>ITM_ID</th>\n",
              "      <th>UNIT_NM</th>\n",
              "      <th>ORG_ID</th>\n",
              "      <th>UNIT_NM_ENG</th>\n",
              "      <th>C1_OBJ_NM</th>\n",
              "      <th>C1_OBJ_NM_ENG</th>\n",
              "      <th>DT</th>\n",
              "      <th>PRD_SE</th>\n",
              "      <th>C1</th>\n",
              "      <th>C1_NM</th>\n",
              "      <th>C1_NM_ENG</th>\n",
              "    </tr>\n",
              "  </thead>\n",
              "  <tbody>\n",
              "    <tr>\n",
              "      <th>0</th>\n",
              "      <td>연령별 경제활동인구 총괄</td>\n",
              "      <td>199906</td>\n",
              "      <td>DT_1DA7002S</td>\n",
              "      <td>인구</td>\n",
              "      <td>Population 15 years old and over</td>\n",
              "      <td>T10</td>\n",
              "      <td>천명</td>\n",
              "      <td>101</td>\n",
              "      <td>Thousand Person</td>\n",
              "      <td>연령계층별</td>\n",
              "      <td>By age group</td>\n",
              "      <td>35737</td>\n",
              "      <td>M</td>\n",
              "      <td>00</td>\n",
              "      <td>15세 이상 전체</td>\n",
              "      <td>Total</td>\n",
              "    </tr>\n",
              "    <tr>\n",
              "      <th>1</th>\n",
              "      <td>연령별 경제활동인구 총괄</td>\n",
              "      <td>199907</td>\n",
              "      <td>DT_1DA7002S</td>\n",
              "      <td>인구</td>\n",
              "      <td>Population 15 years old and over</td>\n",
              "      <td>T10</td>\n",
              "      <td>천명</td>\n",
              "      <td>101</td>\n",
              "      <td>Thousand Person</td>\n",
              "      <td>연령계층별</td>\n",
              "      <td>By age group</td>\n",
              "      <td>35779</td>\n",
              "      <td>M</td>\n",
              "      <td>00</td>\n",
              "      <td>15세 이상 전체</td>\n",
              "      <td>Total</td>\n",
              "    </tr>\n",
              "    <tr>\n",
              "      <th>2</th>\n",
              "      <td>연령별 경제활동인구 총괄</td>\n",
              "      <td>199908</td>\n",
              "      <td>DT_1DA7002S</td>\n",
              "      <td>인구</td>\n",
              "      <td>Population 15 years old and over</td>\n",
              "      <td>T10</td>\n",
              "      <td>천명</td>\n",
              "      <td>101</td>\n",
              "      <td>Thousand Person</td>\n",
              "      <td>연령계층별</td>\n",
              "      <td>By age group</td>\n",
              "      <td>35815</td>\n",
              "      <td>M</td>\n",
              "      <td>00</td>\n",
              "      <td>15세 이상 전체</td>\n",
              "      <td>Total</td>\n",
              "    </tr>\n",
              "    <tr>\n",
              "      <th>3</th>\n",
              "      <td>연령별 경제활동인구 총괄</td>\n",
              "      <td>199909</td>\n",
              "      <td>DT_1DA7002S</td>\n",
              "      <td>인구</td>\n",
              "      <td>Population 15 years old and over</td>\n",
              "      <td>T10</td>\n",
              "      <td>천명</td>\n",
              "      <td>101</td>\n",
              "      <td>Thousand Person</td>\n",
              "      <td>연령계층별</td>\n",
              "      <td>By age group</td>\n",
              "      <td>35849</td>\n",
              "      <td>M</td>\n",
              "      <td>00</td>\n",
              "      <td>15세 이상 전체</td>\n",
              "      <td>Total</td>\n",
              "    </tr>\n",
              "    <tr>\n",
              "      <th>4</th>\n",
              "      <td>연령별 경제활동인구 총괄</td>\n",
              "      <td>199910</td>\n",
              "      <td>DT_1DA7002S</td>\n",
              "      <td>인구</td>\n",
              "      <td>Population 15 years old and over</td>\n",
              "      <td>T10</td>\n",
              "      <td>천명</td>\n",
              "      <td>101</td>\n",
              "      <td>Thousand Person</td>\n",
              "      <td>연령계층별</td>\n",
              "      <td>By age group</td>\n",
              "      <td>35885</td>\n",
              "      <td>M</td>\n",
              "      <td>00</td>\n",
              "      <td>15세 이상 전체</td>\n",
              "      <td>Total</td>\n",
              "    </tr>\n",
              "    <tr>\n",
              "      <th>...</th>\n",
              "      <td>...</td>\n",
              "      <td>...</td>\n",
              "      <td>...</td>\n",
              "      <td>...</td>\n",
              "      <td>...</td>\n",
              "      <td>...</td>\n",
              "      <td>...</td>\n",
              "      <td>...</td>\n",
              "      <td>...</td>\n",
              "      <td>...</td>\n",
              "      <td>...</td>\n",
              "      <td>...</td>\n",
              "      <td>...</td>\n",
              "      <td>...</td>\n",
              "      <td>...</td>\n",
              "      <td>...</td>\n",
              "    </tr>\n",
              "    <tr>\n",
              "      <th>511</th>\n",
              "      <td>연령별 경제활동인구 총괄</td>\n",
              "      <td>202007</td>\n",
              "      <td>DT_1DA7002S</td>\n",
              "      <td>인구</td>\n",
              "      <td>Population 15 years old and over</td>\n",
              "      <td>T10</td>\n",
              "      <td>천명</td>\n",
              "      <td>101</td>\n",
              "      <td>Thousand Person</td>\n",
              "      <td>연령계층별</td>\n",
              "      <td>By age group</td>\n",
              "      <td>44795.1</td>\n",
              "      <td>M</td>\n",
              "      <td>00</td>\n",
              "      <td>15세 이상 전체</td>\n",
              "      <td>Total</td>\n",
              "    </tr>\n",
              "    <tr>\n",
              "      <th>512</th>\n",
              "      <td>연령별 경제활동인구 총괄</td>\n",
              "      <td>202008</td>\n",
              "      <td>DT_1DA7002S</td>\n",
              "      <td>인구</td>\n",
              "      <td>Population 15 years old and over</td>\n",
              "      <td>T10</td>\n",
              "      <td>천명</td>\n",
              "      <td>101</td>\n",
              "      <td>Thousand Person</td>\n",
              "      <td>연령계층별</td>\n",
              "      <td>By age group</td>\n",
              "      <td>44812.6</td>\n",
              "      <td>M</td>\n",
              "      <td>00</td>\n",
              "      <td>15세 이상 전체</td>\n",
              "      <td>Total</td>\n",
              "    </tr>\n",
              "    <tr>\n",
              "      <th>513</th>\n",
              "      <td>연령별 경제활동인구 총괄</td>\n",
              "      <td>202009</td>\n",
              "      <td>DT_1DA7002S</td>\n",
              "      <td>인구</td>\n",
              "      <td>Population 15 years old and over</td>\n",
              "      <td>T10</td>\n",
              "      <td>천명</td>\n",
              "      <td>101</td>\n",
              "      <td>Thousand Person</td>\n",
              "      <td>연령계층별</td>\n",
              "      <td>By age group</td>\n",
              "      <td>44829</td>\n",
              "      <td>M</td>\n",
              "      <td>00</td>\n",
              "      <td>15세 이상 전체</td>\n",
              "      <td>Total</td>\n",
              "    </tr>\n",
              "    <tr>\n",
              "      <th>514</th>\n",
              "      <td>연령별 경제활동인구 총괄</td>\n",
              "      <td>202010</td>\n",
              "      <td>DT_1DA7002S</td>\n",
              "      <td>인구</td>\n",
              "      <td>Population 15 years old and over</td>\n",
              "      <td>T10</td>\n",
              "      <td>천명</td>\n",
              "      <td>101</td>\n",
              "      <td>Thousand Person</td>\n",
              "      <td>연령계층별</td>\n",
              "      <td>By age group</td>\n",
              "      <td>44852.3</td>\n",
              "      <td>M</td>\n",
              "      <td>00</td>\n",
              "      <td>15세 이상 전체</td>\n",
              "      <td>Total</td>\n",
              "    </tr>\n",
              "    <tr>\n",
              "      <th>515</th>\n",
              "      <td>연령별 경제활동인구 총괄</td>\n",
              "      <td>202011</td>\n",
              "      <td>DT_1DA7002S</td>\n",
              "      <td>인구</td>\n",
              "      <td>Population 15 years old and over</td>\n",
              "      <td>T10</td>\n",
              "      <td>천명</td>\n",
              "      <td>101</td>\n",
              "      <td>Thousand Person</td>\n",
              "      <td>연령계층별</td>\n",
              "      <td>By age group</td>\n",
              "      <td>44883.5</td>\n",
              "      <td>M</td>\n",
              "      <td>00</td>\n",
              "      <td>15세 이상 전체</td>\n",
              "      <td>Total</td>\n",
              "    </tr>\n",
              "  </tbody>\n",
              "</table>\n",
              "<p>516 rows × 16 columns</p>\n",
              "</div>"
            ],
            "text/plain": [
              "            TBL_NM  PRD_DE       TBL_ID ITM_NM  ... PRD_SE  C1      C1_NM C1_NM_ENG\n",
              "0    연령별 경제활동인구 총괄  199906  DT_1DA7002S     인구  ...      M  00  15세 이상 전체     Total\n",
              "1    연령별 경제활동인구 총괄  199907  DT_1DA7002S     인구  ...      M  00  15세 이상 전체     Total\n",
              "2    연령별 경제활동인구 총괄  199908  DT_1DA7002S     인구  ...      M  00  15세 이상 전체     Total\n",
              "3    연령별 경제활동인구 총괄  199909  DT_1DA7002S     인구  ...      M  00  15세 이상 전체     Total\n",
              "4    연령별 경제활동인구 총괄  199910  DT_1DA7002S     인구  ...      M  00  15세 이상 전체     Total\n",
              "..             ...     ...          ...    ...  ...    ...  ..        ...       ...\n",
              "511  연령별 경제활동인구 총괄  202007  DT_1DA7002S     인구  ...      M  00  15세 이상 전체     Total\n",
              "512  연령별 경제활동인구 총괄  202008  DT_1DA7002S     인구  ...      M  00  15세 이상 전체     Total\n",
              "513  연령별 경제활동인구 총괄  202009  DT_1DA7002S     인구  ...      M  00  15세 이상 전체     Total\n",
              "514  연령별 경제활동인구 총괄  202010  DT_1DA7002S     인구  ...      M  00  15세 이상 전체     Total\n",
              "515  연령별 경제활동인구 총괄  202011  DT_1DA7002S     인구  ...      M  00  15세 이상 전체     Total\n",
              "\n",
              "[516 rows x 16 columns]"
            ]
          },
          "metadata": {
            "tags": []
          },
          "execution_count": 55
        }
      ]
    },
    {
      "cell_type": "code",
      "metadata": {
        "colab": {
          "base_uri": "https://localhost:8080/"
        },
        "id": "Iq6NybYctUC3",
        "outputId": "a181fd9a-bbed-4d2c-f0f6-986f313ee196"
      },
      "source": [
        "df.shape\n"
      ],
      "execution_count": 43,
      "outputs": [
        {
          "output_type": "execute_result",
          "data": {
            "text/plain": [
              "(0, 0)"
            ]
          },
          "metadata": {
            "tags": []
          },
          "execution_count": 43
        }
      ]
    },
    {
      "cell_type": "code",
      "metadata": {
        "id": "uwd6K1DSxeVi"
      },
      "source": [
        "r = requests.get(url2)\n",
        "data = r.json()\n",
        "r.elapsed.total_seconds()"
      ],
      "execution_count": null,
      "outputs": []
    },
    {
      "cell_type": "code",
      "metadata": {
        "id": "NV4aps1BwlfO"
      },
      "source": [
        "df = pd.DataFrame(data)\n",
        "df[['PRD_DE', 'DT']]\n",
        "\n",
        "\n",
        "# 노동 - 통계목록\n",
        "https://kosis.kr/openapi/statisticsList.do?method=getList&apiKey={}&vwCd=MT_ZTITLE&parentListId=D&format=json&jsonVD=Y\n",
        "\n",
        "# 경제활동인구조사 - 연령별 경제활동인구 총괄 - 199906~202011 - 15세 이상 - 인구\n",
        "https://kosis.kr/openapi/statisticsData.do?method=getList&apiKey=MDUwYjkzYmRhZjc4Yzk5M2QyZDg1NDBhNjNlOTNjZmQ=&format=json&jsonVD=Y&userStatsId=barkle/101/DT_1DA7002S/2/1/20201228141349_1&prdSe=M&startPrdDe=199906&endPrdDe=202011\n",
        "# 경제활동인구조사 - 연령별 경제활동인구 총괄 - 199906~202011 - 15세 이상 - 경제활동인구\n",
        "https://kosis.kr/openapi/statisticsData.do?method=getList&apiKey=MDUwYjkzYmRhZjc4Yzk5M2QyZDg1NDBhNjNlOTNjZmQ=&format=json&jsonVD=Y&userStatsId=barkle/101/DT_1DA7002S/2/1/20201228141656_1&prdSe=M&startPrdDe=199906&endPrdDe=202011\n",
        "# 경제활동인구조사 - 연령별 경제활동인구 총괄 - 199906~202011 - 15세 이상 - 취업자\n",
        "https://kosis.kr/openapi/statisticsData.do?method=getList&apiKey=MDUwYjkzYmRhZjc4Yzk5M2QyZDg1NDBhNjNlOTNjZmQ=&format=json&jsonVD=Y&userStatsId=barkle/101/DT_1DA7002S/2/1/20201228142444_1&prdSe=M&startPrdDe=199906&endPrdDe=202011\n",
        "\n",
        "\n",
        "url1 = \"\"\n",
        "url2 = \"https://kosis.kr/openapi/Param/statisticsParameterData.do?method=getList&apiKey={}&itmId={}+&objL1=00+&objL2=&objL3=&objL4=&objL5=&objL6=&objL7=&objL8=&format=json&jsonVD=Y&prdSe=M&startPrdDe=199906&endPrdDe=202011&loadGubun=1&orgId=101&tblId=DT_1DA7002S\"\n",
        "https://kosis.kr/openapi/statisticsData.do?method=getList&apiKey=MDUwYjkzYmRhZjc4Yzk5M2QyZDg1NDBhNjNlOTNjZmQ=&format=json&jsonVD=Y&userStatsId=barkle/101/DT_1DA7002S/2/1/20201228115448_1&prdSe=M&startPrdDe=199906&endPrdDe=202011"
      ],
      "execution_count": null,
      "outputs": []
    },
    {
      "cell_type": "code",
      "metadata": {
        "id": "3lI7-tHFwp0z"
      },
      "source": [
        "df['PRD_DE', 'DT']"
      ],
      "execution_count": null,
      "outputs": []
    },
    {
      "cell_type": "code",
      "metadata": {
        "id": "v8vLZ602QqD1"
      },
      "source": [
        "columns = [{'name':i, 'id':i} for i in df.columns]\n",
        "columns"
      ],
      "execution_count": null,
      "outputs": []
    },
    {
      "cell_type": "code",
      "metadata": {
        "id": "ggFuh1hqSCuU"
      },
      "source": [
        "https://kosis.kr/openapi/Param/statisticsParameterData.do?method=getList&apiKey=MDUwYjkzYmRhZjc4Yzk5M2QyZDg1NDBhNjNlOTNjZmQ=&itmId=T10+&objL1=00+&objL2=&objL3=&objL4=&objL5=&objL6=&objL7=&objL8=&format=json&jsonVD=Y&prdSe=M&startPrdDe=199906&endPrdDe=202011&loadGubun=1&orgId=101&tblId=DT_1DA7002S\n",
        "https://kosis.kr/openapi/Param/statisticsParameterData.do?method=getList&apiKey=MDUwYjkzYmRhZjc4Yzk5M2QyZDg1NDBhNjNlOTNjZmQ=&itmId=T20+&objL1=00+&objL2=&objL3=&objL4=&objL5=&objL6=&objL7=&objL8=&format=json&jsonVD=Y&prdSe=M&startPrdDe=199906&endPrdDe=202011&loadGubun=1&orgId=101&tblId=DT_1DA7002S\n",
        "https://kosis.kr/openapi/Param/statisticsParameterData.do?method=getList&apiKey=MDUwYjkzYmRhZjc4Yzk5M2QyZDg1NDBhNjNlOTNjZmQ=&itmId=T30+&objL1=00+&objL2=&objL3=&objL4=&objL5=&objL6=&objL7=&objL8=&format=json&jsonVD=Y&prdSe=M&startPrdDe=199906&endPrdDe=202011&loadGubun=1&orgId=101&tblId=DT_1DA7002S\n",
        "https://kosis.kr/openapi/Param/statisticsParameterData.do?method=getList&apiKey=MDUwYjkzYmRhZjc4Yzk5M2QyZDg1NDBhNjNlOTNjZmQ=&itmId=T40+&objL1=00+&objL2=&objL3=&objL4=&objL5=&objL6=&objL7=&objL8=&format=json&jsonVD=Y&prdSe=M&startPrdDe=199906&endPrdDe=202011&loadGubun=1&orgId=101&tblId=DT_1DA7002S\n",
        "https://kosis.kr/openapi/Param/statisticsParameterData.do?method=getList&apiKey=MDUwYjkzYmRhZjc4Yzk5M2QyZDg1NDBhNjNlOTNjZmQ=&itmId=T50+&objL1=00+&objL2=&objL3=&objL4=&objL5=&objL6=&objL7=&objL8=&format=json&jsonVD=Y&prdSe=M&startPrdDe=199906&endPrdDe=202011&loadGubun=1&orgId=101&tblId=DT_1DA7002S\n",
        "https://kosis.kr/openapi/Param/statisticsParameterData.do?method=getList&apiKey=MDUwYjkzYmRhZjc4Yzk5M2QyZDg1NDBhNjNlOTNjZmQ=&itmId=T60+&objL1=00+&objL2=&objL3=&objL4=&objL5=&objL6=&objL7=&objL8=&format=json&jsonVD=Y&prdSe=M&startPrdDe=199906&endPrdDe=202011&loadGubun=1&orgId=101&tblId=DT_1DA7002S\n",
        "https://kosis.kr/openapi/Param/statisticsParameterData.do?method=getList&apiKey=MDUwYjkzYmRhZjc4Yzk5M2QyZDg1NDBhNjNlOTNjZmQ=&itmId=T80+&objL1=00+&objL2=&objL3=&objL4=&objL5=&objL6=&objL7=&objL8=&format=json&jsonVD=Y&prdSe=M&startPrdDe=199906&endPrdDe=202011&loadGubun=1&orgId=101&tblId=DT_1DA7002S\n",
        "https://kosis.kr/openapi/Param/statisticsParameterData.do?method=getList&apiKey=MDUwYjkzYmRhZjc4Yzk5M2QyZDg1NDBhNjNlOTNjZmQ=&itmId=T90+&objL1=00+&objL2=&objL3=&objL4=&objL5=&objL6=&objL7=&objL8=&format=json&jsonVD=Y&prdSe=M&startPrdDe=199906&endPrdDe=202011&loadGubun=1&orgId=101&tblId=DT_1DA7002S\n",
        "\n",
        "https://kosis.kr/openapi/Param/statisticsParameterData.do?method=getList&apiKey=MDUwYjkzYmRhZjc4Yzk5M2QyZDg1NDBhNjNlOTNjZmQ=&itmId=T10+&objL1=10+&objL2=&objL3=&objL4=&objL5=&objL6=&objL7=&objL8=&format=json&jsonVD=Y&prdSe=M&startPrdDe=199906&endPrdDe=202011&loadGubun=1&orgId=101&tblId=DT_1DA7002S\n",
        "https://kosis.kr/openapi/statisticsData.do?method=getList&apiKey=MDUwYjkzYmRhZjc4Yzk5M2QyZDg1NDBhNjNlOTNjZmQ=&format=json&jsonVD=Y&userStatsId=barkle/101/DT_1DA7002S/2/1/20201228113855_1&prdSe=M&startPrdDe=199906&endPrdDe=202011\n"
      ],
      "execution_count": null,
      "outputs": []
    }
  ]
}