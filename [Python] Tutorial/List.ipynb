{
  "nbformat": 4,
  "nbformat_minor": 0,
  "metadata": {
    "colab": {
      "name": "List_Tutorial.ipynb",
      "provenance": [],
      "authorship_tag": "ABX9TyPEED7/HEa09L5UMP6/6Iy1",
      "include_colab_link": true
    },
    "kernelspec": {
      "name": "python3",
      "display_name": "Python 3"
    }
  },
  "cells": [
    {
      "cell_type": "markdown",
      "metadata": {
        "id": "view-in-github",
        "colab_type": "text"
      },
      "source": [
        "<a href=\"https://colab.research.google.com/github/barkle2/Programming/blob/master/%5BPython%5D%20Tutorial/List.ipynb\" target=\"_parent\"><img src=\"https://colab.research.google.com/assets/colab-badge.svg\" alt=\"Open In Colab\"/></a>"
      ]
    },
    {
      "cell_type": "markdown",
      "metadata": {
        "id": "60qLJlvmFGx7"
      },
      "source": [
        "# Python List"
      ]
    },
    {
      "cell_type": "markdown",
      "metadata": {
        "id": "VqOKYLkYHLv5"
      },
      "source": [
        "## 리스트 선언 및 초기화"
      ]
    },
    {
      "cell_type": "code",
      "metadata": {
        "colab": {
          "base_uri": "https://localhost:8080/"
        },
        "id": "9NK20UmpEaHt",
        "outputId": "2834f3e0-5b27-433e-ab15-27e5955678fc"
      },
      "source": [
        "# 리스트 선언 방법 1\r\n",
        "empty_list1 = []\r\n",
        "print(empty_list1)\r\n",
        "# 리스트 선언 방법 2\r\n",
        "empty_list2 = list()\r\n",
        "print(empty_list2)"
      ],
      "execution_count": null,
      "outputs": [
        {
          "output_type": "stream",
          "text": [
            "[]\n",
            "[]\n"
          ],
          "name": "stdout"
        }
      ]
    },
    {
      "cell_type": "code",
      "metadata": {
        "id": "eK4k3XOyGUzV"
      },
      "source": [
        "# 리스트 선언 + 초기화\r\n",
        "num_list = [3,1,2,5,4]"
      ],
      "execution_count": null,
      "outputs": []
    },
    {
      "cell_type": "code",
      "metadata": {
        "colab": {
          "base_uri": "https://localhost:8080/"
        },
        "id": "o19vcoihG0ZQ",
        "outputId": "d19927ec-e722-400f-cd1f-f20d48d23ced"
      },
      "source": [
        "# 리스트 출력 방법 1\r\n",
        "num_list"
      ],
      "execution_count": null,
      "outputs": [
        {
          "output_type": "execute_result",
          "data": {
            "text/plain": [
              "[3, 1, 2, 5, 4]"
            ]
          },
          "metadata": {
            "tags": []
          },
          "execution_count": 3
        }
      ]
    },
    {
      "cell_type": "code",
      "metadata": {
        "colab": {
          "base_uri": "https://localhost:8080/"
        },
        "id": "lmVcGeXSG32W",
        "outputId": "2baeeb5c-625e-4d01-bc73-da8235ab2b30"
      },
      "source": [
        "# 리스트 출력 방법 2\r\n",
        "print(num_list)"
      ],
      "execution_count": null,
      "outputs": [
        {
          "output_type": "stream",
          "text": [
            "[3, 1, 2, 5, 4]\n"
          ],
          "name": "stdout"
        }
      ]
    },
    {
      "cell_type": "markdown",
      "metadata": {
        "id": "XA_jov3wHb4D"
      },
      "source": [
        "## 리스트 정렬 및 연산"
      ]
    },
    {
      "cell_type": "code",
      "metadata": {
        "colab": {
          "base_uri": "https://localhost:8080/"
        },
        "id": "C35gy0NnHlCR",
        "outputId": "40b1b740-75de-4a79-9e0a-be180af87b0a"
      },
      "source": [
        "# sorted 함수를 사용하면 정렬된 리스트를 반환한다.\r\n",
        "sorted(num_list)"
      ],
      "execution_count": null,
      "outputs": [
        {
          "output_type": "execute_result",
          "data": {
            "text/plain": [
              "[1, 2, 3, 4, 5]"
            ]
          },
          "metadata": {
            "tags": []
          },
          "execution_count": 5
        }
      ]
    },
    {
      "cell_type": "code",
      "metadata": {
        "colab": {
          "base_uri": "https://localhost:8080/"
        },
        "id": "bNOMir1jH5o9",
        "outputId": "53119fa3-3da1-4669-e82f-52a4061a3802"
      },
      "source": [
        "# num_list는 그대로이다.\r\n",
        "num_list"
      ],
      "execution_count": null,
      "outputs": [
        {
          "output_type": "execute_result",
          "data": {
            "text/plain": [
              "[3, 1, 2, 5, 4]"
            ]
          },
          "metadata": {
            "tags": []
          },
          "execution_count": 6
        }
      ]
    },
    {
      "cell_type": "code",
      "metadata": {
        "colab": {
          "base_uri": "https://localhost:8080/"
        },
        "id": "jnigiltUH9fb",
        "outputId": "b66e5836-eaf7-4f20-f2cb-47c9de5b5e66"
      },
      "source": [
        "# sort 함수를 사용하면 num_list의 값이 정렬된 값으로 변한다.\r\n",
        "num_list.sort()\r\n",
        "num_list"
      ],
      "execution_count": null,
      "outputs": [
        {
          "output_type": "execute_result",
          "data": {
            "text/plain": [
              "[1, 2, 3, 4, 5]"
            ]
          },
          "metadata": {
            "tags": []
          },
          "execution_count": 7
        }
      ]
    },
    {
      "cell_type": "code",
      "metadata": {
        "colab": {
          "base_uri": "https://localhost:8080/"
        },
        "id": "7fYo4l3-IIRP",
        "outputId": "321034d8-5f29-4071-ba93-d750ed4ca476"
      },
      "source": [
        "# 최대값 찾기\r\n",
        "max(num_list)"
      ],
      "execution_count": null,
      "outputs": [
        {
          "output_type": "execute_result",
          "data": {
            "text/plain": [
              "5"
            ]
          },
          "metadata": {
            "tags": []
          },
          "execution_count": 8
        }
      ]
    },
    {
      "cell_type": "code",
      "metadata": {
        "colab": {
          "base_uri": "https://localhost:8080/"
        },
        "id": "AoFysPjTINaO",
        "outputId": "860a7595-0190-4ef1-d31e-d7a3dba1516c"
      },
      "source": [
        "# 최소값 찾기\r\n",
        "min(num_list)"
      ],
      "execution_count": null,
      "outputs": [
        {
          "output_type": "execute_result",
          "data": {
            "text/plain": [
              "1"
            ]
          },
          "metadata": {
            "tags": []
          },
          "execution_count": 9
        }
      ]
    },
    {
      "cell_type": "code",
      "metadata": {
        "colab": {
          "base_uri": "https://localhost:8080/"
        },
        "id": "OZADhVchIRlH",
        "outputId": "16d3d202-97a4-4ca9-e9fe-2dae96c2a3c2"
      },
      "source": [
        "# 합계 구하기\r\n",
        "sum(num_list)"
      ],
      "execution_count": null,
      "outputs": [
        {
          "output_type": "execute_result",
          "data": {
            "text/plain": [
              "15"
            ]
          },
          "metadata": {
            "tags": []
          },
          "execution_count": 10
        }
      ]
    },
    {
      "cell_type": "code",
      "metadata": {
        "colab": {
          "base_uri": "https://localhost:8080/"
        },
        "id": "IDuQUhldIU_K",
        "outputId": "d4f66be8-5f40-476e-f89b-b58c05e2be85"
      },
      "source": [
        "# 원소 갯수 구하기\r\n",
        "len(num_list)"
      ],
      "execution_count": null,
      "outputs": [
        {
          "output_type": "execute_result",
          "data": {
            "text/plain": [
              "5"
            ]
          },
          "metadata": {
            "tags": []
          },
          "execution_count": 11
        }
      ]
    },
    {
      "cell_type": "markdown",
      "metadata": {
        "id": "IBV4a7qdKbd7"
      },
      "source": [
        "## 리스트 선택(슬라이싱)"
      ]
    },
    {
      "cell_type": "code",
      "metadata": {
        "colab": {
          "base_uri": "https://localhost:8080/"
        },
        "id": "NeKxpxt7KePT",
        "outputId": "261eada0-56a7-4077-a78d-f2290267859e"
      },
      "source": [
        "# 1번째 원소 선택\r\n",
        "num_list[0]"
      ],
      "execution_count": null,
      "outputs": [
        {
          "output_type": "execute_result",
          "data": {
            "text/plain": [
              "1"
            ]
          },
          "metadata": {
            "tags": []
          },
          "execution_count": 12
        }
      ]
    },
    {
      "cell_type": "code",
      "metadata": {
        "colab": {
          "base_uri": "https://localhost:8080/"
        },
        "id": "F2oDZVFcKgLu",
        "outputId": "353bc5c1-d01b-40d0-f401-dac53d05cf47"
      },
      "source": [
        "# 5번째 원소 선택\r\n",
        "num_list[4]"
      ],
      "execution_count": null,
      "outputs": [
        {
          "output_type": "execute_result",
          "data": {
            "text/plain": [
              "5"
            ]
          },
          "metadata": {
            "tags": []
          },
          "execution_count": 13
        }
      ]
    },
    {
      "cell_type": "code",
      "metadata": {
        "colab": {
          "base_uri": "https://localhost:8080/"
        },
        "id": "GqZ6ZoTjKh9_",
        "outputId": "0d405ec9-2059-4af0-92ff-faeab7f47b93"
      },
      "source": [
        "# 뒤에서 1번째 원소 선택\r\n",
        "num_list[-1]"
      ],
      "execution_count": null,
      "outputs": [
        {
          "output_type": "execute_result",
          "data": {
            "text/plain": [
              "5"
            ]
          },
          "metadata": {
            "tags": []
          },
          "execution_count": 14
        }
      ]
    },
    {
      "cell_type": "code",
      "metadata": {
        "colab": {
          "base_uri": "https://localhost:8080/"
        },
        "id": "zrl1OQKlKkc9",
        "outputId": "0f2e8200-606a-47d3-875d-a602210701d7"
      },
      "source": [
        "# [0:3] -> 0, 1, 2 번째 원소 선택\r\n",
        "num_list[0:3]"
      ],
      "execution_count": null,
      "outputs": [
        {
          "output_type": "execute_result",
          "data": {
            "text/plain": [
              "[1, 2, 3]"
            ]
          },
          "metadata": {
            "tags": []
          },
          "execution_count": 15
        }
      ]
    },
    {
      "cell_type": "code",
      "metadata": {
        "colab": {
          "base_uri": "https://localhost:8080/"
        },
        "id": "AfyXHvIoKodI",
        "outputId": "d0dcadf6-82a8-4323-b595-eebee94a2f13"
      },
      "source": [
        "# 시작 인덱스가 0이면 생략 가능\r\n",
        "num_list[:3]"
      ],
      "execution_count": null,
      "outputs": [
        {
          "output_type": "execute_result",
          "data": {
            "text/plain": [
              "[1, 2, 3]"
            ]
          },
          "metadata": {
            "tags": []
          },
          "execution_count": 16
        }
      ]
    },
    {
      "cell_type": "code",
      "metadata": {
        "colab": {
          "base_uri": "https://localhost:8080/"
        },
        "id": "td4WDxHIKqwd",
        "outputId": "f1be6d35-9a0a-4c4c-f3e2-bd3cdf753a31"
      },
      "source": [
        "# 마지막 3개 원소 선택\r\n",
        "num_list[-3:]"
      ],
      "execution_count": null,
      "outputs": [
        {
          "output_type": "execute_result",
          "data": {
            "text/plain": [
              "[3, 4, 5]"
            ]
          },
          "metadata": {
            "tags": []
          },
          "execution_count": 17
        }
      ]
    },
    {
      "cell_type": "markdown",
      "metadata": {
        "id": "S_MHXcXELHMS"
      },
      "source": [
        "## List와 iterator\r\n",
        "- iterator는 '반복 가능한 객체'를 의미합니다.\r\n",
        "- iterator인 객체는 반복문을 활용해서 데이터를 순차적으로 처리할 수 있습니다."
      ]
    },
    {
      "cell_type": "code",
      "metadata": {
        "colab": {
          "base_uri": "https://localhost:8080/"
        },
        "id": "-ckxFRCjLpUW",
        "outputId": "59f7557a-8435-48db-e717-d3b8645feb51"
      },
      "source": [
        "# iterator인지 알아보기\r\n",
        "iter(num_list)"
      ],
      "execution_count": null,
      "outputs": [
        {
          "output_type": "execute_result",
          "data": {
            "text/plain": [
              "<list_iterator at 0x7f585cfc90f0>"
            ]
          },
          "metadata": {
            "tags": []
          },
          "execution_count": 18
        }
      ]
    },
    {
      "cell_type": "code",
      "metadata": {
        "colab": {
          "base_uri": "https://localhost:8080/"
        },
        "id": "iBENU4sdLKmc",
        "outputId": "927ae704-0e0c-4d38-839d-e53b589dc2a3"
      },
      "source": [
        "# String도 iterator 입니다.\r\n",
        "iter('abcde')"
      ],
      "execution_count": null,
      "outputs": [
        {
          "output_type": "execute_result",
          "data": {
            "text/plain": [
              "<str_iterator at 0x7f585cfc9588>"
            ]
          },
          "metadata": {
            "tags": []
          },
          "execution_count": 19
        }
      ]
    },
    {
      "cell_type": "code",
      "metadata": {
        "colab": {
          "base_uri": "https://localhost:8080/"
        },
        "id": "6UJxnj0aL5be",
        "outputId": "614b59aa-04a5-4cf4-da7e-bc8553d83ae3"
      },
      "source": [
        "# 반복문으로 List 객체 처리\r\n",
        "for i in num_list:\r\n",
        "  print(i)"
      ],
      "execution_count": null,
      "outputs": [
        {
          "output_type": "stream",
          "text": [
            "1\n",
            "2\n",
            "3\n",
            "4\n",
            "5\n"
          ],
          "name": "stdout"
        }
      ]
    },
    {
      "cell_type": "code",
      "metadata": {
        "colab": {
          "base_uri": "https://localhost:8080/"
        },
        "id": "tVuAoyyaL84_",
        "outputId": "4b2e62c0-9dc5-4762-b149-ba0bcb430577"
      },
      "source": [
        "# String도 for문으로 처리할 수 있습니다.\r\n",
        "for s in 'abcde':\r\n",
        "  print(s)"
      ],
      "execution_count": null,
      "outputs": [
        {
          "output_type": "stream",
          "text": [
            "a\n",
            "b\n",
            "c\n",
            "d\n",
            "e\n"
          ],
          "name": "stdout"
        }
      ]
    },
    {
      "cell_type": "markdown",
      "metadata": {
        "id": "aWUUtAp6MTS-"
      },
      "source": [
        "## List 연산"
      ]
    },
    {
      "cell_type": "code",
      "metadata": {
        "colab": {
          "base_uri": "https://localhost:8080/"
        },
        "id": "6JhsWXPRMU9_",
        "outputId": "100e4657-c37b-4791-e600-8310af643683"
      },
      "source": [
        "# 리스트 합치기\r\n",
        "list_1 = [1,2,3]\r\n",
        "list_2 = [4,5,6]\r\n",
        "new_list = list_1 + list_2\r\n",
        "new_list"
      ],
      "execution_count": null,
      "outputs": [
        {
          "output_type": "execute_result",
          "data": {
            "text/plain": [
              "[1, 2, 3, 4, 5, 6]"
            ]
          },
          "metadata": {
            "tags": []
          },
          "execution_count": 22
        }
      ]
    },
    {
      "cell_type": "code",
      "metadata": {
        "colab": {
          "base_uri": "https://localhost:8080/"
        },
        "id": "aZ9v9uyoMmxU",
        "outputId": "8acfb654-73f0-4f13-d8ec-c45352b108c3"
      },
      "source": [
        "# 리스트 반복\r\n",
        "new_list * 3"
      ],
      "execution_count": null,
      "outputs": [
        {
          "output_type": "execute_result",
          "data": {
            "text/plain": [
              "[1, 2, 3, 4, 5, 6, 1, 2, 3, 4, 5, 6, 1, 2, 3, 4, 5, 6]"
            ]
          },
          "metadata": {
            "tags": []
          },
          "execution_count": 23
        }
      ]
    },
    {
      "cell_type": "markdown",
      "metadata": {
        "id": "qJCHe2SVAxAQ"
      },
      "source": [
        "## List Class 함수"
      ]
    },
    {
      "cell_type": "code",
      "metadata": {
        "id": "GjJlNRPSA03g",
        "colab": {
          "base_uri": "https://localhost:8080/"
        },
        "outputId": "6be17d5c-dc92-4369-c670-ce95df9ab1f5"
      },
      "source": [
        "# 리스트에 원소 추가\n",
        "num_list = [1,2,3,4,5]\n",
        "num_list.append(6)\n",
        "num_list"
      ],
      "execution_count": null,
      "outputs": [
        {
          "output_type": "execute_result",
          "data": {
            "text/plain": [
              "[1, 2, 3, 4, 5, 6]"
            ]
          },
          "metadata": {
            "tags": []
          },
          "execution_count": 24
        }
      ]
    },
    {
      "cell_type": "code",
      "metadata": {
        "id": "Wi_r4DWfAxw4",
        "colab": {
          "base_uri": "https://localhost:8080/"
        },
        "outputId": "98473033-51ec-4f5f-9afe-8afd6a042631"
      },
      "source": [
        "# 리스트 합치기\n",
        "num_list.extend([7,8])\n",
        "num_list"
      ],
      "execution_count": null,
      "outputs": [
        {
          "output_type": "execute_result",
          "data": {
            "text/plain": [
              "[1, 2, 3, 4, 5, 6, 7, 8]"
            ]
          },
          "metadata": {
            "tags": []
          },
          "execution_count": 25
        }
      ]
    },
    {
      "cell_type": "code",
      "metadata": {
        "id": "nUOxNhmGBv4m",
        "colab": {
          "base_uri": "https://localhost:8080/"
        },
        "outputId": "221383b1-974c-489b-d4d6-57f0262ab1bd"
      },
      "source": [
        "# 원하는 위치에 원소 추가\n",
        "num_list = [1,2,4,5]\n",
        "num_list.insert(2, 3)\n",
        "num_list"
      ],
      "execution_count": null,
      "outputs": [
        {
          "output_type": "execute_result",
          "data": {
            "text/plain": [
              "[1, 2, 3, 4, 5]"
            ]
          },
          "metadata": {
            "tags": []
          },
          "execution_count": 26
        }
      ]
    },
    {
      "cell_type": "code",
      "metadata": {
        "id": "xI0B-n14CCRf",
        "colab": {
          "base_uri": "https://localhost:8080/"
        },
        "outputId": "73157a24-059b-4a63-fc1c-01640beadb06"
      },
      "source": [
        "# 값으로 원소 삭제하기\n",
        "num_list = [1000, 100, 10, 1, 1, 10, 10, 100, 1000]\n",
        "num_list.remove(1)\n",
        "num_list"
      ],
      "execution_count": null,
      "outputs": [
        {
          "output_type": "execute_result",
          "data": {
            "text/plain": [
              "[1000, 100, 10, 1, 10, 10, 100, 1000]"
            ]
          },
          "metadata": {
            "tags": []
          },
          "execution_count": 27
        }
      ]
    },
    {
      "cell_type": "code",
      "metadata": {
        "id": "HK0F9n4XCV8O",
        "colab": {
          "base_uri": "https://localhost:8080/"
        },
        "outputId": "30894826-e84a-47b1-edcd-034d63360ddc"
      },
      "source": [
        "# remove 함수는 같은 값이 여러개 있을 경우 가장 앞에 있는 하나만 삭제한다.\n",
        "num_list.remove(10)\n",
        "num_list"
      ],
      "execution_count": null,
      "outputs": [
        {
          "output_type": "execute_result",
          "data": {
            "text/plain": [
              "[1000, 100, 1, 10, 10, 100, 1000]"
            ]
          },
          "metadata": {
            "tags": []
          },
          "execution_count": 28
        }
      ]
    },
    {
      "cell_type": "code",
      "metadata": {
        "id": "xTlWyxSaI-mf",
        "colab": {
          "base_uri": "https://localhost:8080/"
        },
        "outputId": "f0daf045-cbb6-46ad-a42f-58d69d4756a5"
      },
      "source": [
        "# pop 함수를 사용하면 index로 원소를 삭제할 수 있다. 삭제된 원소는 return 된다.\n",
        "num_list = [1,2,3]\n",
        "num_list.pop(0)"
      ],
      "execution_count": null,
      "outputs": [
        {
          "output_type": "execute_result",
          "data": {
            "text/plain": [
              "1"
            ]
          },
          "metadata": {
            "tags": []
          },
          "execution_count": 29
        }
      ]
    },
    {
      "cell_type": "code",
      "metadata": {
        "id": "HHxXXLvGJMSo",
        "colab": {
          "base_uri": "https://localhost:8080/"
        },
        "outputId": "eb286d00-aa48-4051-c454-c0fcd5cea977"
      },
      "source": [
        "# pop 함수의 입력값을 생략하면 가장 마지막 원소가 삭제된다.\n",
        "num_list = [1,2,3]\n",
        "num_list.pop()"
      ],
      "execution_count": null,
      "outputs": [
        {
          "output_type": "execute_result",
          "data": {
            "text/plain": [
              "3"
            ]
          },
          "metadata": {
            "tags": []
          },
          "execution_count": 30
        }
      ]
    },
    {
      "cell_type": "code",
      "metadata": {
        "id": "DRnHIJ_iJT4a",
        "colab": {
          "base_uri": "https://localhost:8080/"
        },
        "outputId": "7573539b-9b3b-494c-a08c-21679d0eb378"
      },
      "source": [
        "# 원소 값의 index 찾기\n",
        "num_list = [3,4,5,6,7]\n",
        "num_list.index(3)"
      ],
      "execution_count": null,
      "outputs": [
        {
          "output_type": "execute_result",
          "data": {
            "text/plain": [
              "0"
            ]
          },
          "metadata": {
            "tags": []
          },
          "execution_count": 31
        }
      ]
    },
    {
      "cell_type": "code",
      "metadata": {
        "id": "Fl0GHqc_Jkce",
        "colab": {
          "base_uri": "https://localhost:8080/"
        },
        "outputId": "8ab751cc-9a8f-41ee-fc2d-3fc1dd4fc6eb"
      },
      "source": [
        "# 리스트 안에 원소가 몇개 있는지 세기\n",
        "num_list = [3,3,3,3,4,4,5,5,5,5]\n",
        "num_list.count(3)"
      ],
      "execution_count": null,
      "outputs": [
        {
          "output_type": "execute_result",
          "data": {
            "text/plain": [
              "4"
            ]
          },
          "metadata": {
            "tags": []
          },
          "execution_count": 32
        }
      ]
    },
    {
      "cell_type": "code",
      "metadata": {
        "id": "zE3aYUufJ86n",
        "colab": {
          "base_uri": "https://localhost:8080/"
        },
        "outputId": "4cd74b34-02ee-40bd-dfe2-1d1807382635"
      },
      "source": [
        "# 리스트 순서 뒤집기\n",
        "num_list = [1,2,3,4,5]\n",
        "num_list.reverse()\n",
        "num_list"
      ],
      "execution_count": null,
      "outputs": [
        {
          "output_type": "execute_result",
          "data": {
            "text/plain": [
              "[5, 4, 3, 2, 1]"
            ]
          },
          "metadata": {
            "tags": []
          },
          "execution_count": 33
        }
      ]
    },
    {
      "cell_type": "markdown",
      "metadata": {
        "id": "5s3S91A_KgZd"
      },
      "source": [
        "## 리스트는 모든 Object를 저장할 수 있다."
      ]
    },
    {
      "cell_type": "code",
      "metadata": {
        "id": "PCETFg9VKm6t",
        "colab": {
          "base_uri": "https://localhost:8080/"
        },
        "outputId": "96607fa8-9304-4357-f82d-a9b41b6937a9"
      },
      "source": [
        "# 다양한 타입의 원소 입력하기\n",
        "str = 'string'\n",
        "int_num = 1\n",
        "float_num = 3.141592\n",
        "my_list = [1,2,3]\n",
        "my_dict ={'name':'barkle', 'age':42}\n",
        "def my_func():\n",
        "  print('Hello World')\n",
        "\n",
        "mixed_list = [str, int_num, float_num, my_list, my_dict, my_func]\n",
        "mixed_list"
      ],
      "execution_count": null,
      "outputs": [
        {
          "output_type": "execute_result",
          "data": {
            "text/plain": [
              "['string',\n",
              " 1,\n",
              " 3.141592,\n",
              " [1, 2, 3],\n",
              " {'age': 42, 'name': 'barkle'},\n",
              " <function __main__.my_func>]"
            ]
          },
          "metadata": {
            "tags": []
          },
          "execution_count": 34
        }
      ]
    },
    {
      "cell_type": "code",
      "metadata": {
        "id": "XucY8fS2LD9O",
        "colab": {
          "base_uri": "https://localhost:8080/"
        },
        "outputId": "a4fe3aef-81ce-4d89-aa3f-168a84079333"
      },
      "source": [
        "# 입력된 함수 원소 실행하기\n",
        "mixed_list[5]()"
      ],
      "execution_count": null,
      "outputs": [
        {
          "output_type": "stream",
          "text": [
            "Hello World\n"
          ],
          "name": "stdout"
        }
      ]
    },
    {
      "cell_type": "markdown",
      "metadata": {
        "id": "xVQIMuLfPTla"
      },
      "source": [
        "## 2차원 List : List Comprehension"
      ]
    },
    {
      "cell_type": "code",
      "metadata": {
        "id": "O7G5sqC-RrtD",
        "colab": {
          "base_uri": "https://localhost:8080/"
        },
        "outputId": "21c5f0d3-ccf1-40d9-fb94-028a2ff1dfc1"
      },
      "source": [
        "# 5*5 2차원 리스트 만들기\n",
        "dim2_list = [ [1,2,3,4,5],\n",
        "              [6,7,8,9,10],\n",
        "              [11,12,13,14,15],\n",
        "              [16,17,18,19,20],\n",
        "              [21,22,23,24,25]]\n",
        "dim2_list"
      ],
      "execution_count": null,
      "outputs": [
        {
          "output_type": "execute_result",
          "data": {
            "text/plain": [
              "[[1, 2, 3, 4, 5],\n",
              " [6, 7, 8, 9, 10],\n",
              " [11, 12, 13, 14, 15],\n",
              " [16, 17, 18, 19, 20],\n",
              " [21, 22, 23, 24, 25]]"
            ]
          },
          "metadata": {
            "tags": []
          },
          "execution_count": 36
        }
      ]
    },
    {
      "cell_type": "code",
      "metadata": {
        "id": "hVXy-gimSDZ4",
        "colab": {
          "base_uri": "https://localhost:8080/"
        },
        "outputId": "4a000125-1378-440d-a6de-4ff1d62824b5"
      },
      "source": [
        "# 2차원 리스트의 원소 선택하기: 첫번째 [] -> 행, 두번째 [] -> 열\n",
        "dim2_list[2]\n",
        "dim2_list[2][0]"
      ],
      "execution_count": null,
      "outputs": [
        {
          "output_type": "execute_result",
          "data": {
            "text/plain": [
              "11"
            ]
          },
          "metadata": {
            "tags": []
          },
          "execution_count": 37
        }
      ]
    },
    {
      "cell_type": "code",
      "metadata": {
        "id": "paWVo7v7PVuN",
        "colab": {
          "base_uri": "https://localhost:8080/"
        },
        "outputId": "c0202363-7949-4656-a32d-92199cb8d556"
      },
      "source": [
        "# 비어있는 2차원 리스트 만들기\n",
        "dim2_list = [[]]\n",
        "dim2_list"
      ],
      "execution_count": null,
      "outputs": [
        {
          "output_type": "execute_result",
          "data": {
            "text/plain": [
              "[[]]"
            ]
          },
          "metadata": {
            "tags": []
          },
          "execution_count": 38
        }
      ]
    },
    {
      "cell_type": "markdown",
      "metadata": {
        "id": "6T2IEv8gS-sN"
      },
      "source": [
        "그러나 이렇게 만든 2차원 리스트는 크기가 1X1이라 별로 쓸모가 없다.\n",
        "쓸모있는 2차원 리스트를 만들려면 크기를 정해주어야 한다."
      ]
    },
    {
      "cell_type": "code",
      "metadata": {
        "id": "5QwNPcR7TLiy",
        "colab": {
          "base_uri": "https://localhost:8080/"
        },
        "outputId": "146a3dcc-f3d5-429e-95a2-92a091797d81"
      },
      "source": [
        "# 비어있는 [3,5] 크기의 2차원 리스트 만들기\n",
        "dim2_list = [[None for i in range(5)] for j in range(3)]\n",
        "dim2_list"
      ],
      "execution_count": null,
      "outputs": [
        {
          "output_type": "execute_result",
          "data": {
            "text/plain": [
              "[[None, None, None, None, None],\n",
              " [None, None, None, None, None],\n",
              " [None, None, None, None, None]]"
            ]
          },
          "metadata": {
            "tags": []
          },
          "execution_count": 39
        }
      ]
    },
    {
      "cell_type": "code",
      "metadata": {
        "id": "QFYy7aTBTTtI",
        "colab": {
          "base_uri": "https://localhost:8080/"
        },
        "outputId": "ee393aea-bb16-4c69-b61c-93b7a767f286"
      },
      "source": [
        "# 0으로 초기화된 [3,5] 크기의 2차원 리스트 만들기\n",
        "dim2_list = [[0 for i in range(5)] for _ in range(3)]\n",
        "dim2_list"
      ],
      "execution_count": null,
      "outputs": [
        {
          "output_type": "execute_result",
          "data": {
            "text/plain": [
              "[[0, 0, 0, 0, 0], [0, 0, 0, 0, 0], [0, 0, 0, 0, 0]]"
            ]
          },
          "metadata": {
            "tags": []
          },
          "execution_count": 40
        }
      ]
    },
    {
      "cell_type": "code",
      "metadata": {
        "id": "Zg0N-kwWSnJQ",
        "colab": {
          "base_uri": "https://localhost:8080/"
        },
        "outputId": "9307eaa1-098d-46cf-b172-c66f9554e361"
      },
      "source": [
        "# List Comprehension을 사용하지 않는다면 아래와 같은 코드를 작성해야 합니다.\n",
        "rows = 3\n",
        "cols = 5\n",
        "\n",
        "dim2_list = []\n",
        "for i in range(rows):\n",
        "  row = []\n",
        "  for j in range(cols):\n",
        "    row.append(0)\n",
        "  dim2_list.append(row)\n",
        "\n",
        "dim2_list"
      ],
      "execution_count": null,
      "outputs": [
        {
          "output_type": "execute_result",
          "data": {
            "text/plain": [
              "[[0, 0, 0, 0, 0], [0, 0, 0, 0, 0], [0, 0, 0, 0, 0]]"
            ]
          },
          "metadata": {
            "tags": []
          },
          "execution_count": 41
        }
      ]
    },
    {
      "cell_type": "code",
      "metadata": {
        "id": "VRNZAlH7YCOd",
        "colab": {
          "base_uri": "https://localhost:8080/"
        },
        "outputId": "557592a6-17a0-4425-a327-0b589f6a875d"
      },
      "source": [
        "# 얕은 복사는 서로의 값을 참조합니다.\n",
        "dim2_list = [[0 for i in range(5)] for _ in range(3)]\n",
        "dim2_copyed_list = dim2_list.copy()\n",
        "dim2_copyed_list[1][2] = 3\n",
        "print(dim2_list)\n",
        "print(dim2_copyed_list)"
      ],
      "execution_count": null,
      "outputs": [
        {
          "output_type": "stream",
          "text": [
            "[[0, 0, 0, 0, 0], [0, 0, 3, 0, 0], [0, 0, 0, 0, 0]]\n",
            "[[0, 0, 0, 0, 0], [0, 0, 3, 0, 0], [0, 0, 0, 0, 0]]\n"
          ],
          "name": "stdout"
        }
      ]
    },
    {
      "cell_type": "code",
      "metadata": {
        "id": "R5HNz-2YdqCb",
        "colab": {
          "base_uri": "https://localhost:8080/"
        },
        "outputId": "feffdb16-ca29-4cea-c7c1-8cc1449b6dbb"
      },
      "source": [
        "# 완전히 다른 List를 만들려면 깊은 복사를 해야 합니다.\n",
        "import copy\n",
        "dim2_list = [[0 for i in range(5)] for _ in range(3)]\n",
        "dim2_copyed_list = copy.deepcopy(dim2_list)\n",
        "dim2_copyed_list[1][2] = 3\n",
        "print(dim2_list)\n",
        "print(dim2_copyed_list)"
      ],
      "execution_count": null,
      "outputs": [
        {
          "output_type": "stream",
          "text": [
            "[[0, 0, 0, 0, 0], [0, 0, 0, 0, 0], [0, 0, 0, 0, 0]]\n",
            "[[0, 0, 0, 0, 0], [0, 0, 3, 0, 0], [0, 0, 0, 0, 0]]\n"
          ],
          "name": "stdout"
        }
      ]
    }
  ]
}