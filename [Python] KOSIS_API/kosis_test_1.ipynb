{
  "nbformat": 4,
  "nbformat_minor": 0,
  "metadata": {
    "colab": {
      "name": "kosis_test_1.ipynb",
      "provenance": [],
      "collapsed_sections": [],
      "authorship_tag": "ABX9TyNKqrpG067/FKLsJZMc+sc5",
      "include_colab_link": true
    },
    "kernelspec": {
      "name": "python3",
      "display_name": "Python 3"
    }
  },
  "cells": [
    {
      "cell_type": "markdown",
      "metadata": {
        "id": "view-in-github",
        "colab_type": "text"
      },
      "source": [
        "<a href=\"https://colab.research.google.com/github/barkle2/Programming/blob/master/%5BPython%5D%20KOSIS_API/kosis_test_1.ipynb\" target=\"_parent\"><img src=\"https://colab.research.google.com/assets/colab-badge.svg\" alt=\"Open In Colab\"/></a>"
      ]
    },
    {
      "cell_type": "code",
      "metadata": {
        "id": "InDIykJxqsRf"
      },
      "source": [
        "key = 'MDUwYjkzYmRhZjc4Yzk5M2QyZDg1NDBhNjNlOTNjZmQ='\r\n",
        "기관코드 = 101\r\n",
        "통계표ID = DT_1DA7012S"
      ],
      "execution_count": null,
      "outputs": []
    },
    {
      "cell_type": "code",
      "metadata": {
        "id": "R3Qv6aCDsF3H"
      },
      "source": [
        "# 성별 코드\r\n",
        "sex_id = {\r\n",
        "    '계': '0',\r\n",
        "    '남자': '2',\r\n",
        "    '여자': '3'\r\n",
        "}\r\n",
        "\r\n",
        "# 연령 코드\r\n",
        "age_id = {\r\n",
        "    '계': '00',\r\n",
        "    '15 - 29세': '75',\r\n",
        "    '15 - 19세': '10',\r\n",
        "    '20 - 29세': '20',\r\n",
        "    '20 - 24세': '201',\r\n",
        "    '25 - 29세': '202',\r\n",
        "    '30 - 39세': '30',\r\n",
        "    '30 - 34세': '301',\r\n",
        "    '35 - 39세': '302',\r\n",
        "    '40 - 49세': '40',\r\n",
        "    '40 - 44세': '401',\r\n",
        "    '45 - 49세': '402',\r\n",
        "    '50 - 59세': '50',\r\n",
        "    '50 - 54세': '501',\r\n",
        "    '55 - 59세': '502',\r\n",
        "    '60세이상': '60',\r\n",
        "    '60 - 64세': '601',\r\n",
        "    '65세 이상': '602',\r\n",
        "    '15 - 64세': '63',\r\n",
        "    '15 - 24세': '70'\r\n",
        "}\r\n",
        "\r\n",
        "# 항목 코드\r\n",
        "obj_id = {\r\n",
        "    '인구': 'T10',\r\n",
        "    '경제활동인구': 'T20',\r\n",
        "    '취업자': 'T30',\r\n",
        "    '실업자': 'T40',\r\n",
        "    '비경제활동인구': 'T50',\r\n",
        "    '경제활동참가율': 'T60',\r\n",
        "    '실업률': 'T80',\r\n",
        "    '고용률': 'T90'\r\n",
        "}"
      ],
      "execution_count": null,
      "outputs": []
    },
    {
      "cell_type": "code",
      "metadata": {
        "id": "ZpcAKzOGtmpI"
      },
      "source": [
        "query = 'https://kosis.kr/openapi/Param/statisticsParameterData.do?method=getList&apiKey=MDUwYjkzYmRhZjc4Yzk5M2QyZDg1NDBhNjNlOTNjZmQ=&itmId=T90+&objL1=0+&objL2=00+&objL3=&objL4=&objL5=&objL6=&objL7=&objL8=&format=json&jsonVD=Y&prdSe=M&startPrdDe=199906&endPrdDe=202011&loadGubun=1&orgId=101&tblId=DT_1DA7012S'"
      ],
      "execution_count": null,
      "outputs": []
    },
    {
      "cell_type": "code",
      "metadata": {
        "id": "NAxGoCHWtxN5"
      },
      "source": [
        "https://kosis.kr/openapi/Param/statisticsParameterData.do?method=getList&\r\n",
        "apiKey=MDUwYjkzYmRhZjc4Yzk5M2QyZDg1NDBhNjNlOTNjZmQ=&\r\n",
        "itmId=T90+&objL1=0+&objL2=00+&objL3=&objL4=&objL5=&objL6=&objL7=&objL8=&format=json&jsonVD=Y&prdSe=M&startPrdDe=199906&endPrdDe=202011&loadGubun=1&orgId=101&tblId=DT_1DA7012S'"
      ],
      "execution_count": null,
      "outputs": []
    }
  ]
}