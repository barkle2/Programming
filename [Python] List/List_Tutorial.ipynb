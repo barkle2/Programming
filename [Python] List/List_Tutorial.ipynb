{
  "nbformat": 4,
  "nbformat_minor": 0,
  "metadata": {
    "colab": {
      "name": "List_Tutorial.ipynb",
      "provenance": [],
      "authorship_tag": "ABX9TyMZ3jZLTYk96id/fdL9ov/Y",
      "include_colab_link": true
    },
    "kernelspec": {
      "name": "python3",
      "display_name": "Python 3"
    }
  },
  "cells": [
    {
      "cell_type": "markdown",
      "metadata": {
        "id": "view-in-github",
        "colab_type": "text"
      },
      "source": [
        "<a href=\"https://colab.research.google.com/github/barkle2/Programming/blob/master/%5BPython%5D%20List/List_Tutorial.ipynb\" target=\"_parent\"><img src=\"https://colab.research.google.com/assets/colab-badge.svg\" alt=\"Open In Colab\"/></a>"
      ]
    },
    {
      "cell_type": "markdown",
      "metadata": {
        "id": "60qLJlvmFGx7"
      },
      "source": [
        "# Python List"
      ]
    },
    {
      "cell_type": "markdown",
      "metadata": {
        "id": "VqOKYLkYHLv5"
      },
      "source": [
        "## 리스트 선언 및 초기화"
      ]
    },
    {
      "cell_type": "code",
      "metadata": {
        "colab": {
          "base_uri": "https://localhost:8080/"
        },
        "id": "9NK20UmpEaHt",
        "outputId": "d74a853b-f8bf-4ebd-efd7-c846891ca6ba"
      },
      "source": [
        "# 리스트 선언 방법 1\r\n",
        "empty_list1 = []\r\n",
        "print(empty_list1)\r\n",
        "# 리스트 선언 방법 2\r\n",
        "empty_list2 = list()\r\n",
        "print(empty_list2)"
      ],
      "execution_count": 10,
      "outputs": [
        {
          "output_type": "stream",
          "text": [
            "[]\n",
            "[]\n"
          ],
          "name": "stdout"
        }
      ]
    },
    {
      "cell_type": "code",
      "metadata": {
        "id": "eK4k3XOyGUzV"
      },
      "source": [
        "# 리스트 선언 + 초기화\r\n",
        "num_list = [3,1,2,5,4]"
      ],
      "execution_count": 25,
      "outputs": []
    },
    {
      "cell_type": "code",
      "metadata": {
        "colab": {
          "base_uri": "https://localhost:8080/"
        },
        "id": "o19vcoihG0ZQ",
        "outputId": "400cf02a-4c78-4ef8-c275-d73dfd876c33"
      },
      "source": [
        "# 리스트 출력 방법 1\r\n",
        "num_list"
      ],
      "execution_count": 26,
      "outputs": [
        {
          "output_type": "execute_result",
          "data": {
            "text/plain": [
              "[3, 1, 2, 5, 4]"
            ]
          },
          "metadata": {
            "tags": []
          },
          "execution_count": 26
        }
      ]
    },
    {
      "cell_type": "code",
      "metadata": {
        "colab": {
          "base_uri": "https://localhost:8080/"
        },
        "id": "lmVcGeXSG32W",
        "outputId": "8b1a464a-2b07-446c-e638-9cb11f34c4c8"
      },
      "source": [
        "# 리스트 출력 방법 2\r\n",
        "print(num_list)"
      ],
      "execution_count": 27,
      "outputs": [
        {
          "output_type": "stream",
          "text": [
            "[3, 1, 2, 5, 4]\n"
          ],
          "name": "stdout"
        }
      ]
    },
    {
      "cell_type": "markdown",
      "metadata": {
        "id": "XA_jov3wHb4D"
      },
      "source": [
        "## 리스트 정렬 및 연산"
      ]
    },
    {
      "cell_type": "code",
      "metadata": {
        "colab": {
          "base_uri": "https://localhost:8080/"
        },
        "id": "C35gy0NnHlCR",
        "outputId": "feef3209-bff4-403e-a5df-77a9c4f2c888"
      },
      "source": [
        "# sorted 함수를 사용하면 정렬된 리스트를 반환한다.\r\n",
        "sorted(num_list)"
      ],
      "execution_count": 30,
      "outputs": [
        {
          "output_type": "execute_result",
          "data": {
            "text/plain": [
              "[1, 2, 3, 4, 5]"
            ]
          },
          "metadata": {
            "tags": []
          },
          "execution_count": 30
        }
      ]
    },
    {
      "cell_type": "code",
      "metadata": {
        "colab": {
          "base_uri": "https://localhost:8080/"
        },
        "id": "bNOMir1jH5o9",
        "outputId": "acd30f84-4fed-4a12-c442-e99b2c21502d"
      },
      "source": [
        "# num_list는 그대로이다.\r\n",
        "num_list"
      ],
      "execution_count": 31,
      "outputs": [
        {
          "output_type": "execute_result",
          "data": {
            "text/plain": [
              "[3, 1, 2, 5, 4]"
            ]
          },
          "metadata": {
            "tags": []
          },
          "execution_count": 31
        }
      ]
    },
    {
      "cell_type": "code",
      "metadata": {
        "colab": {
          "base_uri": "https://localhost:8080/"
        },
        "id": "jnigiltUH9fb",
        "outputId": "f21c728b-f679-4016-e7dd-f2d82e1c39c2"
      },
      "source": [
        "# sort 함수를 사용하면 num_list의 값이 정렬된 값으로 변한다.\r\n",
        "num_list.sort()\r\n",
        "num_list"
      ],
      "execution_count": 33,
      "outputs": [
        {
          "output_type": "execute_result",
          "data": {
            "text/plain": [
              "[1, 2, 3, 4, 5]"
            ]
          },
          "metadata": {
            "tags": []
          },
          "execution_count": 33
        }
      ]
    },
    {
      "cell_type": "code",
      "metadata": {
        "colab": {
          "base_uri": "https://localhost:8080/"
        },
        "id": "7fYo4l3-IIRP",
        "outputId": "2cf9c443-3cdc-4bf6-c613-fa4c3eba1bb3"
      },
      "source": [
        "# 최대값 찾기\r\n",
        "max(num_list)"
      ],
      "execution_count": 35,
      "outputs": [
        {
          "output_type": "execute_result",
          "data": {
            "text/plain": [
              "5"
            ]
          },
          "metadata": {
            "tags": []
          },
          "execution_count": 35
        }
      ]
    },
    {
      "cell_type": "code",
      "metadata": {
        "colab": {
          "base_uri": "https://localhost:8080/"
        },
        "id": "AoFysPjTINaO",
        "outputId": "b06ab6ca-2f2f-4acf-ff31-83f7e56cea1f"
      },
      "source": [
        "# 최소값 찾기\r\n",
        "min(num_list)"
      ],
      "execution_count": 36,
      "outputs": [
        {
          "output_type": "execute_result",
          "data": {
            "text/plain": [
              "1"
            ]
          },
          "metadata": {
            "tags": []
          },
          "execution_count": 36
        }
      ]
    },
    {
      "cell_type": "code",
      "metadata": {
        "colab": {
          "base_uri": "https://localhost:8080/"
        },
        "id": "OZADhVchIRlH",
        "outputId": "ec137040-fb02-4779-d887-777bd880b549"
      },
      "source": [
        "# 합계 구하기\r\n",
        "sum(num_list)"
      ],
      "execution_count": 37,
      "outputs": [
        {
          "output_type": "execute_result",
          "data": {
            "text/plain": [
              "15"
            ]
          },
          "metadata": {
            "tags": []
          },
          "execution_count": 37
        }
      ]
    },
    {
      "cell_type": "code",
      "metadata": {
        "colab": {
          "base_uri": "https://localhost:8080/"
        },
        "id": "IDuQUhldIU_K",
        "outputId": "700c8627-28e1-4846-a9ea-1b7f6a8b54c6"
      },
      "source": [
        "# 원소 갯수 구하기\r\n",
        "len(num_list)"
      ],
      "execution_count": 41,
      "outputs": [
        {
          "output_type": "execute_result",
          "data": {
            "text/plain": [
              "5"
            ]
          },
          "metadata": {
            "tags": []
          },
          "execution_count": 41
        }
      ]
    }
  ]
}