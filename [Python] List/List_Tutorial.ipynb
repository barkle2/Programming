{
  "nbformat": 4,
  "nbformat_minor": 0,
  "metadata": {
    "colab": {
      "name": "List_Tutorial.ipynb",
      "provenance": [],
      "authorship_tag": "ABX9TyP2I45rJ1YqYDChdVhmnqAq",
      "include_colab_link": true
    },
    "kernelspec": {
      "name": "python3",
      "display_name": "Python 3"
    }
  },
  "cells": [
    {
      "cell_type": "markdown",
      "metadata": {
        "id": "view-in-github",
        "colab_type": "text"
      },
      "source": [
        "<a href=\"https://colab.research.google.com/github/barkle2/Programming/blob/master/%5BPython%5D%20List/List_Tutorial.ipynb\" target=\"_parent\"><img src=\"https://colab.research.google.com/assets/colab-badge.svg\" alt=\"Open In Colab\"/></a>"
      ]
    },
    {
      "cell_type": "markdown",
      "metadata": {
        "id": "60qLJlvmFGx7"
      },
      "source": [
        "# Python List"
      ]
    },
    {
      "cell_type": "markdown",
      "metadata": {
        "id": "VqOKYLkYHLv5"
      },
      "source": [
        "## 리스트 선언 및 초기화"
      ]
    },
    {
      "cell_type": "code",
      "metadata": {
        "colab": {
          "base_uri": "https://localhost:8080/"
        },
        "id": "9NK20UmpEaHt",
        "outputId": "fb3c7e78-8081-4f51-a25f-e17a7ec136ad"
      },
      "source": [
        "# 리스트 선언 방법 1\r\n",
        "empty_list1 = []\r\n",
        "print(empty_list1)\r\n",
        "# 리스트 선언 방법 2\r\n",
        "empty_list2 = list()\r\n",
        "print(empty_list2)"
      ],
      "execution_count": 1,
      "outputs": [
        {
          "output_type": "stream",
          "text": [
            "[]\n",
            "[]\n"
          ],
          "name": "stdout"
        }
      ]
    },
    {
      "cell_type": "code",
      "metadata": {
        "id": "eK4k3XOyGUzV"
      },
      "source": [
        "# 리스트 선언 + 초기화\r\n",
        "num_list = [3,1,2,5,4]"
      ],
      "execution_count": 2,
      "outputs": []
    },
    {
      "cell_type": "code",
      "metadata": {
        "colab": {
          "base_uri": "https://localhost:8080/"
        },
        "id": "o19vcoihG0ZQ",
        "outputId": "7dc78dd1-314a-4784-e9c7-da85e1a89e3c"
      },
      "source": [
        "# 리스트 출력 방법 1\r\n",
        "num_list"
      ],
      "execution_count": 3,
      "outputs": [
        {
          "output_type": "execute_result",
          "data": {
            "text/plain": [
              "[3, 1, 2, 5, 4]"
            ]
          },
          "metadata": {
            "tags": []
          },
          "execution_count": 3
        }
      ]
    },
    {
      "cell_type": "code",
      "metadata": {
        "colab": {
          "base_uri": "https://localhost:8080/"
        },
        "id": "lmVcGeXSG32W",
        "outputId": "ed87bc73-e578-417c-e459-60cbf4f6e31a"
      },
      "source": [
        "# 리스트 출력 방법 2\r\n",
        "print(num_list)"
      ],
      "execution_count": 4,
      "outputs": [
        {
          "output_type": "stream",
          "text": [
            "[3, 1, 2, 5, 4]\n"
          ],
          "name": "stdout"
        }
      ]
    },
    {
      "cell_type": "markdown",
      "metadata": {
        "id": "XA_jov3wHb4D"
      },
      "source": [
        "## 리스트 정렬 및 연산"
      ]
    },
    {
      "cell_type": "code",
      "metadata": {
        "colab": {
          "base_uri": "https://localhost:8080/"
        },
        "id": "C35gy0NnHlCR",
        "outputId": "861a435b-6f35-4611-a072-2e7832f14016"
      },
      "source": [
        "# sorted 함수를 사용하면 정렬된 리스트를 반환한다.\r\n",
        "sorted(num_list)"
      ],
      "execution_count": 5,
      "outputs": [
        {
          "output_type": "execute_result",
          "data": {
            "text/plain": [
              "[1, 2, 3, 4, 5]"
            ]
          },
          "metadata": {
            "tags": []
          },
          "execution_count": 5
        }
      ]
    },
    {
      "cell_type": "code",
      "metadata": {
        "colab": {
          "base_uri": "https://localhost:8080/"
        },
        "id": "bNOMir1jH5o9",
        "outputId": "e17db1e1-c689-46f8-d9b3-9cca92716176"
      },
      "source": [
        "# num_list는 그대로이다.\r\n",
        "num_list"
      ],
      "execution_count": 6,
      "outputs": [
        {
          "output_type": "execute_result",
          "data": {
            "text/plain": [
              "[3, 1, 2, 5, 4]"
            ]
          },
          "metadata": {
            "tags": []
          },
          "execution_count": 6
        }
      ]
    },
    {
      "cell_type": "code",
      "metadata": {
        "colab": {
          "base_uri": "https://localhost:8080/"
        },
        "id": "jnigiltUH9fb",
        "outputId": "f9f79b39-cfa9-4e0c-b596-05cac25881b2"
      },
      "source": [
        "# sort 함수를 사용하면 num_list의 값이 정렬된 값으로 변한다.\r\n",
        "num_list.sort()\r\n",
        "num_list"
      ],
      "execution_count": 7,
      "outputs": [
        {
          "output_type": "execute_result",
          "data": {
            "text/plain": [
              "[1, 2, 3, 4, 5]"
            ]
          },
          "metadata": {
            "tags": []
          },
          "execution_count": 7
        }
      ]
    },
    {
      "cell_type": "code",
      "metadata": {
        "colab": {
          "base_uri": "https://localhost:8080/"
        },
        "id": "7fYo4l3-IIRP",
        "outputId": "e6fd93c8-605f-4f7b-cc63-b895d50726a1"
      },
      "source": [
        "# 최대값 찾기\r\n",
        "max(num_list)"
      ],
      "execution_count": 8,
      "outputs": [
        {
          "output_type": "execute_result",
          "data": {
            "text/plain": [
              "5"
            ]
          },
          "metadata": {
            "tags": []
          },
          "execution_count": 8
        }
      ]
    },
    {
      "cell_type": "code",
      "metadata": {
        "colab": {
          "base_uri": "https://localhost:8080/"
        },
        "id": "AoFysPjTINaO",
        "outputId": "3ab544c0-1595-49be-c467-60fc94fa6fec"
      },
      "source": [
        "# 최소값 찾기\r\n",
        "min(num_list)"
      ],
      "execution_count": 9,
      "outputs": [
        {
          "output_type": "execute_result",
          "data": {
            "text/plain": [
              "1"
            ]
          },
          "metadata": {
            "tags": []
          },
          "execution_count": 9
        }
      ]
    },
    {
      "cell_type": "code",
      "metadata": {
        "colab": {
          "base_uri": "https://localhost:8080/"
        },
        "id": "OZADhVchIRlH",
        "outputId": "ab1586bc-22a9-48b9-d8c4-47e396e3ad4e"
      },
      "source": [
        "# 합계 구하기\r\n",
        "sum(num_list)"
      ],
      "execution_count": 10,
      "outputs": [
        {
          "output_type": "execute_result",
          "data": {
            "text/plain": [
              "15"
            ]
          },
          "metadata": {
            "tags": []
          },
          "execution_count": 10
        }
      ]
    },
    {
      "cell_type": "code",
      "metadata": {
        "colab": {
          "base_uri": "https://localhost:8080/"
        },
        "id": "IDuQUhldIU_K",
        "outputId": "35a38928-635d-4b59-fb2d-42b4b9e522a1"
      },
      "source": [
        "# 원소 갯수 구하기\r\n",
        "len(num_list)"
      ],
      "execution_count": 11,
      "outputs": [
        {
          "output_type": "execute_result",
          "data": {
            "text/plain": [
              "5"
            ]
          },
          "metadata": {
            "tags": []
          },
          "execution_count": 11
        }
      ]
    },
    {
      "cell_type": "markdown",
      "metadata": {
        "id": "IBV4a7qdKbd7"
      },
      "source": [
        "## 리스트 선택(슬라이싱)"
      ]
    },
    {
      "cell_type": "code",
      "metadata": {
        "colab": {
          "base_uri": "https://localhost:8080/"
        },
        "id": "NeKxpxt7KePT",
        "outputId": "697a8205-c0ae-4c93-a14c-49acd18a0431"
      },
      "source": [
        "# 1번째 원소 선택\r\n",
        "num_list[0]"
      ],
      "execution_count": 12,
      "outputs": [
        {
          "output_type": "execute_result",
          "data": {
            "text/plain": [
              "1"
            ]
          },
          "metadata": {
            "tags": []
          },
          "execution_count": 12
        }
      ]
    },
    {
      "cell_type": "code",
      "metadata": {
        "colab": {
          "base_uri": "https://localhost:8080/"
        },
        "id": "F2oDZVFcKgLu",
        "outputId": "de4ece53-774f-4cbd-98b5-27039e1d40cc"
      },
      "source": [
        "# 5번째 원소 선택\r\n",
        "num_list[4]"
      ],
      "execution_count": 13,
      "outputs": [
        {
          "output_type": "execute_result",
          "data": {
            "text/plain": [
              "5"
            ]
          },
          "metadata": {
            "tags": []
          },
          "execution_count": 13
        }
      ]
    },
    {
      "cell_type": "code",
      "metadata": {
        "colab": {
          "base_uri": "https://localhost:8080/"
        },
        "id": "GqZ6ZoTjKh9_",
        "outputId": "eece0532-d9cb-4309-db28-5c17550a8c8d"
      },
      "source": [
        "# 뒤에서 1번째 원소 선택\r\n",
        "num_list[-1]"
      ],
      "execution_count": 14,
      "outputs": [
        {
          "output_type": "execute_result",
          "data": {
            "text/plain": [
              "5"
            ]
          },
          "metadata": {
            "tags": []
          },
          "execution_count": 14
        }
      ]
    },
    {
      "cell_type": "code",
      "metadata": {
        "colab": {
          "base_uri": "https://localhost:8080/"
        },
        "id": "zrl1OQKlKkc9",
        "outputId": "ba435319-8fa8-4736-d41f-ba44051c4b63"
      },
      "source": [
        "# [0:3] -> 0, 1, 2 번째 원소 선택\r\n",
        "num_list[0:3]"
      ],
      "execution_count": 15,
      "outputs": [
        {
          "output_type": "execute_result",
          "data": {
            "text/plain": [
              "[1, 2, 3]"
            ]
          },
          "metadata": {
            "tags": []
          },
          "execution_count": 15
        }
      ]
    },
    {
      "cell_type": "code",
      "metadata": {
        "colab": {
          "base_uri": "https://localhost:8080/"
        },
        "id": "AfyXHvIoKodI",
        "outputId": "cb27ebbe-c3fd-45db-a184-027a4cc80540"
      },
      "source": [
        "# 시작 인덱스가 0이면 생략 가능\r\n",
        "num_list[:3]"
      ],
      "execution_count": 16,
      "outputs": [
        {
          "output_type": "execute_result",
          "data": {
            "text/plain": [
              "[1, 2, 3]"
            ]
          },
          "metadata": {
            "tags": []
          },
          "execution_count": 16
        }
      ]
    },
    {
      "cell_type": "code",
      "metadata": {
        "colab": {
          "base_uri": "https://localhost:8080/"
        },
        "id": "td4WDxHIKqwd",
        "outputId": "88033ca5-ae40-4e8f-aa6b-c524a173b85d"
      },
      "source": [
        "# 마지막 3개 원소 선택\r\n",
        "num_list[-3:]"
      ],
      "execution_count": 17,
      "outputs": [
        {
          "output_type": "execute_result",
          "data": {
            "text/plain": [
              "[3, 4, 5]"
            ]
          },
          "metadata": {
            "tags": []
          },
          "execution_count": 17
        }
      ]
    },
    {
      "cell_type": "markdown",
      "metadata": {
        "id": "S_MHXcXELHMS"
      },
      "source": [
        "## List와 iterator\r\n",
        "- iterator는 '반복 가능한 객체'를 의미합니다.\r\n",
        "- iterator인 객체는 반복문을 활용해서 데이터를 순차적으로 처리할 수 있습니다."
      ]
    },
    {
      "cell_type": "code",
      "metadata": {
        "colab": {
          "base_uri": "https://localhost:8080/"
        },
        "id": "-ckxFRCjLpUW",
        "outputId": "5b4895f6-5f6f-451b-e90f-7d0c47067b43"
      },
      "source": [
        "# iterator인지 알아보기\r\n",
        "iter(num_list)"
      ],
      "execution_count": 18,
      "outputs": [
        {
          "output_type": "execute_result",
          "data": {
            "text/plain": [
              "<list_iterator at 0x7f97f98490b8>"
            ]
          },
          "metadata": {
            "tags": []
          },
          "execution_count": 18
        }
      ]
    },
    {
      "cell_type": "code",
      "metadata": {
        "colab": {
          "base_uri": "https://localhost:8080/"
        },
        "id": "iBENU4sdLKmc",
        "outputId": "49c4af6c-a481-4aff-8a25-2ee9cef83652"
      },
      "source": [
        "# String도 iterator 입니다.\r\n",
        "iter('abcde')"
      ],
      "execution_count": 19,
      "outputs": [
        {
          "output_type": "execute_result",
          "data": {
            "text/plain": [
              "<str_iterator at 0x7f97f9849320>"
            ]
          },
          "metadata": {
            "tags": []
          },
          "execution_count": 19
        }
      ]
    },
    {
      "cell_type": "code",
      "metadata": {
        "colab": {
          "base_uri": "https://localhost:8080/"
        },
        "id": "6UJxnj0aL5be",
        "outputId": "05652ffd-b791-4ac1-bc50-009997f3020f"
      },
      "source": [
        "# 반복문으로 List 객체 처리\r\n",
        "for i in num_list:\r\n",
        "  print(i)"
      ],
      "execution_count": 20,
      "outputs": [
        {
          "output_type": "stream",
          "text": [
            "1\n",
            "2\n",
            "3\n",
            "4\n",
            "5\n"
          ],
          "name": "stdout"
        }
      ]
    },
    {
      "cell_type": "code",
      "metadata": {
        "colab": {
          "base_uri": "https://localhost:8080/"
        },
        "id": "tVuAoyyaL84_",
        "outputId": "0e1c8ccd-5050-4b88-e257-dc28bf13b71a"
      },
      "source": [
        "# String도 for문으로 처리할 수 있습니다.\r\n",
        "for s in 'abcde':\r\n",
        "  print(s)"
      ],
      "execution_count": 21,
      "outputs": [
        {
          "output_type": "stream",
          "text": [
            "a\n",
            "b\n",
            "c\n",
            "d\n",
            "e\n"
          ],
          "name": "stdout"
        }
      ]
    },
    {
      "cell_type": "markdown",
      "metadata": {
        "id": "aWUUtAp6MTS-"
      },
      "source": [
        "## List 연산"
      ]
    },
    {
      "cell_type": "code",
      "metadata": {
        "colab": {
          "base_uri": "https://localhost:8080/"
        },
        "id": "6JhsWXPRMU9_",
        "outputId": "2f78eef9-cf77-49c9-ddf7-f0efa69be175"
      },
      "source": [
        "# 리스트 합치기\r\n",
        "list_1 = [1,2,3]\r\n",
        "list_2 = [4,5,6]\r\n",
        "new_list = list_1 + list_2\r\n",
        "new_list"
      ],
      "execution_count": 22,
      "outputs": [
        {
          "output_type": "execute_result",
          "data": {
            "text/plain": [
              "[1, 2, 3, 4, 5, 6]"
            ]
          },
          "metadata": {
            "tags": []
          },
          "execution_count": 22
        }
      ]
    },
    {
      "cell_type": "code",
      "metadata": {
        "colab": {
          "base_uri": "https://localhost:8080/"
        },
        "id": "aZ9v9uyoMmxU",
        "outputId": "daeec45f-02cc-4de5-c19e-1e21f16c7503"
      },
      "source": [
        "# 리스트 반복\r\n",
        "new_list * 3"
      ],
      "execution_count": 23,
      "outputs": [
        {
          "output_type": "execute_result",
          "data": {
            "text/plain": [
              "[1, 2, 3, 4, 5, 6, 1, 2, 3, 4, 5, 6, 1, 2, 3, 4, 5, 6]"
            ]
          },
          "metadata": {
            "tags": []
          },
          "execution_count": 23
        }
      ]
    }
  ]
}