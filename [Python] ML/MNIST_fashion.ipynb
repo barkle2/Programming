{
  "nbformat": 4,
  "nbformat_minor": 0,
  "metadata": {
    "colab": {
      "name": "MNIST_fashion.ipynb",
      "provenance": [],
      "collapsed_sections": [],
      "authorship_tag": "ABX9TyP3q0NeZclQAyliuTUpVIc+",
      "include_colab_link": true
    },
    "kernelspec": {
      "name": "python3",
      "display_name": "Python 3"
    }
  },
  "cells": [
    {
      "cell_type": "markdown",
      "metadata": {
        "id": "view-in-github",
        "colab_type": "text"
      },
      "source": [
        "<a href=\"https://colab.research.google.com/github/barkle2/Programming/blob/master/%5BPython%5D%20ML/MNIST_fashion.ipynb\" target=\"_parent\"><img src=\"https://colab.research.google.com/assets/colab-badge.svg\" alt=\"Open In Colab\"/></a>"
      ]
    },
    {
      "cell_type": "markdown",
      "metadata": {
        "id": "RIjHtVbaD9vn"
      },
      "source": [
        "# MNIST 패션 아이템 분류하기\r\n",
        "\r\n",
        "- tensorflow, matplotlib.pyplot 모듈 로딩"
      ]
    },
    {
      "cell_type": "code",
      "metadata": {
        "id": "MnHRCtlWDhAX"
      },
      "source": [
        "import tensorflow as tf\r\n",
        "import matplotlib.pyplot as plt"
      ],
      "execution_count": 1,
      "outputs": []
    },
    {
      "cell_type": "markdown",
      "metadata": {
        "id": "3Xq1DQhVEUzJ"
      },
      "source": [
        "- fashion_mnist 데이터 불러오기"
      ]
    },
    {
      "cell_type": "code",
      "metadata": {
        "colab": {
          "base_uri": "https://localhost:8080/"
        },
        "id": "ZJipXQO3EZVP",
        "outputId": "445c3b8b-fbb7-45e9-c716-c7503e560a2e"
      },
      "source": [
        "(train_images, train_labels), (test_images, test_labels) = tf.keras.datasets.fashion_mnist.load_data()"
      ],
      "execution_count": 2,
      "outputs": [
        {
          "output_type": "stream",
          "text": [
            "Downloading data from https://storage.googleapis.com/tensorflow/tf-keras-datasets/train-labels-idx1-ubyte.gz\n",
            "32768/29515 [=================================] - 0s 0us/step\n",
            "Downloading data from https://storage.googleapis.com/tensorflow/tf-keras-datasets/train-images-idx3-ubyte.gz\n",
            "26427392/26421880 [==============================] - 0s 0us/step\n",
            "Downloading data from https://storage.googleapis.com/tensorflow/tf-keras-datasets/t10k-labels-idx1-ubyte.gz\n",
            "8192/5148 [===============================================] - 0s 0us/step\n",
            "Downloading data from https://storage.googleapis.com/tensorflow/tf-keras-datasets/t10k-images-idx3-ubyte.gz\n",
            "4423680/4422102 [==============================] - 0s 0us/step\n"
          ],
          "name": "stdout"
        }
      ]
    },
    {
      "cell_type": "markdown",
      "metadata": {
        "id": "MIqwHS4eElpP"
      },
      "source": [
        "- fashion mnist dataset의 학습 데이터 확인"
      ]
    },
    {
      "cell_type": "code",
      "metadata": {
        "colab": {
          "base_uri": "https://localhost:8080/"
        },
        "id": "Xc4ZyZwqEk24",
        "outputId": "15e5bc89-a629-4d72-e2d2-305159bf6795"
      },
      "source": [
        "print(train_images.shape)\r\n",
        "print(train_images[0].shape)\r\n",
        "print(train_labels.shape)\r\n",
        "print(train_labels[0].shape)"
      ],
      "execution_count": 4,
      "outputs": [
        {
          "output_type": "stream",
          "text": [
            "(60000, 28, 28)\n",
            "(28, 28)\n",
            "(60000,)\n",
            "()\n"
          ],
          "name": "stdout"
        }
      ]
    },
    {
      "cell_type": "markdown",
      "metadata": {
        "id": "VbePf7_OFPYp"
      },
      "source": [
        "- fashion mnist dataset의 검증 데이터 확인"
      ]
    },
    {
      "cell_type": "code",
      "metadata": {
        "colab": {
          "base_uri": "https://localhost:8080/"
        },
        "id": "tvOslvgdFTfY",
        "outputId": "860bbaf1-4b93-4f08-db95-5e7623400db5"
      },
      "source": [
        "print(test_images.shape)\r\n",
        "print(test_labels.shape)"
      ],
      "execution_count": 6,
      "outputs": [
        {
          "output_type": "stream",
          "text": [
            "(10000, 28, 28)\n",
            "(10000,)\n"
          ],
          "name": "stdout"
        }
      ]
    },
    {
      "cell_type": "markdown",
      "metadata": {
        "id": "LujKCNJkFaoa"
      },
      "source": [
        "- 학습데이터 하나 출력해보기"
      ]
    },
    {
      "cell_type": "code",
      "metadata": {
        "colab": {
          "base_uri": "https://localhost:8080/"
        },
        "id": "UZxZd6MQF8UO",
        "outputId": "5f470ebb-4633-4931-cf1e-d2d885b9c32d"
      },
      "source": [
        "import numpy as np\r\n",
        "np.set_printoptions(linewidth=150)\r\n",
        "train_images[0]"
      ],
      "execution_count": 11,
      "outputs": [
        {
          "output_type": "execute_result",
          "data": {
            "text/plain": [
              "array([[  0,   0,   0,   0,   0,   0,   0,   0,   0,   0,   0,   0,   0,   0,   0,   0,   0,   0,   0,   0,   0,   0,   0,   0,   0,   0,   0,   0],\n",
              "       [  0,   0,   0,   0,   0,   0,   0,   0,   0,   0,   0,   0,   0,   0,   0,   0,   0,   0,   0,   0,   0,   0,   0,   0,   0,   0,   0,   0],\n",
              "       [  0,   0,   0,   0,   0,   0,   0,   0,   0,   0,   0,   0,   0,   0,   0,   0,   0,   0,   0,   0,   0,   0,   0,   0,   0,   0,   0,   0],\n",
              "       [  0,   0,   0,   0,   0,   0,   0,   0,   0,   0,   0,   0,   1,   0,   0,  13,  73,   0,   0,   1,   4,   0,   0,   0,   0,   1,   1,   0],\n",
              "       [  0,   0,   0,   0,   0,   0,   0,   0,   0,   0,   0,   0,   3,   0,  36, 136, 127,  62,  54,   0,   0,   0,   1,   3,   4,   0,   0,   3],\n",
              "       [  0,   0,   0,   0,   0,   0,   0,   0,   0,   0,   0,   0,   6,   0, 102, 204, 176, 134, 144, 123,  23,   0,   0,   0,   0,  12,  10,   0],\n",
              "       [  0,   0,   0,   0,   0,   0,   0,   0,   0,   0,   0,   0,   0,   0, 155, 236, 207, 178, 107, 156, 161, 109,  64,  23,  77, 130,  72,  15],\n",
              "       [  0,   0,   0,   0,   0,   0,   0,   0,   0,   0,   0,   1,   0,  69, 207, 223, 218, 216, 216, 163, 127, 121, 122, 146, 141,  88, 172,  66],\n",
              "       [  0,   0,   0,   0,   0,   0,   0,   0,   0,   1,   1,   1,   0, 200, 232, 232, 233, 229, 223, 223, 215, 213, 164, 127, 123, 196, 229,   0],\n",
              "       [  0,   0,   0,   0,   0,   0,   0,   0,   0,   0,   0,   0,   0, 183, 225, 216, 223, 228, 235, 227, 224, 222, 224, 221, 223, 245, 173,   0],\n",
              "       [  0,   0,   0,   0,   0,   0,   0,   0,   0,   0,   0,   0,   0, 193, 228, 218, 213, 198, 180, 212, 210, 211, 213, 223, 220, 243, 202,   0],\n",
              "       [  0,   0,   0,   0,   0,   0,   0,   0,   0,   1,   3,   0,  12, 219, 220, 212, 218, 192, 169, 227, 208, 218, 224, 212, 226, 197, 209,  52],\n",
              "       [  0,   0,   0,   0,   0,   0,   0,   0,   0,   0,   6,   0,  99, 244, 222, 220, 218, 203, 198, 221, 215, 213, 222, 220, 245, 119, 167,  56],\n",
              "       [  0,   0,   0,   0,   0,   0,   0,   0,   0,   4,   0,   0,  55, 236, 228, 230, 228, 240, 232, 213, 218, 223, 234, 217, 217, 209,  92,   0],\n",
              "       [  0,   0,   1,   4,   6,   7,   2,   0,   0,   0,   0,   0, 237, 226, 217, 223, 222, 219, 222, 221, 216, 223, 229, 215, 218, 255,  77,   0],\n",
              "       [  0,   3,   0,   0,   0,   0,   0,   0,   0,  62, 145, 204, 228, 207, 213, 221, 218, 208, 211, 218, 224, 223, 219, 215, 224, 244, 159,   0],\n",
              "       [  0,   0,   0,   0,  18,  44,  82, 107, 189, 228, 220, 222, 217, 226, 200, 205, 211, 230, 224, 234, 176, 188, 250, 248, 233, 238, 215,   0],\n",
              "       [  0,  57, 187, 208, 224, 221, 224, 208, 204, 214, 208, 209, 200, 159, 245, 193, 206, 223, 255, 255, 221, 234, 221, 211, 220, 232, 246,   0],\n",
              "       [  3, 202, 228, 224, 221, 211, 211, 214, 205, 205, 205, 220, 240,  80, 150, 255, 229, 221, 188, 154, 191, 210, 204, 209, 222, 228, 225,   0],\n",
              "       [ 98, 233, 198, 210, 222, 229, 229, 234, 249, 220, 194, 215, 217, 241,  65,  73, 106, 117, 168, 219, 221, 215, 217, 223, 223, 224, 229,  29],\n",
              "       [ 75, 204, 212, 204, 193, 205, 211, 225, 216, 185, 197, 206, 198, 213, 240, 195, 227, 245, 239, 223, 218, 212, 209, 222, 220, 221, 230,  67],\n",
              "       [ 48, 203, 183, 194, 213, 197, 185, 190, 194, 192, 202, 214, 219, 221, 220, 236, 225, 216, 199, 206, 186, 181, 177, 172, 181, 205, 206, 115],\n",
              "       [  0, 122, 219, 193, 179, 171, 183, 196, 204, 210, 213, 207, 211, 210, 200, 196, 194, 191, 195, 191, 198, 192, 176, 156, 167, 177, 210,  92],\n",
              "       [  0,   0,  74, 189, 212, 191, 175, 172, 175, 181, 185, 188, 189, 188, 193, 198, 204, 209, 210, 210, 211, 188, 188, 194, 192, 216, 170,   0],\n",
              "       [  2,   0,   0,   0,  66, 200, 222, 237, 239, 242, 246, 243, 244, 221, 220, 193, 191, 179, 182, 182, 181, 176, 166, 168,  99,  58,   0,   0],\n",
              "       [  0,   0,   0,   0,   0,   0,   0,  40,  61,  44,  72,  41,  35,   0,   0,   0,   0,   0,   0,   0,   0,   0,   0,   0,   0,   0,   0,   0],\n",
              "       [  0,   0,   0,   0,   0,   0,   0,   0,   0,   0,   0,   0,   0,   0,   0,   0,   0,   0,   0,   0,   0,   0,   0,   0,   0,   0,   0,   0],\n",
              "       [  0,   0,   0,   0,   0,   0,   0,   0,   0,   0,   0,   0,   0,   0,   0,   0,   0,   0,   0,   0,   0,   0,   0,   0,   0,   0,   0,   0]],\n",
              "      dtype=uint8)"
            ]
          },
          "metadata": {
            "tags": []
          },
          "execution_count": 11
        }
      ]
    },
    {
      "cell_type": "code",
      "metadata": {
        "colab": {
          "base_uri": "https://localhost:8080/",
          "height": 265
        },
        "id": "GoGpYg9YGqdu",
        "outputId": "694170dd-4859-4e11-b2d1-30668254fb45"
      },
      "source": [
        "plt.figure()\r\n",
        "plt.imshow(train_images[0], cmap='gray')\r\n",
        "plt.grid(False)\r\n",
        "plt.show()"
      ],
      "execution_count": 15,
      "outputs": [
        {
          "output_type": "display_data",
          "data": {
            "image/png": "[encoded data removed]",
            "text/plain": [
              "<Figure size 432x288 with 1 Axes>"
            ]
          },
          "metadata": {
            "tags": [],
            "needs_background": "light"
          }
        }
      ]
    },
    {
      "cell_type": "markdown",
      "metadata": {
        "id": "PVeM6Fh2HWwV"
      },
      "source": [
        "- 0~9 의 라벨이 어떤 옷인지는 이미 정의되어 있음"
      ]
    },
    {
      "cell_type": "code",
      "metadata": {
        "colab": {
          "base_uri": "https://localhost:8080/"
        },
        "id": "YPskbbl_GqqN",
        "outputId": "a057f53c-bca8-41d3-afd4-06b3766ad7bc"
      },
      "source": [
        "print(train_labels[0])\r\n",
        "class_names = ['T-shirt/top', 'Trouser', 'Pullover', 'Dress', 'Coat', 'Sandal', 'Shirt', 'Sneaker', 'Bag', 'Angle Boot']\r\n",
        "print(class_names[train_labels[0]])"
      ],
      "execution_count": 13,
      "outputs": [
        {
          "output_type": "stream",
          "text": [
            "9\n",
            "Angle Boot\n"
          ],
          "name": "stdout"
        }
      ]
    },
    {
      "cell_type": "markdown",
      "metadata": {
        "id": "zyH32P3dHptw"
      },
      "source": [
        "- 데이터의 값을 0 ~ 255 에서 0 ~ 1로 조정"
      ]
    },
    {
      "cell_type": "code",
      "metadata": {
        "id": "lsYbkUZgHs0F"
      },
      "source": [
        "train_images = train_images/255.0\r\n",
        "test_images = test_images/255.0"
      ],
      "execution_count": 16,
      "outputs": []
    },
    {
      "cell_type": "markdown",
      "metadata": {
        "id": "reJLSUSiHzLA"
      },
      "source": [
        "- 바뀐 데이터를 확인"
      ]
    },
    {
      "cell_type": "code",
      "metadata": {
        "colab": {
          "base_uri": "https://localhost:8080/"
        },
        "id": "k3j2QgSGH_Ab",
        "outputId": "cb488b28-c55d-4354-d3a1-ab6318970269"
      },
      "source": [
        "np.set_printoptions(linewidth=300)\r\n",
        "np.round(train_images[0], 2)"
      ],
      "execution_count": 18,
      "outputs": [
        {
          "output_type": "execute_result",
          "data": {
            "text/plain": [
              "array([[0.  , 0.  , 0.  , 0.  , 0.  , 0.  , 0.  , 0.  , 0.  , 0.  , 0.  , 0.  , 0.  , 0.  , 0.  , 0.  , 0.  , 0.  , 0.  , 0.  , 0.  , 0.  , 0.  , 0.  , 0.  , 0.  , 0.  , 0.  ],\n",
              "       [0.  , 0.  , 0.  , 0.  , 0.  , 0.  , 0.  , 0.  , 0.  , 0.  , 0.  , 0.  , 0.  , 0.  , 0.  , 0.  , 0.  , 0.  , 0.  , 0.  , 0.  , 0.  , 0.  , 0.  , 0.  , 0.  , 0.  , 0.  ],\n",
              "       [0.  , 0.  , 0.  , 0.  , 0.  , 0.  , 0.  , 0.  , 0.  , 0.  , 0.  , 0.  , 0.  , 0.  , 0.  , 0.  , 0.  , 0.  , 0.  , 0.  , 0.  , 0.  , 0.  , 0.  , 0.  , 0.  , 0.  , 0.  ],\n",
              "       [0.  , 0.  , 0.  , 0.  , 0.  , 0.  , 0.  , 0.  , 0.  , 0.  , 0.  , 0.  , 0.  , 0.  , 0.  , 0.05, 0.29, 0.  , 0.  , 0.  , 0.02, 0.  , 0.  , 0.  , 0.  , 0.  , 0.  , 0.  ],\n",
              "       [0.  , 0.  , 0.  , 0.  , 0.  , 0.  , 0.  , 0.  , 0.  , 0.  , 0.  , 0.  , 0.01, 0.  , 0.14, 0.53, 0.5 , 0.24, 0.21, 0.  , 0.  , 0.  , 0.  , 0.01, 0.02, 0.  , 0.  , 0.01],\n",
              "       [0.  , 0.  , 0.  , 0.  , 0.  , 0.  , 0.  , 0.  , 0.  , 0.  , 0.  , 0.  , 0.02, 0.  , 0.4 , 0.8 , 0.69, 0.53, 0.56, 0.48, 0.09, 0.  , 0.  , 0.  , 0.  , 0.05, 0.04, 0.  ],\n",
              "       [0.  , 0.  , 0.  , 0.  , 0.  , 0.  , 0.  , 0.  , 0.  , 0.  , 0.  , 0.  , 0.  , 0.  , 0.61, 0.93, 0.81, 0.7 , 0.42, 0.61, 0.63, 0.43, 0.25, 0.09, 0.3 , 0.51, 0.28, 0.06],\n",
              "       [0.  , 0.  , 0.  , 0.  , 0.  , 0.  , 0.  , 0.  , 0.  , 0.  , 0.  , 0.  , 0.  , 0.27, 0.81, 0.87, 0.85, 0.85, 0.85, 0.64, 0.5 , 0.47, 0.48, 0.57, 0.55, 0.35, 0.67, 0.26],\n",
              "       [0.  , 0.  , 0.  , 0.  , 0.  , 0.  , 0.  , 0.  , 0.  , 0.  , 0.  , 0.  , 0.  , 0.78, 0.91, 0.91, 0.91, 0.9 , 0.87, 0.87, 0.84, 0.84, 0.64, 0.5 , 0.48, 0.77, 0.9 , 0.  ],\n",
              "       [0.  , 0.  , 0.  , 0.  , 0.  , 0.  , 0.  , 0.  , 0.  , 0.  , 0.  , 0.  , 0.  , 0.72, 0.88, 0.85, 0.87, 0.89, 0.92, 0.89, 0.88, 0.87, 0.88, 0.87, 0.87, 0.96, 0.68, 0.  ],\n",
              "       [0.  , 0.  , 0.  , 0.  , 0.  , 0.  , 0.  , 0.  , 0.  , 0.  , 0.  , 0.  , 0.  , 0.76, 0.89, 0.85, 0.84, 0.78, 0.71, 0.83, 0.82, 0.83, 0.84, 0.87, 0.86, 0.95, 0.79, 0.  ],\n",
              "       [0.  , 0.  , 0.  , 0.  , 0.  , 0.  , 0.  , 0.  , 0.  , 0.  , 0.01, 0.  , 0.05, 0.86, 0.86, 0.83, 0.85, 0.75, 0.66, 0.89, 0.82, 0.85, 0.88, 0.83, 0.89, 0.77, 0.82, 0.2 ],\n",
              "       [0.  , 0.  , 0.  , 0.  , 0.  , 0.  , 0.  , 0.  , 0.  , 0.  , 0.02, 0.  , 0.39, 0.96, 0.87, 0.86, 0.85, 0.8 , 0.78, 0.87, 0.84, 0.84, 0.87, 0.86, 0.96, 0.47, 0.65, 0.22],\n",
              "       [0.  , 0.  , 0.  , 0.  , 0.  , 0.  , 0.  , 0.  , 0.  , 0.02, 0.  , 0.  , 0.22, 0.93, 0.89, 0.9 , 0.89, 0.94, 0.91, 0.84, 0.85, 0.87, 0.92, 0.85, 0.85, 0.82, 0.36, 0.  ],\n",
              "       [0.  , 0.  , 0.  , 0.02, 0.02, 0.03, 0.01, 0.  , 0.  , 0.  , 0.  , 0.  , 0.93, 0.89, 0.85, 0.87, 0.87, 0.86, 0.87, 0.87, 0.85, 0.87, 0.9 , 0.84, 0.85, 1.  , 0.3 , 0.  ],\n",
              "       [0.  , 0.01, 0.  , 0.  , 0.  , 0.  , 0.  , 0.  , 0.  , 0.24, 0.57, 0.8 , 0.89, 0.81, 0.84, 0.87, 0.85, 0.82, 0.83, 0.85, 0.88, 0.87, 0.86, 0.84, 0.88, 0.96, 0.62, 0.  ],\n",
              "       [0.  , 0.  , 0.  , 0.  , 0.07, 0.17, 0.32, 0.42, 0.74, 0.89, 0.86, 0.87, 0.85, 0.89, 0.78, 0.8 , 0.83, 0.9 , 0.88, 0.92, 0.69, 0.74, 0.98, 0.97, 0.91, 0.93, 0.84, 0.  ],\n",
              "       [0.  , 0.22, 0.73, 0.82, 0.88, 0.87, 0.88, 0.82, 0.8 , 0.84, 0.82, 0.82, 0.78, 0.62, 0.96, 0.76, 0.81, 0.87, 1.  , 1.  , 0.87, 0.92, 0.87, 0.83, 0.86, 0.91, 0.96, 0.  ],\n",
              "       [0.01, 0.79, 0.89, 0.88, 0.87, 0.83, 0.83, 0.84, 0.8 , 0.8 , 0.8 , 0.86, 0.94, 0.31, 0.59, 1.  , 0.9 , 0.87, 0.74, 0.6 , 0.75, 0.82, 0.8 , 0.82, 0.87, 0.89, 0.88, 0.  ],\n",
              "       [0.38, 0.91, 0.78, 0.82, 0.87, 0.9 , 0.9 , 0.92, 0.98, 0.86, 0.76, 0.84, 0.85, 0.95, 0.25, 0.29, 0.42, 0.46, 0.66, 0.86, 0.87, 0.84, 0.85, 0.87, 0.87, 0.88, 0.9 , 0.11],\n",
              "       [0.29, 0.8 , 0.83, 0.8 , 0.76, 0.8 , 0.83, 0.88, 0.85, 0.73, 0.77, 0.81, 0.78, 0.84, 0.94, 0.76, 0.89, 0.96, 0.94, 0.87, 0.85, 0.83, 0.82, 0.87, 0.86, 0.87, 0.9 , 0.26],\n",
              "       [0.19, 0.8 , 0.72, 0.76, 0.84, 0.77, 0.73, 0.75, 0.76, 0.75, 0.79, 0.84, 0.86, 0.87, 0.86, 0.93, 0.88, 0.85, 0.78, 0.81, 0.73, 0.71, 0.69, 0.67, 0.71, 0.8 , 0.81, 0.45],\n",
              "       [0.  , 0.48, 0.86, 0.76, 0.7 , 0.67, 0.72, 0.77, 0.8 , 0.82, 0.84, 0.81, 0.83, 0.82, 0.78, 0.77, 0.76, 0.75, 0.76, 0.75, 0.78, 0.75, 0.69, 0.61, 0.65, 0.69, 0.82, 0.36],\n",
              "       [0.  , 0.  , 0.29, 0.74, 0.83, 0.75, 0.69, 0.67, 0.69, 0.71, 0.73, 0.74, 0.74, 0.74, 0.76, 0.78, 0.8 , 0.82, 0.82, 0.82, 0.83, 0.74, 0.74, 0.76, 0.75, 0.85, 0.67, 0.  ],\n",
              "       [0.01, 0.  , 0.  , 0.  , 0.26, 0.78, 0.87, 0.93, 0.94, 0.95, 0.96, 0.95, 0.96, 0.87, 0.86, 0.76, 0.75, 0.7 , 0.71, 0.71, 0.71, 0.69, 0.65, 0.66, 0.39, 0.23, 0.  , 0.  ],\n",
              "       [0.  , 0.  , 0.  , 0.  , 0.  , 0.  , 0.  , 0.16, 0.24, 0.17, 0.28, 0.16, 0.14, 0.  , 0.  , 0.  , 0.  , 0.  , 0.  , 0.  , 0.  , 0.  , 0.  , 0.  , 0.  , 0.  , 0.  , 0.  ],\n",
              "       [0.  , 0.  , 0.  , 0.  , 0.  , 0.  , 0.  , 0.  , 0.  , 0.  , 0.  , 0.  , 0.  , 0.  , 0.  , 0.  , 0.  , 0.  , 0.  , 0.  , 0.  , 0.  , 0.  , 0.  , 0.  , 0.  , 0.  , 0.  ],\n",
              "       [0.  , 0.  , 0.  , 0.  , 0.  , 0.  , 0.  , 0.  , 0.  , 0.  , 0.  , 0.  , 0.  , 0.  , 0.  , 0.  , 0.  , 0.  , 0.  , 0.  , 0.  , 0.  , 0.  , 0.  , 0.  , 0.  , 0.  , 0.  ]])"
            ]
          },
          "metadata": {
            "tags": []
          },
          "execution_count": 18
        }
      ]
    },
    {
      "cell_type": "markdown",
      "metadata": {
        "id": "wN2HfdofItTz"
      },
      "source": [
        "- 머신러닝 모델 레이어 설정"
      ]
    },
    {
      "cell_type": "code",
      "metadata": {
        "id": "sD2cpr0RIvEE"
      },
      "source": [
        "model = tf.keras.Sequential([\r\n",
        "  tf.keras.layers.Flatten(input_shape=(28,28)),\r\n",
        "  tf.keras.layers.Dense(128, activation='relu'),\r\n",
        "  tf.keras.layers.Dense(10, activation='softmax')\r\n",
        "])"
      ],
      "execution_count": 19,
      "outputs": []
    },
    {
      "cell_type": "markdown",
      "metadata": {
        "id": "tQP-XsifJODG"
      },
      "source": [
        "- 모델의 옵티마이저, 손실함수, 평가지표 설정"
      ]
    },
    {
      "cell_type": "code",
      "metadata": {
        "id": "dya_fWQZJS7B"
      },
      "source": [
        "model.compile(optimizer='adam',\r\n",
        "              loss = 'sparse_categorical_crossentropy',\r\n",
        "              metrics=['accuracy'])"
      ],
      "execution_count": 21,
      "outputs": []
    },
    {
      "cell_type": "markdown",
      "metadata": {
        "id": "EpkPFgR6JoiY"
      },
      "source": [
        "- 학습하기"
      ]
    },
    {
      "cell_type": "code",
      "metadata": {
        "colab": {
          "base_uri": "https://localhost:8080/"
        },
        "id": "pcIb2v6UJqAw",
        "outputId": "ee594879-788f-43ef-fca8-41caa53c5fe8"
      },
      "source": [
        "model.fit(train_images, train_labels, epochs=10)"
      ],
      "execution_count": 22,
      "outputs": [
        {
          "output_type": "stream",
          "text": [
            "Epoch 1/10\n",
            "1875/1875 [==============================] - 4s 2ms/step - loss: 0.6260 - accuracy: 0.7834\n",
            "Epoch 2/10\n",
            "1875/1875 [==============================] - 4s 2ms/step - loss: 0.3831 - accuracy: 0.8628\n",
            "Epoch 3/10\n",
            "1875/1875 [==============================] - 4s 2ms/step - loss: 0.3402 - accuracy: 0.8747\n",
            "Epoch 4/10\n",
            "1875/1875 [==============================] - 4s 2ms/step - loss: 0.3098 - accuracy: 0.8874\n",
            "Epoch 5/10\n",
            "1875/1875 [==============================] - 3s 2ms/step - loss: 0.2972 - accuracy: 0.8916\n",
            "Epoch 6/10\n",
            "1875/1875 [==============================] - 4s 2ms/step - loss: 0.2794 - accuracy: 0.8961\n",
            "Epoch 7/10\n",
            "1875/1875 [==============================] - 4s 2ms/step - loss: 0.2691 - accuracy: 0.9001\n",
            "Epoch 8/10\n",
            "1875/1875 [==============================] - 4s 2ms/step - loss: 0.2564 - accuracy: 0.9035\n",
            "Epoch 9/10\n",
            "1875/1875 [==============================] - 4s 2ms/step - loss: 0.2452 - accuracy: 0.9092\n",
            "Epoch 10/10\n",
            "1875/1875 [==============================] - 4s 2ms/step - loss: 0.2405 - accuracy: 0.9097\n"
          ],
          "name": "stdout"
        },
        {
          "output_type": "execute_result",
          "data": {
            "text/plain": [
              "<tensorflow.python.keras.callbacks.History at 0x7f298649c3c8>"
            ]
          },
          "metadata": {
            "tags": []
          },
          "execution_count": 22
        }
      ]
    },
    {
      "cell_type": "markdown",
      "metadata": {
        "id": "xKD6ueSUKOj5"
      },
      "source": [
        "- 예측 정확도 계산"
      ]
    },
    {
      "cell_type": "code",
      "metadata": {
        "colab": {
          "base_uri": "https://localhost:8080/"
        },
        "id": "j7RocaDMKQ35",
        "outputId": "4102bd1b-8a30-48f0-d5df-55620d8b3798"
      },
      "source": [
        "test_loss, test_acc = model.evaluate(test_images, test_labels)"
      ],
      "execution_count": 23,
      "outputs": [
        {
          "output_type": "stream",
          "text": [
            "313/313 [==============================] - 0s 1ms/step - loss: 0.3206 - accuracy: 0.8865\n"
          ],
          "name": "stdout"
        }
      ]
    },
    {
      "cell_type": "markdown",
      "metadata": {
        "id": "afuClSCZKqUC"
      },
      "source": [
        "- 원하는 이미지를 입력하여 예측해보기"
      ]
    },
    {
      "cell_type": "code",
      "metadata": {
        "id": "1ge-mcQ_Kf-N"
      },
      "source": [
        "img = test_images[32]\r\n",
        "label = test_labels[32]"
      ],
      "execution_count": 26,
      "outputs": []
    },
    {
      "cell_type": "markdown",
      "metadata": {
        "id": "SrUPXH8tLCcs"
      },
      "source": [
        "- 신경망에 입력할 수 있도록 차원 추가"
      ]
    },
    {
      "cell_type": "code",
      "metadata": {
        "colab": {
          "base_uri": "https://localhost:8080/"
        },
        "id": "3JsZic8KK8On",
        "outputId": "ca4ef906-f12e-4109-b410-ad711bb14bcd"
      },
      "source": [
        "print(img.shape)\r\n",
        "img = np.expand_dims(img, 0)\r\n",
        "print(img.shape)"
      ],
      "execution_count": 27,
      "outputs": [
        {
          "output_type": "stream",
          "text": [
            "(28, 28)\n",
            "(1, 28, 28)\n"
          ],
          "name": "stdout"
        }
      ]
    },
    {
      "cell_type": "markdown",
      "metadata": {
        "id": "UdjxpZlqLSY9"
      },
      "source": [
        "- 예측해보기"
      ]
    },
    {
      "cell_type": "code",
      "metadata": {
        "colab": {
          "base_uri": "https://localhost:8080/"
        },
        "id": "tvlGwQ8ALTeo",
        "outputId": "694b6d5e-ff5e-4c59-9c16-c678a7c314f8"
      },
      "source": [
        "prediction = model.predict(img)\r\n",
        "prediction"
      ],
      "execution_count": 29,
      "outputs": [
        {
          "output_type": "execute_result",
          "data": {
            "text/plain": [
              "array([[5.6338869e-04, 8.9129908e-03, 2.1851632e-04, 9.8957950e-01, 4.2745000e-04, 7.8447408e-07, 3.2400567e-05, 1.1667413e-08, 2.5397504e-04, 1.0989613e-05]], dtype=float32)"
            ]
          },
          "metadata": {
            "tags": []
          },
          "execution_count": 29
        }
      ]
    },
    {
      "cell_type": "code",
      "metadata": {
        "colab": {
          "base_uri": "https://localhost:8080/"
        },
        "id": "yLXr269zLbGh",
        "outputId": "c1f0bbba-ae4c-4d17-a761-ba21050a3805"
      },
      "source": [
        "print('예측값:',np.argmax(prediction))\r\n",
        "print('정답:', label)"
      ],
      "execution_count": 31,
      "outputs": [
        {
          "output_type": "stream",
          "text": [
            "예측값: 3\n",
            "정답: 3\n"
          ],
          "name": "stdout"
        }
      ]
    },
    {
      "cell_type": "code",
      "metadata": {
        "colab": {
          "base_uri": "https://localhost:8080/",
          "height": 35
        },
        "id": "fjFfjDxhLjD2",
        "outputId": "5d6e0d65-a4a8-44a0-ef04-9b131b4a6c48"
      },
      "source": [
        "class_names[np.argmax(prediction)]"
      ],
      "execution_count": 33,
      "outputs": [
        {
          "output_type": "execute_result",
          "data": {
            "application/vnd.google.colaboratory.intrinsic+json": {
              "type": "string"
            },
            "text/plain": [
              "'Dress'"
            ]
          },
          "metadata": {
            "tags": []
          },
          "execution_count": 33
        }
      ]
    }
  ]
}