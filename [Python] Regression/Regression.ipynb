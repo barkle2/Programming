{
 "cells": [
  {
   "attachments": {},
   "cell_type": "markdown",
   "metadata": {},
   "source": [
    "# 데이터 읽기\n",
    "\n",
    "pi_josa_result3.csv 파일을 읽어서 data 변수에 저장한다"
   ]
  },
  {
   "cell_type": "code",
   "execution_count": 2,
   "metadata": {},
   "outputs": [
    {
     "name": "stdout",
     "output_type": "stream",
     "text": [
      "Requirement already satisfied: scikit-learn in c:\\users\\barkl\\appdata\\local\\programs\\python\\python39\\lib\\site-packages (1.2.0)\n",
      "Requirement already satisfied: joblib>=1.1.1 in c:\\users\\barkl\\appdata\\local\\programs\\python\\python39\\lib\\site-packages (from scikit-learn) (1.2.0)\n",
      "Requirement already satisfied: threadpoolctl>=2.0.0 in c:\\users\\barkl\\appdata\\local\\programs\\python\\python39\\lib\\site-packages (from scikit-learn) (3.1.0)\n",
      "Requirement already satisfied: numpy>=1.17.3 in c:\\users\\barkl\\appdata\\local\\programs\\python\\python39\\lib\\site-packages (from scikit-learn) (1.24.1)\n",
      "Requirement already satisfied: scipy>=1.3.2 in c:\\users\\barkl\\appdata\\local\\programs\\python\\python39\\lib\\site-packages (from scikit-learn) (1.10.0)\n"
     ]
    },
    {
     "name": "stderr",
     "output_type": "stream",
     "text": [
      "WARNING: You are using pip version 21.1.3; however, version 22.3.1 is available.\n",
      "You should consider upgrading via the 'c:\\users\\barkl\\appdata\\local\\programs\\python\\python39\\python.exe -m pip install --upgrade pip' command.\n"
     ]
    }
   ],
   "source": [
    "#! pip install seaborn\n",
    "#! pip install wheel\n",
    "! pip install scikit-learn\n"
   ]
  },
  {
   "cell_type": "code",
   "execution_count": 32,
   "metadata": {},
   "outputs": [],
   "source": [
    "import pandas as pd\n",
    "import seaborn as sns\n",
    "from datetime import datetime\n",
    "from sklearn.model_selection import train_test_split\n",
    "from sklearn.preprocessing import MinMaxScaler\n",
    "from sklearn.linear_model import LogisticRegression\n",
    "from sklearn.metrics import confusion_matrix\n",
    "from sklearn.metrics import classification_report\n",
    "import plotly.express as px"
   ]
  },
  {
   "cell_type": "code",
   "execution_count": 4,
   "metadata": {},
   "outputs": [],
   "source": [
    "data = pd.read_csv('pi_josa_result3.csv', sep='|', encoding='euc-kr')"
   ]
  },
  {
   "cell_type": "code",
   "execution_count": 5,
   "metadata": {},
   "outputs": [
    {
     "data": {
      "text/html": [
       "<div>\n",
       "<style scoped>\n",
       "    .dataframe tbody tr th:only-of-type {\n",
       "        vertical-align: middle;\n",
       "    }\n",
       "\n",
       "    .dataframe tbody tr th {\n",
       "        vertical-align: top;\n",
       "    }\n",
       "\n",
       "    .dataframe thead th {\n",
       "        text-align: right;\n",
       "    }\n",
       "</style>\n",
       "<table border=\"1\" class=\"dataframe\">\n",
       "  <thead>\n",
       "    <tr style=\"text-align: right;\">\n",
       "      <th></th>\n",
       "      <th>조사지청</th>\n",
       "      <th>조사_사업장명</th>\n",
       "      <th>조사_대표자명</th>\n",
       "      <th>대지급금지급액</th>\n",
       "      <th>대지급금지급인원</th>\n",
       "      <th>부정수급액</th>\n",
       "      <th>부정수급인원</th>\n",
       "      <th>진행상황</th>\n",
       "      <th>y</th>\n",
       "      <th>사업장명</th>\n",
       "      <th>...</th>\n",
       "      <th>최초지급일</th>\n",
       "      <th>최근지급일</th>\n",
       "      <th>체불액</th>\n",
       "      <th>접수일자수</th>\n",
       "      <th>순청구인수</th>\n",
       "      <th>계좌번호수</th>\n",
       "      <th>지급건수</th>\n",
       "      <th>사건수</th>\n",
       "      <th>반의사불벌사건수</th>\n",
       "      <th>처리기관</th>\n",
       "    </tr>\n",
       "  </thead>\n",
       "  <tbody>\n",
       "    <tr>\n",
       "      <th>0</th>\n",
       "      <td>서울청</td>\n",
       "      <td>의연의료재단경일의원</td>\n",
       "      <td>박준영</td>\n",
       "      <td>158453240</td>\n",
       "      <td>43</td>\n",
       "      <td>0</td>\n",
       "      <td>0</td>\n",
       "      <td>내사종결</td>\n",
       "      <td>0</td>\n",
       "      <td>의료법인 의연의료재단경일의원</td>\n",
       "      <td>...</td>\n",
       "      <td>2016-10-04</td>\n",
       "      <td>2022-08-26</td>\n",
       "      <td>370652622</td>\n",
       "      <td>76</td>\n",
       "      <td>83</td>\n",
       "      <td>84</td>\n",
       "      <td>88</td>\n",
       "      <td>46</td>\n",
       "      <td>19.0</td>\n",
       "      <td>서 울 청</td>\n",
       "    </tr>\n",
       "    <tr>\n",
       "      <th>1</th>\n",
       "      <td>서울청</td>\n",
       "      <td>(주)밸런스인더스트리</td>\n",
       "      <td>엄백용(라미선)</td>\n",
       "      <td>203154940</td>\n",
       "      <td>29</td>\n",
       "      <td>0</td>\n",
       "      <td>0</td>\n",
       "      <td>내사종결</td>\n",
       "      <td>0</td>\n",
       "      <td>(주)밸런스인더스트리</td>\n",
       "      <td>...</td>\n",
       "      <td>2021-08-25</td>\n",
       "      <td>2022-02-09</td>\n",
       "      <td>276061169</td>\n",
       "      <td>17</td>\n",
       "      <td>29</td>\n",
       "      <td>29</td>\n",
       "      <td>29</td>\n",
       "      <td>23</td>\n",
       "      <td>17.0</td>\n",
       "      <td>서 울 청</td>\n",
       "    </tr>\n",
       "    <tr>\n",
       "      <th>2</th>\n",
       "      <td>서울청</td>\n",
       "      <td>(주)엔비스</td>\n",
       "      <td>김유일</td>\n",
       "      <td>213242450</td>\n",
       "      <td>23</td>\n",
       "      <td>0</td>\n",
       "      <td>0</td>\n",
       "      <td>내사종결</td>\n",
       "      <td>0</td>\n",
       "      <td>(주)엔비스</td>\n",
       "      <td>...</td>\n",
       "      <td>2021-10-25</td>\n",
       "      <td>2022-10-27</td>\n",
       "      <td>446943007</td>\n",
       "      <td>24</td>\n",
       "      <td>31</td>\n",
       "      <td>31</td>\n",
       "      <td>31</td>\n",
       "      <td>48</td>\n",
       "      <td>15.0</td>\n",
       "      <td>서 울 청</td>\n",
       "    </tr>\n",
       "    <tr>\n",
       "      <th>3</th>\n",
       "      <td>서울강남지청</td>\n",
       "      <td>태용종합건설(주)</td>\n",
       "      <td>정경충</td>\n",
       "      <td>236408748</td>\n",
       "      <td>40</td>\n",
       "      <td>35570000</td>\n",
       "      <td>6</td>\n",
       "      <td>수사중</td>\n",
       "      <td>1</td>\n",
       "      <td>태용종합건설(주)</td>\n",
       "      <td>...</td>\n",
       "      <td>2021-12-29</td>\n",
       "      <td>2022-08-09</td>\n",
       "      <td>256336328</td>\n",
       "      <td>14</td>\n",
       "      <td>46</td>\n",
       "      <td>46</td>\n",
       "      <td>46</td>\n",
       "      <td>22</td>\n",
       "      <td>14.0</td>\n",
       "      <td>서울강남</td>\n",
       "    </tr>\n",
       "    <tr>\n",
       "      <th>4</th>\n",
       "      <td>서울강남지청</td>\n",
       "      <td>희망인력건설산업(주)</td>\n",
       "      <td>윤성진</td>\n",
       "      <td>61087500</td>\n",
       "      <td>5</td>\n",
       "      <td>61087500</td>\n",
       "      <td>5</td>\n",
       "      <td>수사중</td>\n",
       "      <td>1</td>\n",
       "      <td>희망인력건설산업주식회사</td>\n",
       "      <td>...</td>\n",
       "      <td>2022-07-25</td>\n",
       "      <td>2022-07-25</td>\n",
       "      <td>12663894</td>\n",
       "      <td>1</td>\n",
       "      <td>1</td>\n",
       "      <td>1</td>\n",
       "      <td>1</td>\n",
       "      <td>39</td>\n",
       "      <td>5.0</td>\n",
       "      <td>서 울 청</td>\n",
       "    </tr>\n",
       "  </tbody>\n",
       "</table>\n",
       "<p>5 rows × 23 columns</p>\n",
       "</div>"
      ],
      "text/plain": [
       "     조사지청      조사_사업장명   조사_대표자명    대지급금지급액  대지급금지급인원     부정수급액  부정수급인원  진행상황  \\\n",
       "0     서울청   의연의료재단경일의원       박준영  158453240        43         0       0  내사종결   \n",
       "1     서울청  (주)밸런스인더스트리  엄백용(라미선)  203154940        29         0       0  내사종결   \n",
       "2     서울청       (주)엔비스       김유일  213242450        23         0       0  내사종결   \n",
       "3  서울강남지청    태용종합건설(주)       정경충  236408748        40  35570000       6   수사중   \n",
       "4  서울강남지청  희망인력건설산업(주)       윤성진   61087500         5  61087500       5   수사중   \n",
       "\n",
       "   y             사업장명  ...       최초지급일       최근지급일        체불액 접수일자수 순청구인수  \\\n",
       "0  0  의료법인 의연의료재단경일의원  ...  2016-10-04  2022-08-26  370652622    76    83   \n",
       "1  0      (주)밸런스인더스트리  ...  2021-08-25  2022-02-09  276061169    17    29   \n",
       "2  0           (주)엔비스  ...  2021-10-25  2022-10-27  446943007    24    31   \n",
       "3  1        태용종합건설(주)  ...  2021-12-29  2022-08-09  256336328    14    46   \n",
       "4  1     희망인력건설산업주식회사  ...  2022-07-25  2022-07-25   12663894     1     1   \n",
       "\n",
       "   계좌번호수  지급건수  사건수  반의사불벌사건수   처리기관  \n",
       "0     84    88   46      19.0  서 울 청  \n",
       "1     29    29   23      17.0  서 울 청  \n",
       "2     31    31   48      15.0  서 울 청  \n",
       "3     46    46   22      14.0   서울강남  \n",
       "4      1     1   39       5.0  서 울 청  \n",
       "\n",
       "[5 rows x 23 columns]"
      ]
     },
     "execution_count": 5,
     "metadata": {},
     "output_type": "execute_result"
    }
   ],
   "source": [
    "data.head()"
   ]
  },
  {
   "cell_type": "code",
   "execution_count": 6,
   "metadata": {},
   "outputs": [
    {
     "data": {
      "text/plain": [
       "0    85\n",
       "1    19\n",
       "Name: y, dtype: int64"
      ]
     },
     "execution_count": 6,
     "metadata": {},
     "output_type": "execute_result"
    }
   ],
   "source": [
    "data['y'].value_counts()"
   ]
  },
  {
   "cell_type": "code",
   "execution_count": 7,
   "metadata": {},
   "outputs": [
    {
     "data": {
      "text/html": [
       "<div>\n",
       "<style scoped>\n",
       "    .dataframe tbody tr th:only-of-type {\n",
       "        vertical-align: middle;\n",
       "    }\n",
       "\n",
       "    .dataframe tbody tr th {\n",
       "        vertical-align: top;\n",
       "    }\n",
       "\n",
       "    .dataframe thead th {\n",
       "        text-align: right;\n",
       "    }\n",
       "</style>\n",
       "<table border=\"1\" class=\"dataframe\">\n",
       "  <thead>\n",
       "    <tr style=\"text-align: right;\">\n",
       "      <th></th>\n",
       "      <th>대지급금지급액</th>\n",
       "      <th>대지급금지급인원</th>\n",
       "      <th>부정수급액</th>\n",
       "      <th>부정수급인원</th>\n",
       "      <th>y</th>\n",
       "      <th>관리번호</th>\n",
       "      <th>SE_WONBU_NO</th>\n",
       "      <th>총지급액</th>\n",
       "      <th>체불액</th>\n",
       "      <th>접수일자수</th>\n",
       "      <th>순청구인수</th>\n",
       "      <th>계좌번호수</th>\n",
       "      <th>지급건수</th>\n",
       "      <th>사건수</th>\n",
       "      <th>반의사불벌사건수</th>\n",
       "    </tr>\n",
       "  </thead>\n",
       "  <tbody>\n",
       "    <tr>\n",
       "      <th>count</th>\n",
       "      <td>1.040000e+02</td>\n",
       "      <td>104.000000</td>\n",
       "      <td>1.040000e+02</td>\n",
       "      <td>104.000000</td>\n",
       "      <td>104.000000</td>\n",
       "      <td>1.040000e+02</td>\n",
       "      <td>1.040000e+02</td>\n",
       "      <td>1.040000e+02</td>\n",
       "      <td>1.040000e+02</td>\n",
       "      <td>104.000000</td>\n",
       "      <td>104.000000</td>\n",
       "      <td>104.000000</td>\n",
       "      <td>104.000000</td>\n",
       "      <td>104.000000</td>\n",
       "      <td>91.000000</td>\n",
       "    </tr>\n",
       "    <tr>\n",
       "      <th>mean</th>\n",
       "      <td>2.765529e+08</td>\n",
       "      <td>60.682692</td>\n",
       "      <td>2.535168e+07</td>\n",
       "      <td>4.326923</td>\n",
       "      <td>0.182692</td>\n",
       "      <td>4.429437e+10</td>\n",
       "      <td>2.012174e+10</td>\n",
       "      <td>3.209652e+08</td>\n",
       "      <td>3.802754e+08</td>\n",
       "      <td>26.240385</td>\n",
       "      <td>66.067308</td>\n",
       "      <td>66.355769</td>\n",
       "      <td>67.586538</td>\n",
       "      <td>49.451923</td>\n",
       "      <td>22.274725</td>\n",
       "    </tr>\n",
       "    <tr>\n",
       "      <th>std</th>\n",
       "      <td>2.407973e+08</td>\n",
       "      <td>59.787693</td>\n",
       "      <td>8.914722e+07</td>\n",
       "      <td>14.347587</td>\n",
       "      <td>0.388285</td>\n",
       "      <td>2.625030e+10</td>\n",
       "      <td>7.268835e+07</td>\n",
       "      <td>2.731296e+08</td>\n",
       "      <td>3.225887e+08</td>\n",
       "      <td>22.706440</td>\n",
       "      <td>61.700854</td>\n",
       "      <td>62.068224</td>\n",
       "      <td>63.441068</td>\n",
       "      <td>56.993592</td>\n",
       "      <td>28.456230</td>\n",
       "    </tr>\n",
       "    <tr>\n",
       "      <th>min</th>\n",
       "      <td>0.000000e+00</td>\n",
       "      <td>0.000000</td>\n",
       "      <td>0.000000e+00</td>\n",
       "      <td>0.000000</td>\n",
       "      <td>0.000000</td>\n",
       "      <td>1.058739e+10</td>\n",
       "      <td>1.996001e+10</td>\n",
       "      <td>6.204370e+06</td>\n",
       "      <td>6.204378e+06</td>\n",
       "      <td>1.000000</td>\n",
       "      <td>1.000000</td>\n",
       "      <td>1.000000</td>\n",
       "      <td>1.000000</td>\n",
       "      <td>1.000000</td>\n",
       "      <td>1.000000</td>\n",
       "    </tr>\n",
       "    <tr>\n",
       "      <th>25%</th>\n",
       "      <td>1.578940e+08</td>\n",
       "      <td>24.750000</td>\n",
       "      <td>0.000000e+00</td>\n",
       "      <td>0.000000</td>\n",
       "      <td>0.000000</td>\n",
       "      <td>2.126934e+10</td>\n",
       "      <td>2.007764e+10</td>\n",
       "      <td>1.671564e+08</td>\n",
       "      <td>1.994437e+08</td>\n",
       "      <td>9.000000</td>\n",
       "      <td>30.000000</td>\n",
       "      <td>30.750000</td>\n",
       "      <td>31.000000</td>\n",
       "      <td>11.000000</td>\n",
       "      <td>5.000000</td>\n",
       "    </tr>\n",
       "    <tr>\n",
       "      <th>50%</th>\n",
       "      <td>2.017159e+08</td>\n",
       "      <td>42.000000</td>\n",
       "      <td>0.000000e+00</td>\n",
       "      <td>0.000000</td>\n",
       "      <td>0.000000</td>\n",
       "      <td>4.198310e+10</td>\n",
       "      <td>2.015039e+10</td>\n",
       "      <td>2.203329e+08</td>\n",
       "      <td>2.699610e+08</td>\n",
       "      <td>23.000000</td>\n",
       "      <td>47.000000</td>\n",
       "      <td>47.000000</td>\n",
       "      <td>47.500000</td>\n",
       "      <td>39.000000</td>\n",
       "      <td>14.000000</td>\n",
       "    </tr>\n",
       "    <tr>\n",
       "      <th>75%</th>\n",
       "      <td>3.376888e+08</td>\n",
       "      <td>70.000000</td>\n",
       "      <td>0.000000e+00</td>\n",
       "      <td>0.000000</td>\n",
       "      <td>0.000000</td>\n",
       "      <td>6.160793e+10</td>\n",
       "      <td>2.018055e+10</td>\n",
       "      <td>3.773420e+08</td>\n",
       "      <td>4.466285e+08</td>\n",
       "      <td>37.250000</td>\n",
       "      <td>77.500000</td>\n",
       "      <td>77.500000</td>\n",
       "      <td>77.500000</td>\n",
       "      <td>64.250000</td>\n",
       "      <td>26.000000</td>\n",
       "    </tr>\n",
       "    <tr>\n",
       "      <th>max</th>\n",
       "      <td>1.314592e+09</td>\n",
       "      <td>303.000000</td>\n",
       "      <td>6.660852e+08</td>\n",
       "      <td>112.000000</td>\n",
       "      <td>1.000000</td>\n",
       "      <td>9.202241e+10</td>\n",
       "      <td>2.021312e+10</td>\n",
       "      <td>1.503015e+09</td>\n",
       "      <td>1.831324e+09</td>\n",
       "      <td>112.000000</td>\n",
       "      <td>314.000000</td>\n",
       "      <td>318.000000</td>\n",
       "      <td>318.000000</td>\n",
       "      <td>322.000000</td>\n",
       "      <td>182.000000</td>\n",
       "    </tr>\n",
       "  </tbody>\n",
       "</table>\n",
       "</div>"
      ],
      "text/plain": [
       "            대지급금지급액    대지급금지급인원         부정수급액      부정수급인원           y  \\\n",
       "count  1.040000e+02  104.000000  1.040000e+02  104.000000  104.000000   \n",
       "mean   2.765529e+08   60.682692  2.535168e+07    4.326923    0.182692   \n",
       "std    2.407973e+08   59.787693  8.914722e+07   14.347587    0.388285   \n",
       "min    0.000000e+00    0.000000  0.000000e+00    0.000000    0.000000   \n",
       "25%    1.578940e+08   24.750000  0.000000e+00    0.000000    0.000000   \n",
       "50%    2.017159e+08   42.000000  0.000000e+00    0.000000    0.000000   \n",
       "75%    3.376888e+08   70.000000  0.000000e+00    0.000000    0.000000   \n",
       "max    1.314592e+09  303.000000  6.660852e+08  112.000000    1.000000   \n",
       "\n",
       "               관리번호   SE_WONBU_NO          총지급액           체불액       접수일자수  \\\n",
       "count  1.040000e+02  1.040000e+02  1.040000e+02  1.040000e+02  104.000000   \n",
       "mean   4.429437e+10  2.012174e+10  3.209652e+08  3.802754e+08   26.240385   \n",
       "std    2.625030e+10  7.268835e+07  2.731296e+08  3.225887e+08   22.706440   \n",
       "min    1.058739e+10  1.996001e+10  6.204370e+06  6.204378e+06    1.000000   \n",
       "25%    2.126934e+10  2.007764e+10  1.671564e+08  1.994437e+08    9.000000   \n",
       "50%    4.198310e+10  2.015039e+10  2.203329e+08  2.699610e+08   23.000000   \n",
       "75%    6.160793e+10  2.018055e+10  3.773420e+08  4.466285e+08   37.250000   \n",
       "max    9.202241e+10  2.021312e+10  1.503015e+09  1.831324e+09  112.000000   \n",
       "\n",
       "            순청구인수       계좌번호수        지급건수         사건수    반의사불벌사건수  \n",
       "count  104.000000  104.000000  104.000000  104.000000   91.000000  \n",
       "mean    66.067308   66.355769   67.586538   49.451923   22.274725  \n",
       "std     61.700854   62.068224   63.441068   56.993592   28.456230  \n",
       "min      1.000000    1.000000    1.000000    1.000000    1.000000  \n",
       "25%     30.000000   30.750000   31.000000   11.000000    5.000000  \n",
       "50%     47.000000   47.000000   47.500000   39.000000   14.000000  \n",
       "75%     77.500000   77.500000   77.500000   64.250000   26.000000  \n",
       "max    314.000000  318.000000  318.000000  322.000000  182.000000  "
      ]
     },
     "execution_count": 7,
     "metadata": {},
     "output_type": "execute_result"
    }
   ],
   "source": [
    "data.describe()"
   ]
  },
  {
   "cell_type": "code",
   "execution_count": 8,
   "metadata": {},
   "outputs": [
    {
     "data": {
      "text/html": [
       "<div>\n",
       "<style scoped>\n",
       "    .dataframe tbody tr th:only-of-type {\n",
       "        vertical-align: middle;\n",
       "    }\n",
       "\n",
       "    .dataframe tbody tr th {\n",
       "        vertical-align: top;\n",
       "    }\n",
       "\n",
       "    .dataframe thead th {\n",
       "        text-align: right;\n",
       "    }\n",
       "</style>\n",
       "<table border=\"1\" class=\"dataframe\">\n",
       "  <thead>\n",
       "    <tr style=\"text-align: right;\">\n",
       "      <th></th>\n",
       "      <th>조사지청</th>\n",
       "      <th>조사_사업장명</th>\n",
       "      <th>조사_대표자명</th>\n",
       "      <th>대지급금지급액</th>\n",
       "      <th>대지급금지급인원</th>\n",
       "      <th>부정수급액</th>\n",
       "      <th>부정수급인원</th>\n",
       "      <th>진행상황</th>\n",
       "      <th>y</th>\n",
       "      <th>사업장명</th>\n",
       "      <th>...</th>\n",
       "      <th>최초지급일</th>\n",
       "      <th>최근지급일</th>\n",
       "      <th>체불액</th>\n",
       "      <th>접수일자수</th>\n",
       "      <th>순청구인수</th>\n",
       "      <th>계좌번호수</th>\n",
       "      <th>지급건수</th>\n",
       "      <th>사건수</th>\n",
       "      <th>반의사불벌사건수</th>\n",
       "      <th>처리기관</th>\n",
       "    </tr>\n",
       "  </thead>\n",
       "  <tbody>\n",
       "    <tr>\n",
       "      <th>0</th>\n",
       "      <td>서울청</td>\n",
       "      <td>의연의료재단경일의원</td>\n",
       "      <td>박준영</td>\n",
       "      <td>158453240</td>\n",
       "      <td>43</td>\n",
       "      <td>0</td>\n",
       "      <td>0</td>\n",
       "      <td>내사종결</td>\n",
       "      <td>0</td>\n",
       "      <td>의료법인 의연의료재단경일의원</td>\n",
       "      <td>...</td>\n",
       "      <td>2016-10-04</td>\n",
       "      <td>2022-08-26</td>\n",
       "      <td>370652622</td>\n",
       "      <td>76</td>\n",
       "      <td>83</td>\n",
       "      <td>84</td>\n",
       "      <td>88</td>\n",
       "      <td>46</td>\n",
       "      <td>19.0</td>\n",
       "      <td>서 울 청</td>\n",
       "    </tr>\n",
       "    <tr>\n",
       "      <th>1</th>\n",
       "      <td>서울청</td>\n",
       "      <td>(주)밸런스인더스트리</td>\n",
       "      <td>엄백용(라미선)</td>\n",
       "      <td>203154940</td>\n",
       "      <td>29</td>\n",
       "      <td>0</td>\n",
       "      <td>0</td>\n",
       "      <td>내사종결</td>\n",
       "      <td>0</td>\n",
       "      <td>(주)밸런스인더스트리</td>\n",
       "      <td>...</td>\n",
       "      <td>2021-08-25</td>\n",
       "      <td>2022-02-09</td>\n",
       "      <td>276061169</td>\n",
       "      <td>17</td>\n",
       "      <td>29</td>\n",
       "      <td>29</td>\n",
       "      <td>29</td>\n",
       "      <td>23</td>\n",
       "      <td>17.0</td>\n",
       "      <td>서 울 청</td>\n",
       "    </tr>\n",
       "    <tr>\n",
       "      <th>2</th>\n",
       "      <td>서울청</td>\n",
       "      <td>(주)엔비스</td>\n",
       "      <td>김유일</td>\n",
       "      <td>213242450</td>\n",
       "      <td>23</td>\n",
       "      <td>0</td>\n",
       "      <td>0</td>\n",
       "      <td>내사종결</td>\n",
       "      <td>0</td>\n",
       "      <td>(주)엔비스</td>\n",
       "      <td>...</td>\n",
       "      <td>2021-10-25</td>\n",
       "      <td>2022-10-27</td>\n",
       "      <td>446943007</td>\n",
       "      <td>24</td>\n",
       "      <td>31</td>\n",
       "      <td>31</td>\n",
       "      <td>31</td>\n",
       "      <td>48</td>\n",
       "      <td>15.0</td>\n",
       "      <td>서 울 청</td>\n",
       "    </tr>\n",
       "    <tr>\n",
       "      <th>3</th>\n",
       "      <td>서울강남지청</td>\n",
       "      <td>태용종합건설(주)</td>\n",
       "      <td>정경충</td>\n",
       "      <td>236408748</td>\n",
       "      <td>40</td>\n",
       "      <td>35570000</td>\n",
       "      <td>6</td>\n",
       "      <td>수사중</td>\n",
       "      <td>1</td>\n",
       "      <td>태용종합건설(주)</td>\n",
       "      <td>...</td>\n",
       "      <td>2021-12-29</td>\n",
       "      <td>2022-08-09</td>\n",
       "      <td>256336328</td>\n",
       "      <td>14</td>\n",
       "      <td>46</td>\n",
       "      <td>46</td>\n",
       "      <td>46</td>\n",
       "      <td>22</td>\n",
       "      <td>14.0</td>\n",
       "      <td>서울강남</td>\n",
       "    </tr>\n",
       "    <tr>\n",
       "      <th>4</th>\n",
       "      <td>서울강남지청</td>\n",
       "      <td>희망인력건설산업(주)</td>\n",
       "      <td>윤성진</td>\n",
       "      <td>61087500</td>\n",
       "      <td>5</td>\n",
       "      <td>61087500</td>\n",
       "      <td>5</td>\n",
       "      <td>수사중</td>\n",
       "      <td>1</td>\n",
       "      <td>희망인력건설산업주식회사</td>\n",
       "      <td>...</td>\n",
       "      <td>2022-07-25</td>\n",
       "      <td>2022-07-25</td>\n",
       "      <td>12663894</td>\n",
       "      <td>1</td>\n",
       "      <td>1</td>\n",
       "      <td>1</td>\n",
       "      <td>1</td>\n",
       "      <td>39</td>\n",
       "      <td>5.0</td>\n",
       "      <td>서 울 청</td>\n",
       "    </tr>\n",
       "  </tbody>\n",
       "</table>\n",
       "<p>5 rows × 23 columns</p>\n",
       "</div>"
      ],
      "text/plain": [
       "     조사지청      조사_사업장명   조사_대표자명    대지급금지급액  대지급금지급인원     부정수급액  부정수급인원  진행상황  \\\n",
       "0     서울청   의연의료재단경일의원       박준영  158453240        43         0       0  내사종결   \n",
       "1     서울청  (주)밸런스인더스트리  엄백용(라미선)  203154940        29         0       0  내사종결   \n",
       "2     서울청       (주)엔비스       김유일  213242450        23         0       0  내사종결   \n",
       "3  서울강남지청    태용종합건설(주)       정경충  236408748        40  35570000       6   수사중   \n",
       "4  서울강남지청  희망인력건설산업(주)       윤성진   61087500         5  61087500       5   수사중   \n",
       "\n",
       "   y             사업장명  ...       최초지급일       최근지급일        체불액 접수일자수 순청구인수  \\\n",
       "0  0  의료법인 의연의료재단경일의원  ...  2016-10-04  2022-08-26  370652622    76    83   \n",
       "1  0      (주)밸런스인더스트리  ...  2021-08-25  2022-02-09  276061169    17    29   \n",
       "2  0           (주)엔비스  ...  2021-10-25  2022-10-27  446943007    24    31   \n",
       "3  1        태용종합건설(주)  ...  2021-12-29  2022-08-09  256336328    14    46   \n",
       "4  1     희망인력건설산업주식회사  ...  2022-07-25  2022-07-25   12663894     1     1   \n",
       "\n",
       "   계좌번호수  지급건수  사건수  반의사불벌사건수   처리기관  \n",
       "0     84    88   46      19.0  서 울 청  \n",
       "1     29    29   23      17.0  서 울 청  \n",
       "2     31    31   48      15.0  서 울 청  \n",
       "3     46    46   22      14.0   서울강남  \n",
       "4      1     1   39       5.0  서 울 청  \n",
       "\n",
       "[5 rows x 23 columns]"
      ]
     },
     "execution_count": 8,
     "metadata": {},
     "output_type": "execute_result"
    }
   ],
   "source": [
    "data.head()"
   ]
  },
  {
   "cell_type": "code",
   "execution_count": 35,
   "metadata": {},
   "outputs": [],
   "source": [
    "# data 중에서 data_temp 추출\n",
    "data_temp = data.loc[:, ['대지급금지급액', '대지급금지급인원', '체불액', '접수일자수', '순청구인수', '지급건수', '사건수', '반의사불벌사건수', '최초지급일', '최근지급일', 'y']]"
   ]
  },
  {
   "cell_type": "code",
   "execution_count": 36,
   "metadata": {},
   "outputs": [
    {
     "data": {
      "text/html": [
       "<div>\n",
       "<style scoped>\n",
       "    .dataframe tbody tr th:only-of-type {\n",
       "        vertical-align: middle;\n",
       "    }\n",
       "\n",
       "    .dataframe tbody tr th {\n",
       "        vertical-align: top;\n",
       "    }\n",
       "\n",
       "    .dataframe thead th {\n",
       "        text-align: right;\n",
       "    }\n",
       "</style>\n",
       "<table border=\"1\" class=\"dataframe\">\n",
       "  <thead>\n",
       "    <tr style=\"text-align: right;\">\n",
       "      <th></th>\n",
       "      <th>대지급금지급액</th>\n",
       "      <th>대지급금지급인원</th>\n",
       "      <th>체불액</th>\n",
       "      <th>접수일자수</th>\n",
       "      <th>순청구인수</th>\n",
       "      <th>지급건수</th>\n",
       "      <th>사건수</th>\n",
       "      <th>반의사불벌사건수</th>\n",
       "      <th>최초지급일</th>\n",
       "      <th>최근지급일</th>\n",
       "      <th>y</th>\n",
       "      <th>최초지급일2</th>\n",
       "      <th>최근지급일2</th>\n",
       "      <th>지급기간</th>\n",
       "    </tr>\n",
       "  </thead>\n",
       "  <tbody>\n",
       "    <tr>\n",
       "      <th>0</th>\n",
       "      <td>158453240</td>\n",
       "      <td>43</td>\n",
       "      <td>370652622</td>\n",
       "      <td>76</td>\n",
       "      <td>83</td>\n",
       "      <td>88</td>\n",
       "      <td>46</td>\n",
       "      <td>19.0</td>\n",
       "      <td>2016-10-04</td>\n",
       "      <td>2022-08-26</td>\n",
       "      <td>0</td>\n",
       "      <td>2016-10-04</td>\n",
       "      <td>2022-08-26</td>\n",
       "      <td>2152</td>\n",
       "    </tr>\n",
       "    <tr>\n",
       "      <th>1</th>\n",
       "      <td>203154940</td>\n",
       "      <td>29</td>\n",
       "      <td>276061169</td>\n",
       "      <td>17</td>\n",
       "      <td>29</td>\n",
       "      <td>29</td>\n",
       "      <td>23</td>\n",
       "      <td>17.0</td>\n",
       "      <td>2021-08-25</td>\n",
       "      <td>2022-02-09</td>\n",
       "      <td>0</td>\n",
       "      <td>2021-08-25</td>\n",
       "      <td>2022-02-09</td>\n",
       "      <td>168</td>\n",
       "    </tr>\n",
       "    <tr>\n",
       "      <th>2</th>\n",
       "      <td>213242450</td>\n",
       "      <td>23</td>\n",
       "      <td>446943007</td>\n",
       "      <td>24</td>\n",
       "      <td>31</td>\n",
       "      <td>31</td>\n",
       "      <td>48</td>\n",
       "      <td>15.0</td>\n",
       "      <td>2021-10-25</td>\n",
       "      <td>2022-10-27</td>\n",
       "      <td>0</td>\n",
       "      <td>2021-10-25</td>\n",
       "      <td>2022-10-27</td>\n",
       "      <td>367</td>\n",
       "    </tr>\n",
       "    <tr>\n",
       "      <th>3</th>\n",
       "      <td>236408748</td>\n",
       "      <td>40</td>\n",
       "      <td>256336328</td>\n",
       "      <td>14</td>\n",
       "      <td>46</td>\n",
       "      <td>46</td>\n",
       "      <td>22</td>\n",
       "      <td>14.0</td>\n",
       "      <td>2021-12-29</td>\n",
       "      <td>2022-08-09</td>\n",
       "      <td>1</td>\n",
       "      <td>2021-12-29</td>\n",
       "      <td>2022-08-09</td>\n",
       "      <td>223</td>\n",
       "    </tr>\n",
       "    <tr>\n",
       "      <th>4</th>\n",
       "      <td>61087500</td>\n",
       "      <td>5</td>\n",
       "      <td>12663894</td>\n",
       "      <td>1</td>\n",
       "      <td>1</td>\n",
       "      <td>1</td>\n",
       "      <td>39</td>\n",
       "      <td>5.0</td>\n",
       "      <td>2022-07-25</td>\n",
       "      <td>2022-07-25</td>\n",
       "      <td>1</td>\n",
       "      <td>2022-07-25</td>\n",
       "      <td>2022-07-25</td>\n",
       "      <td>0</td>\n",
       "    </tr>\n",
       "  </tbody>\n",
       "</table>\n",
       "</div>"
      ],
      "text/plain": [
       "     대지급금지급액  대지급금지급인원        체불액  접수일자수  순청구인수  지급건수  사건수  반의사불벌사건수  \\\n",
       "0  158453240        43  370652622     76     83    88   46      19.0   \n",
       "1  203154940        29  276061169     17     29    29   23      17.0   \n",
       "2  213242450        23  446943007     24     31    31   48      15.0   \n",
       "3  236408748        40  256336328     14     46    46   22      14.0   \n",
       "4   61087500         5   12663894      1      1     1   39       5.0   \n",
       "\n",
       "        최초지급일       최근지급일  y     최초지급일2     최근지급일2  지급기간  \n",
       "0  2016-10-04  2022-08-26  0 2016-10-04 2022-08-26  2152  \n",
       "1  2021-08-25  2022-02-09  0 2021-08-25 2022-02-09   168  \n",
       "2  2021-10-25  2022-10-27  0 2021-10-25 2022-10-27   367  \n",
       "3  2021-12-29  2022-08-09  1 2021-12-29 2022-08-09   223  \n",
       "4  2022-07-25  2022-07-25  1 2022-07-25 2022-07-25     0  "
      ]
     },
     "execution_count": 36,
     "metadata": {},
     "output_type": "execute_result"
    }
   ],
   "source": [
    "# data_temp에 지급기간 컬럼 추가\n",
    "data_temp['최초지급일2'] = pd.to_datetime(data_temp['최초지급일'], format='%Y-%m-%d')\n",
    "data_temp['최근지급일2'] = pd.to_datetime(data_temp['최근지급일'], format='%Y-%m-%d')\n",
    "data_temp['지급기간'] = (data_temp['최근지급일2'] - data_temp['최초지급일2']).dt.days\n",
    "data_temp.head()"
   ]
  },
  {
   "cell_type": "code",
   "execution_count": 37,
   "metadata": {},
   "outputs": [
    {
     "data": {
      "text/html": [
       "<div>\n",
       "<style scoped>\n",
       "    .dataframe tbody tr th:only-of-type {\n",
       "        vertical-align: middle;\n",
       "    }\n",
       "\n",
       "    .dataframe tbody tr th {\n",
       "        vertical-align: top;\n",
       "    }\n",
       "\n",
       "    .dataframe thead th {\n",
       "        text-align: right;\n",
       "    }\n",
       "</style>\n",
       "<table border=\"1\" class=\"dataframe\">\n",
       "  <thead>\n",
       "    <tr style=\"text-align: right;\">\n",
       "      <th></th>\n",
       "      <th>대지급금지급액</th>\n",
       "      <th>대지급금지급인원</th>\n",
       "      <th>체불액</th>\n",
       "      <th>접수일자수</th>\n",
       "      <th>순청구인수</th>\n",
       "      <th>지급건수</th>\n",
       "      <th>사건수</th>\n",
       "      <th>반의사불벌사건수</th>\n",
       "      <th>최초지급일</th>\n",
       "      <th>최근지급일</th>\n",
       "      <th>y</th>\n",
       "      <th>최초지급일2</th>\n",
       "      <th>최근지급일2</th>\n",
       "      <th>지급기간</th>\n",
       "      <th>대지급금지급비율</th>\n",
       "      <th>반의사불벌비율</th>\n",
       "    </tr>\n",
       "  </thead>\n",
       "  <tbody>\n",
       "    <tr>\n",
       "      <th>0</th>\n",
       "      <td>158453240</td>\n",
       "      <td>43</td>\n",
       "      <td>370652622</td>\n",
       "      <td>76</td>\n",
       "      <td>83</td>\n",
       "      <td>88</td>\n",
       "      <td>46</td>\n",
       "      <td>19.0</td>\n",
       "      <td>2016-10-04</td>\n",
       "      <td>2022-08-26</td>\n",
       "      <td>0</td>\n",
       "      <td>2016-10-04</td>\n",
       "      <td>2022-08-26</td>\n",
       "      <td>2152</td>\n",
       "      <td>0.427498</td>\n",
       "      <td>0.413043</td>\n",
       "    </tr>\n",
       "    <tr>\n",
       "      <th>1</th>\n",
       "      <td>203154940</td>\n",
       "      <td>29</td>\n",
       "      <td>276061169</td>\n",
       "      <td>17</td>\n",
       "      <td>29</td>\n",
       "      <td>29</td>\n",
       "      <td>23</td>\n",
       "      <td>17.0</td>\n",
       "      <td>2021-08-25</td>\n",
       "      <td>2022-02-09</td>\n",
       "      <td>0</td>\n",
       "      <td>2021-08-25</td>\n",
       "      <td>2022-02-09</td>\n",
       "      <td>168</td>\n",
       "      <td>0.735906</td>\n",
       "      <td>0.739130</td>\n",
       "    </tr>\n",
       "    <tr>\n",
       "      <th>2</th>\n",
       "      <td>213242450</td>\n",
       "      <td>23</td>\n",
       "      <td>446943007</td>\n",
       "      <td>24</td>\n",
       "      <td>31</td>\n",
       "      <td>31</td>\n",
       "      <td>48</td>\n",
       "      <td>15.0</td>\n",
       "      <td>2021-10-25</td>\n",
       "      <td>2022-10-27</td>\n",
       "      <td>0</td>\n",
       "      <td>2021-10-25</td>\n",
       "      <td>2022-10-27</td>\n",
       "      <td>367</td>\n",
       "      <td>0.477113</td>\n",
       "      <td>0.312500</td>\n",
       "    </tr>\n",
       "    <tr>\n",
       "      <th>3</th>\n",
       "      <td>236408748</td>\n",
       "      <td>40</td>\n",
       "      <td>256336328</td>\n",
       "      <td>14</td>\n",
       "      <td>46</td>\n",
       "      <td>46</td>\n",
       "      <td>22</td>\n",
       "      <td>14.0</td>\n",
       "      <td>2021-12-29</td>\n",
       "      <td>2022-08-09</td>\n",
       "      <td>1</td>\n",
       "      <td>2021-12-29</td>\n",
       "      <td>2022-08-09</td>\n",
       "      <td>223</td>\n",
       "      <td>0.922260</td>\n",
       "      <td>0.636364</td>\n",
       "    </tr>\n",
       "    <tr>\n",
       "      <th>4</th>\n",
       "      <td>61087500</td>\n",
       "      <td>5</td>\n",
       "      <td>12663894</td>\n",
       "      <td>1</td>\n",
       "      <td>1</td>\n",
       "      <td>1</td>\n",
       "      <td>39</td>\n",
       "      <td>5.0</td>\n",
       "      <td>2022-07-25</td>\n",
       "      <td>2022-07-25</td>\n",
       "      <td>1</td>\n",
       "      <td>2022-07-25</td>\n",
       "      <td>2022-07-25</td>\n",
       "      <td>0</td>\n",
       "      <td>4.823753</td>\n",
       "      <td>0.128205</td>\n",
       "    </tr>\n",
       "  </tbody>\n",
       "</table>\n",
       "</div>"
      ],
      "text/plain": [
       "     대지급금지급액  대지급금지급인원        체불액  접수일자수  순청구인수  지급건수  사건수  반의사불벌사건수  \\\n",
       "0  158453240        43  370652622     76     83    88   46      19.0   \n",
       "1  203154940        29  276061169     17     29    29   23      17.0   \n",
       "2  213242450        23  446943007     24     31    31   48      15.0   \n",
       "3  236408748        40  256336328     14     46    46   22      14.0   \n",
       "4   61087500         5   12663894      1      1     1   39       5.0   \n",
       "\n",
       "        최초지급일       최근지급일  y     최초지급일2     최근지급일2  지급기간  대지급금지급비율   반의사불벌비율  \n",
       "0  2016-10-04  2022-08-26  0 2016-10-04 2022-08-26  2152  0.427498  0.413043  \n",
       "1  2021-08-25  2022-02-09  0 2021-08-25 2022-02-09   168  0.735906  0.739130  \n",
       "2  2021-10-25  2022-10-27  0 2021-10-25 2022-10-27   367  0.477113  0.312500  \n",
       "3  2021-12-29  2022-08-09  1 2021-12-29 2022-08-09   223  0.922260  0.636364  \n",
       "4  2022-07-25  2022-07-25  1 2022-07-25 2022-07-25     0  4.823753  0.128205  "
      ]
     },
     "execution_count": 37,
     "metadata": {},
     "output_type": "execute_result"
    }
   ],
   "source": [
    "# data_temp에 대지급금지급비율, 반의사불벌비율 컬럼 추가\n",
    "data_temp['대지급금지급비율'] = data_temp['대지급금지급액'] / data_temp['체불액']\n",
    "data_temp['반의사불벌사건수'] = data_temp['반의사불벌사건수'].fillna(0)\n",
    "data_temp['반의사불벌비율'] = data_temp['반의사불벌사건수'] / data_temp['사건수']\n",
    "data_temp.head()"
   ]
  },
  {
   "cell_type": "code",
   "execution_count": 47,
   "metadata": {},
   "outputs": [],
   "source": [
    "# X, y data 추출\n",
    "X = data_temp.loc[:, ['지급기간']]\n",
    "y = data_temp[['y']]"
   ]
  },
  {
   "cell_type": "code",
   "execution_count": 48,
   "metadata": {},
   "outputs": [
    {
     "data": {
      "application/vnd.plotly.v1+json": {
       "config": {
        "plotlyServerURL": "https://plot.ly"
       },
       "data": [
        {
         "hovertemplate": "지급기간=%{x}<br>y=%{y}<extra></extra>",
         "legendgroup": "",
         "marker": {
          "color": "#636efa",
          "symbol": "circle"
         },
         "mode": "markers",
         "name": "",
         "orientation": "v",
         "showlegend": false,
         "type": "scatter",
         "x": [
          2152,
          168,
          367,
          223,
          0,
          618,
          210,
          377,
          334,
          284,
          544,
          365,
          487,
          888,
          482,
          1420,
          1477,
          397,
          575,
          361,
          222,
          260,
          1024,
          322,
          548,
          129,
          0,
          924,
          684,
          1260,
          416,
          0,
          222,
          791,
          241,
          1890,
          120,
          1629,
          325,
          303,
          297,
          441,
          780,
          206,
          1194,
          488,
          547,
          567,
          343,
          463,
          630,
          483,
          434,
          271,
          567,
          90,
          1038,
          511,
          344,
          0,
          637,
          192,
          1169,
          21,
          1129,
          1407,
          358,
          155,
          509,
          403,
          341,
          0,
          770,
          243,
          276,
          0,
          2,
          0,
          1018,
          49,
          717,
          0,
          1280,
          6,
          1075,
          1023,
          610,
          15,
          488,
          361,
          267,
          2186,
          917,
          971,
          214,
          1514,
          7,
          1026,
          230,
          160,
          486,
          1527,
          1162,
          205
         ],
         "xaxis": "x",
         "y": [
          0,
          0,
          0,
          1,
          1,
          0,
          0,
          0,
          0,
          0,
          0,
          0,
          0,
          0,
          1,
          0,
          1,
          1,
          1,
          0,
          1,
          0,
          0,
          0,
          0,
          0,
          0,
          0,
          1,
          0,
          0,
          1,
          0,
          0,
          0,
          0,
          0,
          0,
          0,
          0,
          0,
          0,
          0,
          0,
          0,
          0,
          0,
          0,
          0,
          0,
          0,
          0,
          0,
          0,
          0,
          0,
          0,
          0,
          1,
          0,
          0,
          0,
          1,
          1,
          0,
          0,
          0,
          0,
          0,
          0,
          1,
          0,
          0,
          0,
          0,
          0,
          0,
          0,
          0,
          0,
          0,
          1,
          0,
          0,
          0,
          1,
          1,
          1,
          0,
          0,
          0,
          0,
          0,
          0,
          1,
          0,
          1,
          0,
          0,
          0,
          0,
          0,
          0,
          0
         ],
         "yaxis": "y"
        }
       ],
       "layout": {
        "legend": {
         "tracegroupgap": 0
        },
        "margin": {
         "t": 60
        },
        "template": {
         "data": {
          "bar": [
           {
            "error_x": {
             "color": "#2a3f5f"
            },
            "error_y": {
             "color": "#2a3f5f"
            },
            "marker": {
             "line": {
              "color": "#E5ECF6",
              "width": 0.5
             },
             "pattern": {
              "fillmode": "overlay",
              "size": 10,
              "solidity": 0.2
             }
            },
            "type": "bar"
           }
          ],
          "barpolar": [
           {
            "marker": {
             "line": {
              "color": "#E5ECF6",
              "width": 0.5
             },
             "pattern": {
              "fillmode": "overlay",
              "size": 10,
              "solidity": 0.2
             }
            },
            "type": "barpolar"
           }
          ],
          "carpet": [
           {
            "aaxis": {
             "endlinecolor": "#2a3f5f",
             "gridcolor": "white",
             "linecolor": "white",
             "minorgridcolor": "white",
             "startlinecolor": "#2a3f5f"
            },
            "baxis": {
             "endlinecolor": "#2a3f5f",
             "gridcolor": "white",
             "linecolor": "white",
             "minorgridcolor": "white",
             "startlinecolor": "#2a3f5f"
            },
            "type": "carpet"
           }
          ],
          "choropleth": [
           {
            "colorbar": {
             "outlinewidth": 0,
             "ticks": ""
            },
            "type": "choropleth"
           }
          ],
          "contour": [
           {
            "colorbar": {
             "outlinewidth": 0,
             "ticks": ""
            },
            "colorscale": [
             [
              0,
              "#0d0887"
             ],
             [
              0.1111111111111111,
              "#46039f"
             ],
             [
              0.2222222222222222,
              "#7201a8"
             ],
             [
              0.3333333333333333,
              "#9c179e"
             ],
             [
              0.4444444444444444,
              "#bd3786"
             ],
             [
              0.5555555555555556,
              "#d8576b"
             ],
             [
              0.6666666666666666,
              "#ed7953"
             ],
             [
              0.7777777777777778,
              "#fb9f3a"
             ],
             [
              0.8888888888888888,
              "#fdca26"
             ],
             [
              1,
              "#f0f921"
             ]
            ],
            "type": "contour"
           }
          ],
          "contourcarpet": [
           {
            "colorbar": {
             "outlinewidth": 0,
             "ticks": ""
            },
            "type": "contourcarpet"
           }
          ],
          "heatmap": [
           {
            "colorbar": {
             "outlinewidth": 0,
             "ticks": ""
            },
            "colorscale": [
             [
              0,
              "#0d0887"
             ],
             [
              0.1111111111111111,
              "#46039f"
             ],
             [
              0.2222222222222222,
              "#7201a8"
             ],
             [
              0.3333333333333333,
              "#9c179e"
             ],
             [
              0.4444444444444444,
              "#bd3786"
             ],
             [
              0.5555555555555556,
              "#d8576b"
             ],
             [
              0.6666666666666666,
              "#ed7953"
             ],
             [
              0.7777777777777778,
              "#fb9f3a"
             ],
             [
              0.8888888888888888,
              "#fdca26"
             ],
             [
              1,
              "#f0f921"
             ]
            ],
            "type": "heatmap"
           }
          ],
          "heatmapgl": [
           {
            "colorbar": {
             "outlinewidth": 0,
             "ticks": ""
            },
            "colorscale": [
             [
              0,
              "#0d0887"
             ],
             [
              0.1111111111111111,
              "#46039f"
             ],
             [
              0.2222222222222222,
              "#7201a8"
             ],
             [
              0.3333333333333333,
              "#9c179e"
             ],
             [
              0.4444444444444444,
              "#bd3786"
             ],
             [
              0.5555555555555556,
              "#d8576b"
             ],
             [
              0.6666666666666666,
              "#ed7953"
             ],
             [
              0.7777777777777778,
              "#fb9f3a"
             ],
             [
              0.8888888888888888,
              "#fdca26"
             ],
             [
              1,
              "#f0f921"
             ]
            ],
            "type": "heatmapgl"
           }
          ],
          "histogram": [
           {
            "marker": {
             "pattern": {
              "fillmode": "overlay",
              "size": 10,
              "solidity": 0.2
             }
            },
            "type": "histogram"
           }
          ],
          "histogram2d": [
           {
            "colorbar": {
             "outlinewidth": 0,
             "ticks": ""
            },
            "colorscale": [
             [
              0,
              "#0d0887"
             ],
             [
              0.1111111111111111,
              "#46039f"
             ],
             [
              0.2222222222222222,
              "#7201a8"
             ],
             [
              0.3333333333333333,
              "#9c179e"
             ],
             [
              0.4444444444444444,
              "#bd3786"
             ],
             [
              0.5555555555555556,
              "#d8576b"
             ],
             [
              0.6666666666666666,
              "#ed7953"
             ],
             [
              0.7777777777777778,
              "#fb9f3a"
             ],
             [
              0.8888888888888888,
              "#fdca26"
             ],
             [
              1,
              "#f0f921"
             ]
            ],
            "type": "histogram2d"
           }
          ],
          "histogram2dcontour": [
           {
            "colorbar": {
             "outlinewidth": 0,
             "ticks": ""
            },
            "colorscale": [
             [
              0,
              "#0d0887"
             ],
             [
              0.1111111111111111,
              "#46039f"
             ],
             [
              0.2222222222222222,
              "#7201a8"
             ],
             [
              0.3333333333333333,
              "#9c179e"
             ],
             [
              0.4444444444444444,
              "#bd3786"
             ],
             [
              0.5555555555555556,
              "#d8576b"
             ],
             [
              0.6666666666666666,
              "#ed7953"
             ],
             [
              0.7777777777777778,
              "#fb9f3a"
             ],
             [
              0.8888888888888888,
              "#fdca26"
             ],
             [
              1,
              "#f0f921"
             ]
            ],
            "type": "histogram2dcontour"
           }
          ],
          "mesh3d": [
           {
            "colorbar": {
             "outlinewidth": 0,
             "ticks": ""
            },
            "type": "mesh3d"
           }
          ],
          "parcoords": [
           {
            "line": {
             "colorbar": {
              "outlinewidth": 0,
              "ticks": ""
             }
            },
            "type": "parcoords"
           }
          ],
          "pie": [
           {
            "automargin": true,
            "type": "pie"
           }
          ],
          "scatter": [
           {
            "fillpattern": {
             "fillmode": "overlay",
             "size": 10,
             "solidity": 0.2
            },
            "type": "scatter"
           }
          ],
          "scatter3d": [
           {
            "line": {
             "colorbar": {
              "outlinewidth": 0,
              "ticks": ""
             }
            },
            "marker": {
             "colorbar": {
              "outlinewidth": 0,
              "ticks": ""
             }
            },
            "type": "scatter3d"
           }
          ],
          "scattercarpet": [
           {
            "marker": {
             "colorbar": {
              "outlinewidth": 0,
              "ticks": ""
             }
            },
            "type": "scattercarpet"
           }
          ],
          "scattergeo": [
           {
            "marker": {
             "colorbar": {
              "outlinewidth": 0,
              "ticks": ""
             }
            },
            "type": "scattergeo"
           }
          ],
          "scattergl": [
           {
            "marker": {
             "colorbar": {
              "outlinewidth": 0,
              "ticks": ""
             }
            },
            "type": "scattergl"
           }
          ],
          "scattermapbox": [
           {
            "marker": {
             "colorbar": {
              "outlinewidth": 0,
              "ticks": ""
             }
            },
            "type": "scattermapbox"
           }
          ],
          "scatterpolar": [
           {
            "marker": {
             "colorbar": {
              "outlinewidth": 0,
              "ticks": ""
             }
            },
            "type": "scatterpolar"
           }
          ],
          "scatterpolargl": [
           {
            "marker": {
             "colorbar": {
              "outlinewidth": 0,
              "ticks": ""
             }
            },
            "type": "scatterpolargl"
           }
          ],
          "scatterternary": [
           {
            "marker": {
             "colorbar": {
              "outlinewidth": 0,
              "ticks": ""
             }
            },
            "type": "scatterternary"
           }
          ],
          "surface": [
           {
            "colorbar": {
             "outlinewidth": 0,
             "ticks": ""
            },
            "colorscale": [
             [
              0,
              "#0d0887"
             ],
             [
              0.1111111111111111,
              "#46039f"
             ],
             [
              0.2222222222222222,
              "#7201a8"
             ],
             [
              0.3333333333333333,
              "#9c179e"
             ],
             [
              0.4444444444444444,
              "#bd3786"
             ],
             [
              0.5555555555555556,
              "#d8576b"
             ],
             [
              0.6666666666666666,
              "#ed7953"
             ],
             [
              0.7777777777777778,
              "#fb9f3a"
             ],
             [
              0.8888888888888888,
              "#fdca26"
             ],
             [
              1,
              "#f0f921"
             ]
            ],
            "type": "surface"
           }
          ],
          "table": [
           {
            "cells": {
             "fill": {
              "color": "#EBF0F8"
             },
             "line": {
              "color": "white"
             }
            },
            "header": {
             "fill": {
              "color": "#C8D4E3"
             },
             "line": {
              "color": "white"
             }
            },
            "type": "table"
           }
          ]
         },
         "layout": {
          "annotationdefaults": {
           "arrowcolor": "#2a3f5f",
           "arrowhead": 0,
           "arrowwidth": 1
          },
          "autotypenumbers": "strict",
          "coloraxis": {
           "colorbar": {
            "outlinewidth": 0,
            "ticks": ""
           }
          },
          "colorscale": {
           "diverging": [
            [
             0,
             "#8e0152"
            ],
            [
             0.1,
             "#c51b7d"
            ],
            [
             0.2,
             "#de77ae"
            ],
            [
             0.3,
             "#f1b6da"
            ],
            [
             0.4,
             "#fde0ef"
            ],
            [
             0.5,
             "#f7f7f7"
            ],
            [
             0.6,
             "#e6f5d0"
            ],
            [
             0.7,
             "#b8e186"
            ],
            [
             0.8,
             "#7fbc41"
            ],
            [
             0.9,
             "#4d9221"
            ],
            [
             1,
             "#276419"
            ]
           ],
           "sequential": [
            [
             0,
             "#0d0887"
            ],
            [
             0.1111111111111111,
             "#46039f"
            ],
            [
             0.2222222222222222,
             "#7201a8"
            ],
            [
             0.3333333333333333,
             "#9c179e"
            ],
            [
             0.4444444444444444,
             "#bd3786"
            ],
            [
             0.5555555555555556,
             "#d8576b"
            ],
            [
             0.6666666666666666,
             "#ed7953"
            ],
            [
             0.7777777777777778,
             "#fb9f3a"
            ],
            [
             0.8888888888888888,
             "#fdca26"
            ],
            [
             1,
             "#f0f921"
            ]
           ],
           "sequentialminus": [
            [
             0,
             "#0d0887"
            ],
            [
             0.1111111111111111,
             "#46039f"
            ],
            [
             0.2222222222222222,
             "#7201a8"
            ],
            [
             0.3333333333333333,
             "#9c179e"
            ],
            [
             0.4444444444444444,
             "#bd3786"
            ],
            [
             0.5555555555555556,
             "#d8576b"
            ],
            [
             0.6666666666666666,
             "#ed7953"
            ],
            [
             0.7777777777777778,
             "#fb9f3a"
            ],
            [
             0.8888888888888888,
             "#fdca26"
            ],
            [
             1,
             "#f0f921"
            ]
           ]
          },
          "colorway": [
           "#636efa",
           "#EF553B",
           "#00cc96",
           "#ab63fa",
           "#FFA15A",
           "#19d3f3",
           "#FF6692",
           "#B6E880",
           "#FF97FF",
           "#FECB52"
          ],
          "font": {
           "color": "#2a3f5f"
          },
          "geo": {
           "bgcolor": "white",
           "lakecolor": "white",
           "landcolor": "#E5ECF6",
           "showlakes": true,
           "showland": true,
           "subunitcolor": "white"
          },
          "hoverlabel": {
           "align": "left"
          },
          "hovermode": "closest",
          "mapbox": {
           "style": "light"
          },
          "paper_bgcolor": "white",
          "plot_bgcolor": "#E5ECF6",
          "polar": {
           "angularaxis": {
            "gridcolor": "white",
            "linecolor": "white",
            "ticks": ""
           },
           "bgcolor": "#E5ECF6",
           "radialaxis": {
            "gridcolor": "white",
            "linecolor": "white",
            "ticks": ""
           }
          },
          "scene": {
           "xaxis": {
            "backgroundcolor": "#E5ECF6",
            "gridcolor": "white",
            "gridwidth": 2,
            "linecolor": "white",
            "showbackground": true,
            "ticks": "",
            "zerolinecolor": "white"
           },
           "yaxis": {
            "backgroundcolor": "#E5ECF6",
            "gridcolor": "white",
            "gridwidth": 2,
            "linecolor": "white",
            "showbackground": true,
            "ticks": "",
            "zerolinecolor": "white"
           },
           "zaxis": {
            "backgroundcolor": "#E5ECF6",
            "gridcolor": "white",
            "gridwidth": 2,
            "linecolor": "white",
            "showbackground": true,
            "ticks": "",
            "zerolinecolor": "white"
           }
          },
          "shapedefaults": {
           "line": {
            "color": "#2a3f5f"
           }
          },
          "ternary": {
           "aaxis": {
            "gridcolor": "white",
            "linecolor": "white",
            "ticks": ""
           },
           "baxis": {
            "gridcolor": "white",
            "linecolor": "white",
            "ticks": ""
           },
           "bgcolor": "#E5ECF6",
           "caxis": {
            "gridcolor": "white",
            "linecolor": "white",
            "ticks": ""
           }
          },
          "title": {
           "x": 0.05
          },
          "xaxis": {
           "automargin": true,
           "gridcolor": "white",
           "linecolor": "white",
           "ticks": "",
           "title": {
            "standoff": 15
           },
           "zerolinecolor": "white",
           "zerolinewidth": 2
          },
          "yaxis": {
           "automargin": true,
           "gridcolor": "white",
           "linecolor": "white",
           "ticks": "",
           "title": {
            "standoff": 15
           },
           "zerolinecolor": "white",
           "zerolinewidth": 2
          }
         }
        },
        "xaxis": {
         "anchor": "y",
         "domain": [
          0,
          1
         ],
         "title": {
          "text": "지급기간"
         }
        },
        "yaxis": {
         "anchor": "x",
         "domain": [
          0,
          1
         ],
         "title": {
          "text": "y"
         }
        }
       }
      }
     },
     "metadata": {},
     "output_type": "display_data"
    }
   ],
   "source": [
    "fig = px.scatter(data_temp, x='지급기간', y='y')\n",
    "fig.show()"
   ]
  },
  {
   "cell_type": "code",
   "execution_count": 40,
   "metadata": {},
   "outputs": [
    {
     "data": {
      "application/vnd.plotly.v1+json": {
       "config": {
        "plotlyServerURL": "https://plot.ly"
       },
       "data": [
        {
         "hovertemplate": "반의사불벌비율=%{x}<br>y=%{y}<extra></extra>",
         "legendgroup": "",
         "marker": {
          "color": "#636efa",
          "symbol": "circle"
         },
         "mode": "markers",
         "name": "",
         "orientation": "v",
         "showlegend": false,
         "type": "scatter",
         "x": [
          0.41304347826086957,
          0.7391304347826086,
          0.3125,
          0.6363636363636364,
          0.1282051282051282,
          0.29385964912280704,
          0.6951219512195121,
          0.22916666666666666,
          0.34444444444444444,
          0.8103448275862069,
          0.527027027027027,
          0.3877551020408163,
          0.18556701030927836,
          0.6285714285714286,
          0.3333333333333333,
          0.18518518518518517,
          0.34782608695652173,
          0.23076923076923078,
          0.3050847457627119,
          0.74,
          0.21428571428571427,
          0.9111111111111111,
          0.33557046979865773,
          0.41025641025641024,
          0.6976744186046512,
          0.7045454545454546,
          0.8333333333333334,
          0.1891891891891892,
          0.26666666666666666,
          0.4,
          0.375,
          0.25,
          0.7794117647058824,
          0.22972972972972974,
          0,
          0.0625,
          0.6666666666666666,
          0.2222222222222222,
          0.30180180180180183,
          0.3225806451612903,
          0.1,
          0.7857142857142857,
          0.2727272727272727,
          0.8125,
          0.1,
          0.5476190476190477,
          0.17647058823529413,
          0.16666666666666666,
          0.3333333333333333,
          0.16,
          0,
          0.16666666666666666,
          0.38461538461538464,
          0.3333333333333333,
          0.3880597014925373,
          0.25,
          0.546875,
          0.6086956521739131,
          0.6,
          0,
          0.21153846153846154,
          0,
          0.2714285714285714,
          0,
          0.2727272727272727,
          0.06521739130434782,
          0.07142857142857142,
          0.5,
          0,
          0.1111111111111111,
          0,
          0,
          0.2222222222222222,
          0.1702127659574468,
          0,
          1,
          0,
          0.16666666666666666,
          0.35384615384615387,
          0.8275862068965517,
          0.2222222222222222,
          0,
          0,
          0.4,
          0.7428571428571429,
          0.5111111111111111,
          0.21052631578947367,
          0.5714285714285714,
          0.32857142857142857,
          0.6,
          0.7254901960784313,
          0.2577639751552795,
          0.07627118644067797,
          0.14606741573033707,
          0.7692307692307693,
          0.26229508196721313,
          0.8,
          0.4166666666666667,
          0.9528795811518325,
          0.6666666666666666,
          0.5254237288135594,
          0,
          0.3488372093023256,
          0.4117647058823529
         ],
         "xaxis": "x",
         "y": [
          0,
          0,
          0,
          1,
          1,
          0,
          0,
          0,
          0,
          0,
          0,
          0,
          0,
          0,
          1,
          0,
          1,
          1,
          1,
          0,
          1,
          0,
          0,
          0,
          0,
          0,
          0,
          0,
          1,
          0,
          0,
          1,
          0,
          0,
          0,
          0,
          0,
          0,
          0,
          0,
          0,
          0,
          0,
          0,
          0,
          0,
          0,
          0,
          0,
          0,
          0,
          0,
          0,
          0,
          0,
          0,
          0,
          0,
          1,
          0,
          0,
          0,
          1,
          1,
          0,
          0,
          0,
          0,
          0,
          0,
          1,
          0,
          0,
          0,
          0,
          0,
          0,
          0,
          0,
          0,
          0,
          1,
          0,
          0,
          0,
          1,
          1,
          1,
          0,
          0,
          0,
          0,
          0,
          0,
          1,
          0,
          1,
          0,
          0,
          0,
          0,
          0,
          0,
          0
         ],
         "yaxis": "y"
        }
       ],
       "layout": {
        "legend": {
         "tracegroupgap": 0
        },
        "margin": {
         "t": 60
        },
        "template": {
         "data": {
          "bar": [
           {
            "error_x": {
             "color": "#2a3f5f"
            },
            "error_y": {
             "color": "#2a3f5f"
            },
            "marker": {
             "line": {
              "color": "#E5ECF6",
              "width": 0.5
             },
             "pattern": {
              "fillmode": "overlay",
              "size": 10,
              "solidity": 0.2
             }
            },
            "type": "bar"
           }
          ],
          "barpolar": [
           {
            "marker": {
             "line": {
              "color": "#E5ECF6",
              "width": 0.5
             },
             "pattern": {
              "fillmode": "overlay",
              "size": 10,
              "solidity": 0.2
             }
            },
            "type": "barpolar"
           }
          ],
          "carpet": [
           {
            "aaxis": {
             "endlinecolor": "#2a3f5f",
             "gridcolor": "white",
             "linecolor": "white",
             "minorgridcolor": "white",
             "startlinecolor": "#2a3f5f"
            },
            "baxis": {
             "endlinecolor": "#2a3f5f",
             "gridcolor": "white",
             "linecolor": "white",
             "minorgridcolor": "white",
             "startlinecolor": "#2a3f5f"
            },
            "type": "carpet"
           }
          ],
          "choropleth": [
           {
            "colorbar": {
             "outlinewidth": 0,
             "ticks": ""
            },
            "type": "choropleth"
           }
          ],
          "contour": [
           {
            "colorbar": {
             "outlinewidth": 0,
             "ticks": ""
            },
            "colorscale": [
             [
              0,
              "#0d0887"
             ],
             [
              0.1111111111111111,
              "#46039f"
             ],
             [
              0.2222222222222222,
              "#7201a8"
             ],
             [
              0.3333333333333333,
              "#9c179e"
             ],
             [
              0.4444444444444444,
              "#bd3786"
             ],
             [
              0.5555555555555556,
              "#d8576b"
             ],
             [
              0.6666666666666666,
              "#ed7953"
             ],
             [
              0.7777777777777778,
              "#fb9f3a"
             ],
             [
              0.8888888888888888,
              "#fdca26"
             ],
             [
              1,
              "#f0f921"
             ]
            ],
            "type": "contour"
           }
          ],
          "contourcarpet": [
           {
            "colorbar": {
             "outlinewidth": 0,
             "ticks": ""
            },
            "type": "contourcarpet"
           }
          ],
          "heatmap": [
           {
            "colorbar": {
             "outlinewidth": 0,
             "ticks": ""
            },
            "colorscale": [
             [
              0,
              "#0d0887"
             ],
             [
              0.1111111111111111,
              "#46039f"
             ],
             [
              0.2222222222222222,
              "#7201a8"
             ],
             [
              0.3333333333333333,
              "#9c179e"
             ],
             [
              0.4444444444444444,
              "#bd3786"
             ],
             [
              0.5555555555555556,
              "#d8576b"
             ],
             [
              0.6666666666666666,
              "#ed7953"
             ],
             [
              0.7777777777777778,
              "#fb9f3a"
             ],
             [
              0.8888888888888888,
              "#fdca26"
             ],
             [
              1,
              "#f0f921"
             ]
            ],
            "type": "heatmap"
           }
          ],
          "heatmapgl": [
           {
            "colorbar": {
             "outlinewidth": 0,
             "ticks": ""
            },
            "colorscale": [
             [
              0,
              "#0d0887"
             ],
             [
              0.1111111111111111,
              "#46039f"
             ],
             [
              0.2222222222222222,
              "#7201a8"
             ],
             [
              0.3333333333333333,
              "#9c179e"
             ],
             [
              0.4444444444444444,
              "#bd3786"
             ],
             [
              0.5555555555555556,
              "#d8576b"
             ],
             [
              0.6666666666666666,
              "#ed7953"
             ],
             [
              0.7777777777777778,
              "#fb9f3a"
             ],
             [
              0.8888888888888888,
              "#fdca26"
             ],
             [
              1,
              "#f0f921"
             ]
            ],
            "type": "heatmapgl"
           }
          ],
          "histogram": [
           {
            "marker": {
             "pattern": {
              "fillmode": "overlay",
              "size": 10,
              "solidity": 0.2
             }
            },
            "type": "histogram"
           }
          ],
          "histogram2d": [
           {
            "colorbar": {
             "outlinewidth": 0,
             "ticks": ""
            },
            "colorscale": [
             [
              0,
              "#0d0887"
             ],
             [
              0.1111111111111111,
              "#46039f"
             ],
             [
              0.2222222222222222,
              "#7201a8"
             ],
             [
              0.3333333333333333,
              "#9c179e"
             ],
             [
              0.4444444444444444,
              "#bd3786"
             ],
             [
              0.5555555555555556,
              "#d8576b"
             ],
             [
              0.6666666666666666,
              "#ed7953"
             ],
             [
              0.7777777777777778,
              "#fb9f3a"
             ],
             [
              0.8888888888888888,
              "#fdca26"
             ],
             [
              1,
              "#f0f921"
             ]
            ],
            "type": "histogram2d"
           }
          ],
          "histogram2dcontour": [
           {
            "colorbar": {
             "outlinewidth": 0,
             "ticks": ""
            },
            "colorscale": [
             [
              0,
              "#0d0887"
             ],
             [
              0.1111111111111111,
              "#46039f"
             ],
             [
              0.2222222222222222,
              "#7201a8"
             ],
             [
              0.3333333333333333,
              "#9c179e"
             ],
             [
              0.4444444444444444,
              "#bd3786"
             ],
             [
              0.5555555555555556,
              "#d8576b"
             ],
             [
              0.6666666666666666,
              "#ed7953"
             ],
             [
              0.7777777777777778,
              "#fb9f3a"
             ],
             [
              0.8888888888888888,
              "#fdca26"
             ],
             [
              1,
              "#f0f921"
             ]
            ],
            "type": "histogram2dcontour"
           }
          ],
          "mesh3d": [
           {
            "colorbar": {
             "outlinewidth": 0,
             "ticks": ""
            },
            "type": "mesh3d"
           }
          ],
          "parcoords": [
           {
            "line": {
             "colorbar": {
              "outlinewidth": 0,
              "ticks": ""
             }
            },
            "type": "parcoords"
           }
          ],
          "pie": [
           {
            "automargin": true,
            "type": "pie"
           }
          ],
          "scatter": [
           {
            "fillpattern": {
             "fillmode": "overlay",
             "size": 10,
             "solidity": 0.2
            },
            "type": "scatter"
           }
          ],
          "scatter3d": [
           {
            "line": {
             "colorbar": {
              "outlinewidth": 0,
              "ticks": ""
             }
            },
            "marker": {
             "colorbar": {
              "outlinewidth": 0,
              "ticks": ""
             }
            },
            "type": "scatter3d"
           }
          ],
          "scattercarpet": [
           {
            "marker": {
             "colorbar": {
              "outlinewidth": 0,
              "ticks": ""
             }
            },
            "type": "scattercarpet"
           }
          ],
          "scattergeo": [
           {
            "marker": {
             "colorbar": {
              "outlinewidth": 0,
              "ticks": ""
             }
            },
            "type": "scattergeo"
           }
          ],
          "scattergl": [
           {
            "marker": {
             "colorbar": {
              "outlinewidth": 0,
              "ticks": ""
             }
            },
            "type": "scattergl"
           }
          ],
          "scattermapbox": [
           {
            "marker": {
             "colorbar": {
              "outlinewidth": 0,
              "ticks": ""
             }
            },
            "type": "scattermapbox"
           }
          ],
          "scatterpolar": [
           {
            "marker": {
             "colorbar": {
              "outlinewidth": 0,
              "ticks": ""
             }
            },
            "type": "scatterpolar"
           }
          ],
          "scatterpolargl": [
           {
            "marker": {
             "colorbar": {
              "outlinewidth": 0,
              "ticks": ""
             }
            },
            "type": "scatterpolargl"
           }
          ],
          "scatterternary": [
           {
            "marker": {
             "colorbar": {
              "outlinewidth": 0,
              "ticks": ""
             }
            },
            "type": "scatterternary"
           }
          ],
          "surface": [
           {
            "colorbar": {
             "outlinewidth": 0,
             "ticks": ""
            },
            "colorscale": [
             [
              0,
              "#0d0887"
             ],
             [
              0.1111111111111111,
              "#46039f"
             ],
             [
              0.2222222222222222,
              "#7201a8"
             ],
             [
              0.3333333333333333,
              "#9c179e"
             ],
             [
              0.4444444444444444,
              "#bd3786"
             ],
             [
              0.5555555555555556,
              "#d8576b"
             ],
             [
              0.6666666666666666,
              "#ed7953"
             ],
             [
              0.7777777777777778,
              "#fb9f3a"
             ],
             [
              0.8888888888888888,
              "#fdca26"
             ],
             [
              1,
              "#f0f921"
             ]
            ],
            "type": "surface"
           }
          ],
          "table": [
           {
            "cells": {
             "fill": {
              "color": "#EBF0F8"
             },
             "line": {
              "color": "white"
             }
            },
            "header": {
             "fill": {
              "color": "#C8D4E3"
             },
             "line": {
              "color": "white"
             }
            },
            "type": "table"
           }
          ]
         },
         "layout": {
          "annotationdefaults": {
           "arrowcolor": "#2a3f5f",
           "arrowhead": 0,
           "arrowwidth": 1
          },
          "autotypenumbers": "strict",
          "coloraxis": {
           "colorbar": {
            "outlinewidth": 0,
            "ticks": ""
           }
          },
          "colorscale": {
           "diverging": [
            [
             0,
             "#8e0152"
            ],
            [
             0.1,
             "#c51b7d"
            ],
            [
             0.2,
             "#de77ae"
            ],
            [
             0.3,
             "#f1b6da"
            ],
            [
             0.4,
             "#fde0ef"
            ],
            [
             0.5,
             "#f7f7f7"
            ],
            [
             0.6,
             "#e6f5d0"
            ],
            [
             0.7,
             "#b8e186"
            ],
            [
             0.8,
             "#7fbc41"
            ],
            [
             0.9,
             "#4d9221"
            ],
            [
             1,
             "#276419"
            ]
           ],
           "sequential": [
            [
             0,
             "#0d0887"
            ],
            [
             0.1111111111111111,
             "#46039f"
            ],
            [
             0.2222222222222222,
             "#7201a8"
            ],
            [
             0.3333333333333333,
             "#9c179e"
            ],
            [
             0.4444444444444444,
             "#bd3786"
            ],
            [
             0.5555555555555556,
             "#d8576b"
            ],
            [
             0.6666666666666666,
             "#ed7953"
            ],
            [
             0.7777777777777778,
             "#fb9f3a"
            ],
            [
             0.8888888888888888,
             "#fdca26"
            ],
            [
             1,
             "#f0f921"
            ]
           ],
           "sequentialminus": [
            [
             0,
             "#0d0887"
            ],
            [
             0.1111111111111111,
             "#46039f"
            ],
            [
             0.2222222222222222,
             "#7201a8"
            ],
            [
             0.3333333333333333,
             "#9c179e"
            ],
            [
             0.4444444444444444,
             "#bd3786"
            ],
            [
             0.5555555555555556,
             "#d8576b"
            ],
            [
             0.6666666666666666,
             "#ed7953"
            ],
            [
             0.7777777777777778,
             "#fb9f3a"
            ],
            [
             0.8888888888888888,
             "#fdca26"
            ],
            [
             1,
             "#f0f921"
            ]
           ]
          },
          "colorway": [
           "#636efa",
           "#EF553B",
           "#00cc96",
           "#ab63fa",
           "#FFA15A",
           "#19d3f3",
           "#FF6692",
           "#B6E880",
           "#FF97FF",
           "#FECB52"
          ],
          "font": {
           "color": "#2a3f5f"
          },
          "geo": {
           "bgcolor": "white",
           "lakecolor": "white",
           "landcolor": "#E5ECF6",
           "showlakes": true,
           "showland": true,
           "subunitcolor": "white"
          },
          "hoverlabel": {
           "align": "left"
          },
          "hovermode": "closest",
          "mapbox": {
           "style": "light"
          },
          "paper_bgcolor": "white",
          "plot_bgcolor": "#E5ECF6",
          "polar": {
           "angularaxis": {
            "gridcolor": "white",
            "linecolor": "white",
            "ticks": ""
           },
           "bgcolor": "#E5ECF6",
           "radialaxis": {
            "gridcolor": "white",
            "linecolor": "white",
            "ticks": ""
           }
          },
          "scene": {
           "xaxis": {
            "backgroundcolor": "#E5ECF6",
            "gridcolor": "white",
            "gridwidth": 2,
            "linecolor": "white",
            "showbackground": true,
            "ticks": "",
            "zerolinecolor": "white"
           },
           "yaxis": {
            "backgroundcolor": "#E5ECF6",
            "gridcolor": "white",
            "gridwidth": 2,
            "linecolor": "white",
            "showbackground": true,
            "ticks": "",
            "zerolinecolor": "white"
           },
           "zaxis": {
            "backgroundcolor": "#E5ECF6",
            "gridcolor": "white",
            "gridwidth": 2,
            "linecolor": "white",
            "showbackground": true,
            "ticks": "",
            "zerolinecolor": "white"
           }
          },
          "shapedefaults": {
           "line": {
            "color": "#2a3f5f"
           }
          },
          "ternary": {
           "aaxis": {
            "gridcolor": "white",
            "linecolor": "white",
            "ticks": ""
           },
           "baxis": {
            "gridcolor": "white",
            "linecolor": "white",
            "ticks": ""
           },
           "bgcolor": "#E5ECF6",
           "caxis": {
            "gridcolor": "white",
            "linecolor": "white",
            "ticks": ""
           }
          },
          "title": {
           "x": 0.05
          },
          "xaxis": {
           "automargin": true,
           "gridcolor": "white",
           "linecolor": "white",
           "ticks": "",
           "title": {
            "standoff": 15
           },
           "zerolinecolor": "white",
           "zerolinewidth": 2
          },
          "yaxis": {
           "automargin": true,
           "gridcolor": "white",
           "linecolor": "white",
           "ticks": "",
           "title": {
            "standoff": 15
           },
           "zerolinecolor": "white",
           "zerolinewidth": 2
          }
         }
        },
        "xaxis": {
         "anchor": "y",
         "domain": [
          0,
          1
         ],
         "title": {
          "text": "반의사불벌비율"
         }
        },
        "yaxis": {
         "anchor": "x",
         "domain": [
          0,
          1
         ],
         "title": {
          "text": "y"
         }
        }
       }
      }
     },
     "metadata": {},
     "output_type": "display_data"
    }
   ],
   "source": [
    "fig = px.scatter(data_temp, x='반의사불벌비율', y='y')\n",
    "fig.show()"
   ]
  },
  {
   "cell_type": "code",
   "execution_count": 49,
   "metadata": {},
   "outputs": [],
   "source": [
    "# 학습용 데이터와 테스트용 데이터 구분\n",
    "X_train, X_test, y_train, y_test = train_test_split(X, y)"
   ]
  },
  {
   "cell_type": "code",
   "execution_count": 50,
   "metadata": {},
   "outputs": [],
   "source": [
    "# 훈련데이터 및 테스트데이터 정규화\n",
    "scaler_minmax = MinMaxScaler()\n",
    "scaler_minmax.fit(X_train)\n",
    "X_train_scaled = scaler_minmax.transform(X_train)\n",
    "X_test_scaled = scaler_minmax.transform(X_test)"
   ]
  },
  {
   "cell_type": "code",
   "execution_count": 51,
   "metadata": {},
   "outputs": [
    {
     "name": "stderr",
     "output_type": "stream",
     "text": [
      "c:\\Users\\barkl\\AppData\\Local\\Programs\\Python\\Python39\\lib\\site-packages\\sklearn\\utils\\validation.py:1141: DataConversionWarning:\n",
      "\n",
      "A column-vector y was passed when a 1d array was expected. Please change the shape of y to (n_samples, ), for example using ravel().\n",
      "\n"
     ]
    },
    {
     "data": {
      "text/plain": [
       "0.8589743589743589"
      ]
     },
     "execution_count": 51,
     "metadata": {},
     "output_type": "execute_result"
    }
   ],
   "source": [
    "# 로지스틱 리그레션 모델 적용\n",
    "model=LogisticRegression()\n",
    "model.fit(X_train_scaled, y_train)\n",
    "pred_train = model.predict(X_train_scaled)\n",
    "model.score(X_train_scaled, y_train)"
   ]
  },
  {
   "cell_type": "code",
   "execution_count": 52,
   "metadata": {},
   "outputs": [
    {
     "name": "stdout",
     "output_type": "stream",
     "text": [
      "훈련데이터 오차행렬:\n",
      " [[67  0]\n",
      " [11  0]]\n"
     ]
    }
   ],
   "source": [
    "# 훈련데이터 오차정렬\n",
    "confusion_train = confusion_matrix(y_train, pred_train)\n",
    "print(\"훈련데이터 오차행렬:\\n\", confusion_train)"
   ]
  },
  {
   "cell_type": "code",
   "execution_count": 53,
   "metadata": {},
   "outputs": [
    {
     "name": "stdout",
     "output_type": "stream",
     "text": [
      "분류예측 레포트:\n",
      "               precision    recall  f1-score   support\n",
      "\n",
      "           0       0.86      1.00      0.92        67\n",
      "           1       0.00      0.00      0.00        11\n",
      "\n",
      "    accuracy                           0.86        78\n",
      "   macro avg       0.43      0.50      0.46        78\n",
      "weighted avg       0.74      0.86      0.79        78\n",
      "\n"
     ]
    },
    {
     "name": "stderr",
     "output_type": "stream",
     "text": [
      "c:\\Users\\barkl\\AppData\\Local\\Programs\\Python\\Python39\\lib\\site-packages\\sklearn\\metrics\\_classification.py:1344: UndefinedMetricWarning:\n",
      "\n",
      "Precision and F-score are ill-defined and being set to 0.0 in labels with no predicted samples. Use `zero_division` parameter to control this behavior.\n",
      "\n",
      "c:\\Users\\barkl\\AppData\\Local\\Programs\\Python\\Python39\\lib\\site-packages\\sklearn\\metrics\\_classification.py:1344: UndefinedMetricWarning:\n",
      "\n",
      "Precision and F-score are ill-defined and being set to 0.0 in labels with no predicted samples. Use `zero_division` parameter to control this behavior.\n",
      "\n",
      "c:\\Users\\barkl\\AppData\\Local\\Programs\\Python\\Python39\\lib\\site-packages\\sklearn\\metrics\\_classification.py:1344: UndefinedMetricWarning:\n",
      "\n",
      "Precision and F-score are ill-defined and being set to 0.0 in labels with no predicted samples. Use `zero_division` parameter to control this behavior.\n",
      "\n"
     ]
    }
   ],
   "source": [
    "# 훈련데이터 분류예측\n",
    "cfreport_train = classification_report(y_train, pred_train)\n",
    "print(\"분류예측 레포트:\\n\", cfreport_train)"
   ]
  },
  {
   "cell_type": "code",
   "execution_count": 54,
   "metadata": {},
   "outputs": [
    {
     "data": {
      "text/plain": [
       "0.6923076923076923"
      ]
     },
     "execution_count": 54,
     "metadata": {},
     "output_type": "execute_result"
    }
   ],
   "source": [
    "# 테스트 데이터 예측 정확성\n",
    "pred_test = model.predict(X_test_scaled)\n",
    "model.score(X_test_scaled, y_test)"
   ]
  },
  {
   "cell_type": "code",
   "execution_count": 55,
   "metadata": {},
   "outputs": [
    {
     "name": "stdout",
     "output_type": "stream",
     "text": [
      "테스트 데이터 오차행렬:\n",
      " [[18  0]\n",
      " [ 8  0]]\n"
     ]
    }
   ],
   "source": [
    "# 테스트 데이터 오차행렬\n",
    "confusion_test = confusion_matrix(y_test, pred_test)\n",
    "print(\"테스트 데이터 오차행렬:\\n\", confusion_test)"
   ]
  },
  {
   "cell_type": "code",
   "execution_count": 56,
   "metadata": {},
   "outputs": [
    {
     "name": "stdout",
     "output_type": "stream",
     "text": [
      "분류예측 레포트:\n",
      "               precision    recall  f1-score   support\n",
      "\n",
      "           0       0.69      1.00      0.82        18\n",
      "           1       0.00      0.00      0.00         8\n",
      "\n",
      "    accuracy                           0.69        26\n",
      "   macro avg       0.35      0.50      0.41        26\n",
      "weighted avg       0.48      0.69      0.57        26\n",
      "\n"
     ]
    },
    {
     "name": "stderr",
     "output_type": "stream",
     "text": [
      "c:\\Users\\barkl\\AppData\\Local\\Programs\\Python\\Python39\\lib\\site-packages\\sklearn\\metrics\\_classification.py:1344: UndefinedMetricWarning:\n",
      "\n",
      "Precision and F-score are ill-defined and being set to 0.0 in labels with no predicted samples. Use `zero_division` parameter to control this behavior.\n",
      "\n",
      "c:\\Users\\barkl\\AppData\\Local\\Programs\\Python\\Python39\\lib\\site-packages\\sklearn\\metrics\\_classification.py:1344: UndefinedMetricWarning:\n",
      "\n",
      "Precision and F-score are ill-defined and being set to 0.0 in labels with no predicted samples. Use `zero_division` parameter to control this behavior.\n",
      "\n",
      "c:\\Users\\barkl\\AppData\\Local\\Programs\\Python\\Python39\\lib\\site-packages\\sklearn\\metrics\\_classification.py:1344: UndefinedMetricWarning:\n",
      "\n",
      "Precision and F-score are ill-defined and being set to 0.0 in labels with no predicted samples. Use `zero_division` parameter to control this behavior.\n",
      "\n"
     ]
    }
   ],
   "source": [
    "# 테스트 데이터 분류예측\n",
    "cfreport_test = classification_report(y_test, pred_test)\n",
    "print(\"분류예측 레포트:\\n\", cfreport_test)"
   ]
  }
 ],
 "metadata": {
  "kernelspec": {
   "display_name": "Python 3",
   "language": "python",
   "name": "python3"
  },
  "language_info": {
   "codemirror_mode": {
    "name": "ipython",
    "version": 3
   },
   "file_extension": ".py",
   "mimetype": "text/x-python",
   "name": "python",
   "nbconvert_exporter": "python",
   "pygments_lexer": "ipython3",
   "version": "3.9.5"
  },
  "orig_nbformat": 4,
  "vscode": {
   "interpreter": {
    "hash": "2bd5c3bc707f0e23a9c735107545f58c544822c150bac7e9c30a78f56426c474"
   }
  }
 },
 "nbformat": 4,
 "nbformat_minor": 2
}
